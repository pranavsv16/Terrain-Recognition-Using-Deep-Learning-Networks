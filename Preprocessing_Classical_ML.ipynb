{
  "cells": [
    {
      "cell_type": "code",
      "execution_count": null,
      "metadata": {
        "id": "hFsGeKGjNPPW"
      },
      "outputs": [],
      "source": [
        "#import dependencies\n",
        "import pandas as pd\n",
        "import glob"
      ]
    },
    {
      "cell_type": "code",
      "execution_count": null,
      "metadata": {
        "colab": {
          "base_uri": "https://localhost:8080/"
        },
        "id": "Qqoj23f38NkL",
        "outputId": "c2c04e95-a7cf-4b09-a518-ddc37299625e"
      },
      "outputs": [
        {
          "output_type": "stream",
          "name": "stdout",
          "text": [
            "Mounted at /content/drive\n"
          ]
        }
      ],
      "source": [
        "from google.colab import drive\n",
        "drive.mount('/content/drive')"
      ]
    },
    {
      "cell_type": "markdown",
      "metadata": {
        "id": "ZSj5vw85QJrg"
      },
      "source": [
        "# Data Preprocessing"
      ]
    },
    {
      "cell_type": "code",
      "execution_count": null,
      "metadata": {
        "colab": {
          "base_uri": "https://localhost:8080/"
        },
        "id": "JKMyqIPeNPPk",
        "outputId": "b9b86118-1d7d-4b6a-fc38-db3d1519ceb1"
      },
      "outputs": [
        {
          "name": "stdout",
          "output_type": "stream",
          "text": [
            "['/content/drive/MyDrive/NN Dataset/ECE542_sp2022_Project_TerrainRecognition/TrainingData/subject_001_01__x.csv', '/content/drive/MyDrive/NN Dataset/ECE542_sp2022_Project_TerrainRecognition/TrainingData/subject_001_02__x.csv', '/content/drive/MyDrive/NN Dataset/ECE542_sp2022_Project_TerrainRecognition/TrainingData/subject_001_03__x.csv', '/content/drive/MyDrive/NN Dataset/ECE542_sp2022_Project_TerrainRecognition/TrainingData/subject_001_04__x.csv', '/content/drive/MyDrive/NN Dataset/ECE542_sp2022_Project_TerrainRecognition/TrainingData/subject_001_05__x.csv', '/content/drive/MyDrive/NN Dataset/ECE542_sp2022_Project_TerrainRecognition/TrainingData/subject_001_06__x.csv', '/content/drive/MyDrive/NN Dataset/ECE542_sp2022_Project_TerrainRecognition/TrainingData/subject_001_07__x.csv', '/content/drive/MyDrive/NN Dataset/ECE542_sp2022_Project_TerrainRecognition/TrainingData/subject_001_08__x.csv', '/content/drive/MyDrive/NN Dataset/ECE542_sp2022_Project_TerrainRecognition/TrainingData/subject_002_01__x.csv', '/content/drive/MyDrive/NN Dataset/ECE542_sp2022_Project_TerrainRecognition/TrainingData/subject_002_02__x.csv', '/content/drive/MyDrive/NN Dataset/ECE542_sp2022_Project_TerrainRecognition/TrainingData/subject_002_03__x.csv', '/content/drive/MyDrive/NN Dataset/ECE542_sp2022_Project_TerrainRecognition/TrainingData/subject_002_04__x.csv', '/content/drive/MyDrive/NN Dataset/ECE542_sp2022_Project_TerrainRecognition/TrainingData/subject_002_05__x.csv', '/content/drive/MyDrive/NN Dataset/ECE542_sp2022_Project_TerrainRecognition/TrainingData/subject_003_01__x.csv', '/content/drive/MyDrive/NN Dataset/ECE542_sp2022_Project_TerrainRecognition/TrainingData/subject_003_02__x.csv', '/content/drive/MyDrive/NN Dataset/ECE542_sp2022_Project_TerrainRecognition/TrainingData/subject_003_03__x.csv', '/content/drive/MyDrive/NN Dataset/ECE542_sp2022_Project_TerrainRecognition/TrainingData/subject_004_01__x.csv', '/content/drive/MyDrive/NN Dataset/ECE542_sp2022_Project_TerrainRecognition/TrainingData/subject_004_02__x.csv', '/content/drive/MyDrive/NN Dataset/ECE542_sp2022_Project_TerrainRecognition/TrainingData/subject_005_01__x.csv', '/content/drive/MyDrive/NN Dataset/ECE542_sp2022_Project_TerrainRecognition/TrainingData/subject_005_02__x.csv', '/content/drive/MyDrive/NN Dataset/ECE542_sp2022_Project_TerrainRecognition/TrainingData/subject_005_03__x.csv', '/content/drive/MyDrive/NN Dataset/ECE542_sp2022_Project_TerrainRecognition/TrainingData/subject_006_01__x.csv', '/content/drive/MyDrive/NN Dataset/ECE542_sp2022_Project_TerrainRecognition/TrainingData/subject_006_02__x.csv', '/content/drive/MyDrive/NN Dataset/ECE542_sp2022_Project_TerrainRecognition/TrainingData/subject_006_03__x.csv', '/content/drive/MyDrive/NN Dataset/ECE542_sp2022_Project_TerrainRecognition/TrainingData/subject_007_01__x.csv', '/content/drive/MyDrive/NN Dataset/ECE542_sp2022_Project_TerrainRecognition/TrainingData/subject_007_02__x.csv', '/content/drive/MyDrive/NN Dataset/ECE542_sp2022_Project_TerrainRecognition/TrainingData/subject_007_03__x.csv', '/content/drive/MyDrive/NN Dataset/ECE542_sp2022_Project_TerrainRecognition/TrainingData/subject_007_04__x.csv', '/content/drive/MyDrive/NN Dataset/ECE542_sp2022_Project_TerrainRecognition/TrainingData/subject_008_01__x.csv']\n",
            "\n",
            "\n",
            "['/content/drive/MyDrive/NN Dataset/ECE542_sp2022_Project_TerrainRecognition/TrainingData/subject_001_01__x_time.csv', '/content/drive/MyDrive/NN Dataset/ECE542_sp2022_Project_TerrainRecognition/TrainingData/subject_001_02__x_time.csv', '/content/drive/MyDrive/NN Dataset/ECE542_sp2022_Project_TerrainRecognition/TrainingData/subject_001_03__x_time.csv', '/content/drive/MyDrive/NN Dataset/ECE542_sp2022_Project_TerrainRecognition/TrainingData/subject_001_04__x_time.csv', '/content/drive/MyDrive/NN Dataset/ECE542_sp2022_Project_TerrainRecognition/TrainingData/subject_001_05__x_time.csv', '/content/drive/MyDrive/NN Dataset/ECE542_sp2022_Project_TerrainRecognition/TrainingData/subject_001_06__x_time.csv', '/content/drive/MyDrive/NN Dataset/ECE542_sp2022_Project_TerrainRecognition/TrainingData/subject_001_07__x_time.csv', '/content/drive/MyDrive/NN Dataset/ECE542_sp2022_Project_TerrainRecognition/TrainingData/subject_001_08__x_time.csv', '/content/drive/MyDrive/NN Dataset/ECE542_sp2022_Project_TerrainRecognition/TrainingData/subject_002_01__x_time.csv', '/content/drive/MyDrive/NN Dataset/ECE542_sp2022_Project_TerrainRecognition/TrainingData/subject_002_02__x_time.csv', '/content/drive/MyDrive/NN Dataset/ECE542_sp2022_Project_TerrainRecognition/TrainingData/subject_002_03__x_time.csv', '/content/drive/MyDrive/NN Dataset/ECE542_sp2022_Project_TerrainRecognition/TrainingData/subject_002_04__x_time.csv', '/content/drive/MyDrive/NN Dataset/ECE542_sp2022_Project_TerrainRecognition/TrainingData/subject_002_05__x_time.csv', '/content/drive/MyDrive/NN Dataset/ECE542_sp2022_Project_TerrainRecognition/TrainingData/subject_003_01__x_time.csv', '/content/drive/MyDrive/NN Dataset/ECE542_sp2022_Project_TerrainRecognition/TrainingData/subject_003_02__x_time.csv', '/content/drive/MyDrive/NN Dataset/ECE542_sp2022_Project_TerrainRecognition/TrainingData/subject_003_03__x_time.csv', '/content/drive/MyDrive/NN Dataset/ECE542_sp2022_Project_TerrainRecognition/TrainingData/subject_004_01__x_time.csv', '/content/drive/MyDrive/NN Dataset/ECE542_sp2022_Project_TerrainRecognition/TrainingData/subject_004_02__x_time.csv', '/content/drive/MyDrive/NN Dataset/ECE542_sp2022_Project_TerrainRecognition/TrainingData/subject_005_01__x_time.csv', '/content/drive/MyDrive/NN Dataset/ECE542_sp2022_Project_TerrainRecognition/TrainingData/subject_005_02__x_time.csv', '/content/drive/MyDrive/NN Dataset/ECE542_sp2022_Project_TerrainRecognition/TrainingData/subject_005_03__x_time.csv', '/content/drive/MyDrive/NN Dataset/ECE542_sp2022_Project_TerrainRecognition/TrainingData/subject_006_01__x_time.csv', '/content/drive/MyDrive/NN Dataset/ECE542_sp2022_Project_TerrainRecognition/TrainingData/subject_006_02__x_time.csv', '/content/drive/MyDrive/NN Dataset/ECE542_sp2022_Project_TerrainRecognition/TrainingData/subject_006_03__x_time.csv', '/content/drive/MyDrive/NN Dataset/ECE542_sp2022_Project_TerrainRecognition/TrainingData/subject_007_01__x_time.csv', '/content/drive/MyDrive/NN Dataset/ECE542_sp2022_Project_TerrainRecognition/TrainingData/subject_007_02__x_time.csv', '/content/drive/MyDrive/NN Dataset/ECE542_sp2022_Project_TerrainRecognition/TrainingData/subject_007_03__x_time.csv', '/content/drive/MyDrive/NN Dataset/ECE542_sp2022_Project_TerrainRecognition/TrainingData/subject_007_04__x_time.csv', '/content/drive/MyDrive/NN Dataset/ECE542_sp2022_Project_TerrainRecognition/TrainingData/subject_008_01__x_time.csv']\n",
            "\n",
            "\n",
            "['/content/drive/MyDrive/NN Dataset/ECE542_sp2022_Project_TerrainRecognition/TrainingData/subject_001_01__y.csv', '/content/drive/MyDrive/NN Dataset/ECE542_sp2022_Project_TerrainRecognition/TrainingData/subject_001_02__y.csv', '/content/drive/MyDrive/NN Dataset/ECE542_sp2022_Project_TerrainRecognition/TrainingData/subject_001_03__y.csv', '/content/drive/MyDrive/NN Dataset/ECE542_sp2022_Project_TerrainRecognition/TrainingData/subject_001_04__y.csv', '/content/drive/MyDrive/NN Dataset/ECE542_sp2022_Project_TerrainRecognition/TrainingData/subject_001_05__y.csv', '/content/drive/MyDrive/NN Dataset/ECE542_sp2022_Project_TerrainRecognition/TrainingData/subject_001_06__y.csv', '/content/drive/MyDrive/NN Dataset/ECE542_sp2022_Project_TerrainRecognition/TrainingData/subject_001_07__y.csv', '/content/drive/MyDrive/NN Dataset/ECE542_sp2022_Project_TerrainRecognition/TrainingData/subject_001_08__y.csv', '/content/drive/MyDrive/NN Dataset/ECE542_sp2022_Project_TerrainRecognition/TrainingData/subject_002_01__y.csv', '/content/drive/MyDrive/NN Dataset/ECE542_sp2022_Project_TerrainRecognition/TrainingData/subject_002_02__y.csv', '/content/drive/MyDrive/NN Dataset/ECE542_sp2022_Project_TerrainRecognition/TrainingData/subject_002_03__y.csv', '/content/drive/MyDrive/NN Dataset/ECE542_sp2022_Project_TerrainRecognition/TrainingData/subject_002_04__y.csv', '/content/drive/MyDrive/NN Dataset/ECE542_sp2022_Project_TerrainRecognition/TrainingData/subject_002_05__y.csv', '/content/drive/MyDrive/NN Dataset/ECE542_sp2022_Project_TerrainRecognition/TrainingData/subject_003_01__y.csv', '/content/drive/MyDrive/NN Dataset/ECE542_sp2022_Project_TerrainRecognition/TrainingData/subject_003_02__y.csv', '/content/drive/MyDrive/NN Dataset/ECE542_sp2022_Project_TerrainRecognition/TrainingData/subject_003_03__y.csv', '/content/drive/MyDrive/NN Dataset/ECE542_sp2022_Project_TerrainRecognition/TrainingData/subject_004_01__y.csv', '/content/drive/MyDrive/NN Dataset/ECE542_sp2022_Project_TerrainRecognition/TrainingData/subject_004_02__y.csv', '/content/drive/MyDrive/NN Dataset/ECE542_sp2022_Project_TerrainRecognition/TrainingData/subject_005_01__y.csv', '/content/drive/MyDrive/NN Dataset/ECE542_sp2022_Project_TerrainRecognition/TrainingData/subject_005_02__y.csv', '/content/drive/MyDrive/NN Dataset/ECE542_sp2022_Project_TerrainRecognition/TrainingData/subject_005_03__y.csv', '/content/drive/MyDrive/NN Dataset/ECE542_sp2022_Project_TerrainRecognition/TrainingData/subject_006_01__y.csv', '/content/drive/MyDrive/NN Dataset/ECE542_sp2022_Project_TerrainRecognition/TrainingData/subject_006_02__y.csv', '/content/drive/MyDrive/NN Dataset/ECE542_sp2022_Project_TerrainRecognition/TrainingData/subject_006_03__y.csv', '/content/drive/MyDrive/NN Dataset/ECE542_sp2022_Project_TerrainRecognition/TrainingData/subject_007_01__y.csv', '/content/drive/MyDrive/NN Dataset/ECE542_sp2022_Project_TerrainRecognition/TrainingData/subject_007_02__y.csv', '/content/drive/MyDrive/NN Dataset/ECE542_sp2022_Project_TerrainRecognition/TrainingData/subject_007_03__y.csv', '/content/drive/MyDrive/NN Dataset/ECE542_sp2022_Project_TerrainRecognition/TrainingData/subject_007_04__y.csv', '/content/drive/MyDrive/NN Dataset/ECE542_sp2022_Project_TerrainRecognition/TrainingData/subject_008_01__y.csv']\n",
            "\n",
            "\n",
            "['/content/drive/MyDrive/NN Dataset/ECE542_sp2022_Project_TerrainRecognition/TrainingData/subject_001_01__y_time.csv', '/content/drive/MyDrive/NN Dataset/ECE542_sp2022_Project_TerrainRecognition/TrainingData/subject_001_02__y_time.csv', '/content/drive/MyDrive/NN Dataset/ECE542_sp2022_Project_TerrainRecognition/TrainingData/subject_001_03__y_time.csv', '/content/drive/MyDrive/NN Dataset/ECE542_sp2022_Project_TerrainRecognition/TrainingData/subject_001_04__y_time.csv', '/content/drive/MyDrive/NN Dataset/ECE542_sp2022_Project_TerrainRecognition/TrainingData/subject_001_05__y_time.csv', '/content/drive/MyDrive/NN Dataset/ECE542_sp2022_Project_TerrainRecognition/TrainingData/subject_001_06__y_time.csv', '/content/drive/MyDrive/NN Dataset/ECE542_sp2022_Project_TerrainRecognition/TrainingData/subject_001_07__y_time.csv', '/content/drive/MyDrive/NN Dataset/ECE542_sp2022_Project_TerrainRecognition/TrainingData/subject_001_08__y_time.csv', '/content/drive/MyDrive/NN Dataset/ECE542_sp2022_Project_TerrainRecognition/TrainingData/subject_002_01__y_time.csv', '/content/drive/MyDrive/NN Dataset/ECE542_sp2022_Project_TerrainRecognition/TrainingData/subject_002_02__y_time.csv', '/content/drive/MyDrive/NN Dataset/ECE542_sp2022_Project_TerrainRecognition/TrainingData/subject_002_03__y_time.csv', '/content/drive/MyDrive/NN Dataset/ECE542_sp2022_Project_TerrainRecognition/TrainingData/subject_002_04__y_time.csv', '/content/drive/MyDrive/NN Dataset/ECE542_sp2022_Project_TerrainRecognition/TrainingData/subject_002_05__y_time.csv', '/content/drive/MyDrive/NN Dataset/ECE542_sp2022_Project_TerrainRecognition/TrainingData/subject_003_01__y_time.csv', '/content/drive/MyDrive/NN Dataset/ECE542_sp2022_Project_TerrainRecognition/TrainingData/subject_003_02__y_time.csv', '/content/drive/MyDrive/NN Dataset/ECE542_sp2022_Project_TerrainRecognition/TrainingData/subject_003_03__y_time.csv', '/content/drive/MyDrive/NN Dataset/ECE542_sp2022_Project_TerrainRecognition/TrainingData/subject_004_01__y_time.csv', '/content/drive/MyDrive/NN Dataset/ECE542_sp2022_Project_TerrainRecognition/TrainingData/subject_004_02__y_time.csv', '/content/drive/MyDrive/NN Dataset/ECE542_sp2022_Project_TerrainRecognition/TrainingData/subject_005_01__y_time.csv', '/content/drive/MyDrive/NN Dataset/ECE542_sp2022_Project_TerrainRecognition/TrainingData/subject_005_02__y_time.csv', '/content/drive/MyDrive/NN Dataset/ECE542_sp2022_Project_TerrainRecognition/TrainingData/subject_005_03__y_time.csv', '/content/drive/MyDrive/NN Dataset/ECE542_sp2022_Project_TerrainRecognition/TrainingData/subject_006_01__y_time.csv', '/content/drive/MyDrive/NN Dataset/ECE542_sp2022_Project_TerrainRecognition/TrainingData/subject_006_02__y_time.csv', '/content/drive/MyDrive/NN Dataset/ECE542_sp2022_Project_TerrainRecognition/TrainingData/subject_006_03__y_time.csv', '/content/drive/MyDrive/NN Dataset/ECE542_sp2022_Project_TerrainRecognition/TrainingData/subject_007_01__y_time.csv', '/content/drive/MyDrive/NN Dataset/ECE542_sp2022_Project_TerrainRecognition/TrainingData/subject_007_02__y_time.csv', '/content/drive/MyDrive/NN Dataset/ECE542_sp2022_Project_TerrainRecognition/TrainingData/subject_007_03__y_time.csv', '/content/drive/MyDrive/NN Dataset/ECE542_sp2022_Project_TerrainRecognition/TrainingData/subject_007_04__y_time.csv', '/content/drive/MyDrive/NN Dataset/ECE542_sp2022_Project_TerrainRecognition/TrainingData/subject_008_01__y_time.csv']\n"
          ]
        }
      ],
      "source": [
        "path = r'/content/drive/MyDrive/NN Dataset/ECE542_sp2022_Project_TerrainRecognition/TrainingData'\n",
        "all_x_files = glob.glob(path + \"/subject_00*_*__x.csv\")\n",
        "all_x_time_files = glob.glob(path + \"/subject_00*_*__x_time.csv\")\n",
        "all_y_files = glob.glob(path + \"/subject_00*_*__y.csv\")\n",
        "all_y_time_files = glob.glob(path + \"/subject_00*_*__y_time.csv\")\n",
        "li = []\n",
        "\n",
        "print(sorted(all_x_files))\n",
        "print(\"\\n\")\n",
        "print(sorted(all_x_time_files))\n",
        "print(\"\\n\")\n",
        "print(sorted(all_y_files))\n",
        "print(\"\\n\")\n",
        "print(sorted(all_y_time_files))"
      ]
    },
    {
      "cell_type": "code",
      "execution_count": null,
      "metadata": {
        "colab": {
          "base_uri": "https://localhost:8080/"
        },
        "id": "WeQSpkJgNPPk",
        "outputId": "bb1c71fe-e176-49ff-e9ff-e94ddc09a785"
      },
      "outputs": [
        {
          "name": "stdout",
          "output_type": "stream",
          "text": [
            "['/content/drive/MyDrive/NN Dataset/ECE542_sp2022_Project_TerrainRecognition/TrainingData/subject_001_01', '/content/drive/MyDrive/NN Dataset/ECE542_sp2022_Project_TerrainRecognition/TrainingData/subject_001_02', '/content/drive/MyDrive/NN Dataset/ECE542_sp2022_Project_TerrainRecognition/TrainingData/subject_001_03', '/content/drive/MyDrive/NN Dataset/ECE542_sp2022_Project_TerrainRecognition/TrainingData/subject_001_04', '/content/drive/MyDrive/NN Dataset/ECE542_sp2022_Project_TerrainRecognition/TrainingData/subject_001_05', '/content/drive/MyDrive/NN Dataset/ECE542_sp2022_Project_TerrainRecognition/TrainingData/subject_001_06', '/content/drive/MyDrive/NN Dataset/ECE542_sp2022_Project_TerrainRecognition/TrainingData/subject_001_07', '/content/drive/MyDrive/NN Dataset/ECE542_sp2022_Project_TerrainRecognition/TrainingData/subject_001_08', '/content/drive/MyDrive/NN Dataset/ECE542_sp2022_Project_TerrainRecognition/TrainingData/subject_002_01', '/content/drive/MyDrive/NN Dataset/ECE542_sp2022_Project_TerrainRecognition/TrainingData/subject_002_02', '/content/drive/MyDrive/NN Dataset/ECE542_sp2022_Project_TerrainRecognition/TrainingData/subject_002_03', '/content/drive/MyDrive/NN Dataset/ECE542_sp2022_Project_TerrainRecognition/TrainingData/subject_002_04', '/content/drive/MyDrive/NN Dataset/ECE542_sp2022_Project_TerrainRecognition/TrainingData/subject_002_05', '/content/drive/MyDrive/NN Dataset/ECE542_sp2022_Project_TerrainRecognition/TrainingData/subject_003_01', '/content/drive/MyDrive/NN Dataset/ECE542_sp2022_Project_TerrainRecognition/TrainingData/subject_003_02', '/content/drive/MyDrive/NN Dataset/ECE542_sp2022_Project_TerrainRecognition/TrainingData/subject_003_03', '/content/drive/MyDrive/NN Dataset/ECE542_sp2022_Project_TerrainRecognition/TrainingData/subject_004_01', '/content/drive/MyDrive/NN Dataset/ECE542_sp2022_Project_TerrainRecognition/TrainingData/subject_004_02', '/content/drive/MyDrive/NN Dataset/ECE542_sp2022_Project_TerrainRecognition/TrainingData/subject_005_01', '/content/drive/MyDrive/NN Dataset/ECE542_sp2022_Project_TerrainRecognition/TrainingData/subject_005_02', '/content/drive/MyDrive/NN Dataset/ECE542_sp2022_Project_TerrainRecognition/TrainingData/subject_005_03', '/content/drive/MyDrive/NN Dataset/ECE542_sp2022_Project_TerrainRecognition/TrainingData/subject_006_01', '/content/drive/MyDrive/NN Dataset/ECE542_sp2022_Project_TerrainRecognition/TrainingData/subject_006_02', '/content/drive/MyDrive/NN Dataset/ECE542_sp2022_Project_TerrainRecognition/TrainingData/subject_006_03', '/content/drive/MyDrive/NN Dataset/ECE542_sp2022_Project_TerrainRecognition/TrainingData/subject_007_01', '/content/drive/MyDrive/NN Dataset/ECE542_sp2022_Project_TerrainRecognition/TrainingData/subject_007_02', '/content/drive/MyDrive/NN Dataset/ECE542_sp2022_Project_TerrainRecognition/TrainingData/subject_007_03', '/content/drive/MyDrive/NN Dataset/ECE542_sp2022_Project_TerrainRecognition/TrainingData/subject_007_04', '/content/drive/MyDrive/NN Dataset/ECE542_sp2022_Project_TerrainRecognition/TrainingData/subject_008_01']\n",
            "subject_001_01\n",
            "subject_001_02\n",
            "subject_001_03\n",
            "subject_001_04\n",
            "subject_001_05\n",
            "subject_001_06\n",
            "subject_001_07\n",
            "subject_001_08\n",
            "subject_002_01\n",
            "subject_002_02\n",
            "subject_002_03\n",
            "subject_002_04\n",
            "subject_002_05\n",
            "subject_003_01\n",
            "subject_003_02\n",
            "subject_003_03\n",
            "subject_004_01\n",
            "subject_004_02\n",
            "subject_005_01\n",
            "subject_005_02\n",
            "subject_005_03\n",
            "subject_006_01\n",
            "subject_006_02\n",
            "subject_006_03\n",
            "subject_007_01\n",
            "subject_007_02\n",
            "subject_007_03\n",
            "subject_007_04\n",
            "subject_008_01\n"
          ]
        }
      ],
      "source": [
        "gen_files=[]\n",
        "for filename in sorted(all_x_files):\n",
        "    gen= filename[:-7]\n",
        "    #print(filename,gen)\n",
        "    gen_files.append(gen)\n",
        "\n",
        "print(gen_files)\n",
        "subject_list=[]\n",
        "for filename in gen_files:\n",
        "    file=filename.split('/')[7]\n",
        "    print(file) \n",
        "    subject_list.append(file)"
      ]
    },
    {
      "cell_type": "code",
      "source": [
        "path = r'/content/drive/MyDrive/NN Dataset/ECE542_sp2022_Project_TerrainRecognition/TrainingData'\n",
        "all_x_files = glob.glob(path + \"/subject_00*_*__x.csv\")\n",
        "all_x_time_files = glob.glob(path + \"/subject_00*_*__x_time.csv\")\n",
        "all_y_files = glob.glob(path + \"/subject_00*_*__y.csv\")\n",
        "all_y_time_files = glob.glob(path + \"/subject_00*_*__y_time.csv\")\n",
        "li = []\n",
        "\n",
        "print(sorted(all_x_files))\n",
        "print(\"\\n\")\n",
        "print(sorted(all_x_time_files))\n",
        "print(\"\\n\")\n",
        "print(sorted(all_y_files))\n",
        "print(\"\\n\")\n",
        "print(sorted(all_y_time_files))\n",
        "\n",
        "gen_files=[]\n",
        "for filename in sorted(all_x_files):\n",
        "    gen= filename[:-7]\n",
        "    #print(filename,gen)\n",
        "    gen_files.append(gen)\n",
        "\n",
        "print(gen_files)\n",
        "subject_list=[]\n",
        "for filename in gen_files:\n",
        "    file=filename.split('/')[7]\n",
        "    print(file) \n",
        "    subject_list.append(file)\n",
        "\n",
        "#Creating x meas and time csv and y label and time csv\n",
        "for filename in gen_files:\n",
        "    subject=filename.split('/')[7]\n",
        "    df1=pd.read_csv(filename+'__x.csv',  names =['acc_x', 'acc_y', 'acc_z', 'gyro_x', 'gyro_y', 'gyro_z'])\n",
        "    df2=pd.read_csv(filename+'__x_time.csv', names =['time'])\n",
        "    df1['time']=df2['time']\n",
        "    df1['time']=df1['time'].apply(lambda x:int(x*100)/100)\n",
        "    #df1['time']=df1['time'].apply(lambda x:format{x,\".2f\"})\n",
        "    df1['time']=df1['time'].astype(str)\n",
        "    df1.to_csv('/content/drive/MyDrive/NN Dataset/ProcessData/'+subject+'x_meas_time.csv',index=False)"
      ],
      "metadata": {
        "id": "iNTgVNvRXY4B"
      },
      "execution_count": null,
      "outputs": []
    },
    {
      "cell_type": "markdown",
      "metadata": {
        "id": "eViCPba_QeR7"
      },
      "source": [
        "## Making individual subject data files\n",
        "\n",
        "Merge the x_meas and x_time file based on the time value\n",
        "Merge the y_time and y_label file based on the time value"
      ]
    },
    {
      "cell_type": "code",
      "execution_count": null,
      "metadata": {
        "id": "VEVLeuRINPPl"
      },
      "outputs": [],
      "source": [
        "#Creating x meas and time csv and y label and time csv\n",
        "for filename in gen_files:\n",
        "    subject=filename.split('/')[7]\n",
        "    df1=pd.read_csv(filename+'__x.csv',  names =['acc_x', 'acc_y', 'acc_z', 'gyro_x', 'gyro_y', 'gyro_z'])\n",
        "    df2=pd.read_csv(filename+'__x_time.csv', names =['time'])\n",
        "    df1['time']=df2['time']\n",
        "    df1['time']=df1['time'].apply(lambda x:int(x*100)/100)\n",
        "    #df1['time']=df1['time'].apply(lambda x:format{x,\".2f\"})\n",
        "    df1['time']=df1['time'].astype(str)\n",
        "    #df1['time'] = df1['time'].astype(str).str.encode('utf-8')\n",
        "    df3=pd.read_csv(filename+'__y.csv', names =['label'])\n",
        "    df4=pd.read_csv(filename+'__y_time.csv', names =['time'])\n",
        "    df3['time']=df4['time']\n",
        "    df3['time']=df3['time'].astype(str)\n",
        "    #df3['time'] = df3['time'].astype(str).str.encode('utf-8')\n",
        "    df1.to_csv('/content/drive/MyDrive/NN Dataset/ProcessData/'+subject+'x_meas_time.csv',index=False)\n",
        "    df3.to_csv('/content/drive/MyDrive/NN Dataset/ProcessData/'+subject+'y_label_time.csv',index=False)"
      ]
    },
    {
      "cell_type": "markdown",
      "metadata": {
        "id": "wupjwJKzNPPl"
      },
      "source": [
        "## Join x and y data on each subject and then interpolate the labels\n",
        "\n",
        "Merge the x and y_data files.\n",
        "After merging, we will observe that only 1/4th of total dataset is labelled. hence, we use interplolation technique to fill the other labels. "
      ]
    },
    {
      "cell_type": "code",
      "execution_count": null,
      "metadata": {
        "id": "NsP2HLDhNPPm",
        "colab": {
          "base_uri": "https://localhost:8080/",
          "height": 235
        },
        "outputId": "65bde85d-49df-4a4c-c420-68dddc6e5de0"
      },
      "outputs": [
        {
          "output_type": "error",
          "ename": "NameError",
          "evalue": "ignored",
          "traceback": [
            "\u001b[0;31m---------------------------------------------------------------------------\u001b[0m",
            "\u001b[0;31mNameError\u001b[0m                                 Traceback (most recent call last)",
            "\u001b[0;32m<ipython-input-3-58262ae62865>\u001b[0m in \u001b[0;36m<module>\u001b[0;34m()\u001b[0m\n\u001b[1;32m      1\u001b[0m \u001b[0;31m#Creating each subject final csv and interpolate the data\u001b[0m\u001b[0;34m\u001b[0m\u001b[0;34m\u001b[0m\u001b[0;34m\u001b[0m\u001b[0m\n\u001b[0;32m----> 2\u001b[0;31m \u001b[0;32mfor\u001b[0m \u001b[0msubject\u001b[0m \u001b[0;32min\u001b[0m \u001b[0msubject_list\u001b[0m\u001b[0;34m:\u001b[0m\u001b[0;34m\u001b[0m\u001b[0;34m\u001b[0m\u001b[0m\n\u001b[0m\u001b[1;32m      3\u001b[0m     \u001b[0mdf1\u001b[0m \u001b[0;34m=\u001b[0m \u001b[0mpd\u001b[0m\u001b[0;34m.\u001b[0m\u001b[0mread_csv\u001b[0m\u001b[0;34m(\u001b[0m\u001b[0;34m'/content/drive/MyDrive/NN Dataset/ProcessData/'\u001b[0m\u001b[0;34m+\u001b[0m\u001b[0msubject\u001b[0m\u001b[0;34m+\u001b[0m\u001b[0;34m'x_meas_time.csv'\u001b[0m\u001b[0;34m)\u001b[0m\u001b[0;34m\u001b[0m\u001b[0;34m\u001b[0m\u001b[0m\n\u001b[1;32m      4\u001b[0m     \u001b[0mdf2\u001b[0m \u001b[0;34m=\u001b[0m \u001b[0mpd\u001b[0m\u001b[0;34m.\u001b[0m\u001b[0mread_csv\u001b[0m\u001b[0;34m(\u001b[0m\u001b[0;34m'/content/drive/MyDrive/NN Dataset/ProcessData/'\u001b[0m\u001b[0;34m+\u001b[0m\u001b[0msubject\u001b[0m\u001b[0;34m+\u001b[0m\u001b[0;34m'y_label_time.csv'\u001b[0m\u001b[0;34m)\u001b[0m\u001b[0;34m\u001b[0m\u001b[0;34m\u001b[0m\u001b[0m\n\u001b[1;32m      5\u001b[0m     \u001b[0mdf3\u001b[0m \u001b[0;34m=\u001b[0m \u001b[0mpd\u001b[0m\u001b[0;34m.\u001b[0m\u001b[0mmerge\u001b[0m\u001b[0;34m(\u001b[0m\u001b[0mdf1\u001b[0m\u001b[0;34m,\u001b[0m \u001b[0mdf2\u001b[0m\u001b[0;34m,\u001b[0m \u001b[0mon\u001b[0m\u001b[0;34m=\u001b[0m\u001b[0;34m'time'\u001b[0m\u001b[0;34m,\u001b[0m \u001b[0mhow\u001b[0m\u001b[0;34m=\u001b[0m\u001b[0;34m'outer'\u001b[0m\u001b[0;34m)\u001b[0m\u001b[0;34m\u001b[0m\u001b[0;34m\u001b[0m\u001b[0m\n",
            "\u001b[0;31mNameError\u001b[0m: name 'subject_list' is not defined"
          ]
        }
      ],
      "source": [
        "#Creating each subject final csv and interpolate the data \n",
        "for subject in subject_list:\n",
        "    df1 = pd.read_csv('/content/drive/MyDrive/NN Dataset/ProcessData/'+subject+'x_meas_time.csv')\n",
        "    df2 = pd.read_csv('/content/drive/MyDrive/NN Dataset/ProcessData/'+subject+'y_label_time.csv')\n",
        "    df3 = pd.merge(df1, df2, on='time', how='outer')\n",
        "    #print(df3)\n",
        "    df3.to_csv('/content/drive/MyDrive/NN Dataset/Subject/'+subject+'final.csv',index=False)\n",
        "    df3['label']=df3['label'].interpolate(method='pad')\n",
        "    df4 = df3.loc[df3['time']!=0]\n",
        "    df4.to_csv('/content/drive/MyDrive/NN Dataset/Interpolated/'+subject+'_interpolated.csv',index=False)"
      ]
    },
    {
      "cell_type": "code",
      "execution_count": null,
      "metadata": {
        "colab": {
          "base_uri": "https://localhost:8080/",
          "height": 345
        },
        "id": "3kqSxTu1NPPm",
        "outputId": "21944ff8-508d-444b-a195-1d2050d12aea"
      },
      "outputs": [
        {
          "output_type": "stream",
          "name": "stdout",
          "text": [
            "(37889, 1) (37889, 6) (9472, 1) (9472, 1)\n",
            "(37890, 7)\n",
            "(9473, 2)\n"
          ]
        },
        {
          "output_type": "error",
          "ename": "ParserError",
          "evalue": "ignored",
          "traceback": [
            "\u001b[0;31m---------------------------------------------------------------------------\u001b[0m",
            "\u001b[0;31mParserError\u001b[0m                               Traceback (most recent call last)",
            "\u001b[0;32m<ipython-input-4-114829fe0c92>\u001b[0m in \u001b[0;36m<module>\u001b[0;34m()\u001b[0m\n\u001b[1;32m      9\u001b[0m \u001b[0mprint\u001b[0m\u001b[0;34m(\u001b[0m\u001b[0mdf1\u001b[0m\u001b[0;34m.\u001b[0m\u001b[0mshape\u001b[0m\u001b[0;34m)\u001b[0m\u001b[0;34m\u001b[0m\u001b[0;34m\u001b[0m\u001b[0m\n\u001b[1;32m     10\u001b[0m \u001b[0mprint\u001b[0m\u001b[0;34m(\u001b[0m\u001b[0mdf2\u001b[0m\u001b[0;34m.\u001b[0m\u001b[0mshape\u001b[0m\u001b[0;34m)\u001b[0m\u001b[0;34m\u001b[0m\u001b[0;34m\u001b[0m\u001b[0m\n\u001b[0;32m---> 11\u001b[0;31m \u001b[0mdf3\u001b[0m\u001b[0;34m=\u001b[0m\u001b[0mpd\u001b[0m\u001b[0;34m.\u001b[0m\u001b[0mread_csv\u001b[0m\u001b[0;34m(\u001b[0m\u001b[0;34m'/content/drive/MyDrive/NN Dataset/Subject/subject_001_01final.csv'\u001b[0m\u001b[0;34m)\u001b[0m\u001b[0;34m\u001b[0m\u001b[0;34m\u001b[0m\u001b[0m\n\u001b[0m\u001b[1;32m     12\u001b[0m \u001b[0mprint\u001b[0m\u001b[0;34m(\u001b[0m\u001b[0mdf3\u001b[0m\u001b[0;34m.\u001b[0m\u001b[0mshape\u001b[0m\u001b[0;34m)\u001b[0m\u001b[0;34m\u001b[0m\u001b[0;34m\u001b[0m\u001b[0m\n\u001b[1;32m     13\u001b[0m \u001b[0mdf3\u001b[0m\u001b[0;34m=\u001b[0m\u001b[0mpd\u001b[0m\u001b[0;34m.\u001b[0m\u001b[0mread_csv\u001b[0m\u001b[0;34m(\u001b[0m\u001b[0;34m'/content/drive/MyDrive/NN Dataset/Interpolated/subject_001_01_interpolated.csv'\u001b[0m\u001b[0;34m)\u001b[0m\u001b[0;34m\u001b[0m\u001b[0;34m\u001b[0m\u001b[0m\n",
            "\u001b[0;32m/usr/local/lib/python3.7/dist-packages/pandas/util/_decorators.py\u001b[0m in \u001b[0;36mwrapper\u001b[0;34m(*args, **kwargs)\u001b[0m\n\u001b[1;32m    309\u001b[0m                     \u001b[0mstacklevel\u001b[0m\u001b[0;34m=\u001b[0m\u001b[0mstacklevel\u001b[0m\u001b[0;34m,\u001b[0m\u001b[0;34m\u001b[0m\u001b[0;34m\u001b[0m\u001b[0m\n\u001b[1;32m    310\u001b[0m                 )\n\u001b[0;32m--> 311\u001b[0;31m             \u001b[0;32mreturn\u001b[0m \u001b[0mfunc\u001b[0m\u001b[0;34m(\u001b[0m\u001b[0;34m*\u001b[0m\u001b[0margs\u001b[0m\u001b[0;34m,\u001b[0m \u001b[0;34m**\u001b[0m\u001b[0mkwargs\u001b[0m\u001b[0;34m)\u001b[0m\u001b[0;34m\u001b[0m\u001b[0;34m\u001b[0m\u001b[0m\n\u001b[0m\u001b[1;32m    312\u001b[0m \u001b[0;34m\u001b[0m\u001b[0m\n\u001b[1;32m    313\u001b[0m         \u001b[0;32mreturn\u001b[0m \u001b[0mwrapper\u001b[0m\u001b[0;34m\u001b[0m\u001b[0;34m\u001b[0m\u001b[0m\n",
            "\u001b[0;32m/usr/local/lib/python3.7/dist-packages/pandas/io/parsers/readers.py\u001b[0m in \u001b[0;36mread_csv\u001b[0;34m(filepath_or_buffer, sep, delimiter, header, names, index_col, usecols, squeeze, prefix, mangle_dupe_cols, dtype, engine, converters, true_values, false_values, skipinitialspace, skiprows, skipfooter, nrows, na_values, keep_default_na, na_filter, verbose, skip_blank_lines, parse_dates, infer_datetime_format, keep_date_col, date_parser, dayfirst, cache_dates, iterator, chunksize, compression, thousands, decimal, lineterminator, quotechar, quoting, doublequote, escapechar, comment, encoding, encoding_errors, dialect, error_bad_lines, warn_bad_lines, on_bad_lines, delim_whitespace, low_memory, memory_map, float_precision, storage_options)\u001b[0m\n\u001b[1;32m    584\u001b[0m     \u001b[0mkwds\u001b[0m\u001b[0;34m.\u001b[0m\u001b[0mupdate\u001b[0m\u001b[0;34m(\u001b[0m\u001b[0mkwds_defaults\u001b[0m\u001b[0;34m)\u001b[0m\u001b[0;34m\u001b[0m\u001b[0;34m\u001b[0m\u001b[0m\n\u001b[1;32m    585\u001b[0m \u001b[0;34m\u001b[0m\u001b[0m\n\u001b[0;32m--> 586\u001b[0;31m     \u001b[0;32mreturn\u001b[0m \u001b[0m_read\u001b[0m\u001b[0;34m(\u001b[0m\u001b[0mfilepath_or_buffer\u001b[0m\u001b[0;34m,\u001b[0m \u001b[0mkwds\u001b[0m\u001b[0;34m)\u001b[0m\u001b[0;34m\u001b[0m\u001b[0;34m\u001b[0m\u001b[0m\n\u001b[0m\u001b[1;32m    587\u001b[0m \u001b[0;34m\u001b[0m\u001b[0m\n\u001b[1;32m    588\u001b[0m \u001b[0;34m\u001b[0m\u001b[0m\n",
            "\u001b[0;32m/usr/local/lib/python3.7/dist-packages/pandas/io/parsers/readers.py\u001b[0m in \u001b[0;36m_read\u001b[0;34m(filepath_or_buffer, kwds)\u001b[0m\n\u001b[1;32m    480\u001b[0m \u001b[0;34m\u001b[0m\u001b[0m\n\u001b[1;32m    481\u001b[0m     \u001b[0;31m# Create the parser.\u001b[0m\u001b[0;34m\u001b[0m\u001b[0;34m\u001b[0m\u001b[0;34m\u001b[0m\u001b[0m\n\u001b[0;32m--> 482\u001b[0;31m     \u001b[0mparser\u001b[0m \u001b[0;34m=\u001b[0m \u001b[0mTextFileReader\u001b[0m\u001b[0;34m(\u001b[0m\u001b[0mfilepath_or_buffer\u001b[0m\u001b[0;34m,\u001b[0m \u001b[0;34m**\u001b[0m\u001b[0mkwds\u001b[0m\u001b[0;34m)\u001b[0m\u001b[0;34m\u001b[0m\u001b[0;34m\u001b[0m\u001b[0m\n\u001b[0m\u001b[1;32m    483\u001b[0m \u001b[0;34m\u001b[0m\u001b[0m\n\u001b[1;32m    484\u001b[0m     \u001b[0;32mif\u001b[0m \u001b[0mchunksize\u001b[0m \u001b[0;32mor\u001b[0m \u001b[0miterator\u001b[0m\u001b[0;34m:\u001b[0m\u001b[0;34m\u001b[0m\u001b[0;34m\u001b[0m\u001b[0m\n",
            "\u001b[0;32m/usr/local/lib/python3.7/dist-packages/pandas/io/parsers/readers.py\u001b[0m in \u001b[0;36m__init__\u001b[0;34m(self, f, engine, **kwds)\u001b[0m\n\u001b[1;32m    809\u001b[0m             \u001b[0mself\u001b[0m\u001b[0;34m.\u001b[0m\u001b[0moptions\u001b[0m\u001b[0;34m[\u001b[0m\u001b[0;34m\"has_index_names\"\u001b[0m\u001b[0;34m]\u001b[0m \u001b[0;34m=\u001b[0m \u001b[0mkwds\u001b[0m\u001b[0;34m[\u001b[0m\u001b[0;34m\"has_index_names\"\u001b[0m\u001b[0;34m]\u001b[0m\u001b[0;34m\u001b[0m\u001b[0;34m\u001b[0m\u001b[0m\n\u001b[1;32m    810\u001b[0m \u001b[0;34m\u001b[0m\u001b[0m\n\u001b[0;32m--> 811\u001b[0;31m         \u001b[0mself\u001b[0m\u001b[0;34m.\u001b[0m\u001b[0m_engine\u001b[0m \u001b[0;34m=\u001b[0m \u001b[0mself\u001b[0m\u001b[0;34m.\u001b[0m\u001b[0m_make_engine\u001b[0m\u001b[0;34m(\u001b[0m\u001b[0mself\u001b[0m\u001b[0;34m.\u001b[0m\u001b[0mengine\u001b[0m\u001b[0;34m)\u001b[0m\u001b[0;34m\u001b[0m\u001b[0;34m\u001b[0m\u001b[0m\n\u001b[0m\u001b[1;32m    812\u001b[0m \u001b[0;34m\u001b[0m\u001b[0m\n\u001b[1;32m    813\u001b[0m     \u001b[0;32mdef\u001b[0m \u001b[0mclose\u001b[0m\u001b[0;34m(\u001b[0m\u001b[0mself\u001b[0m\u001b[0;34m)\u001b[0m\u001b[0;34m:\u001b[0m\u001b[0;34m\u001b[0m\u001b[0;34m\u001b[0m\u001b[0m\n",
            "\u001b[0;32m/usr/local/lib/python3.7/dist-packages/pandas/io/parsers/readers.py\u001b[0m in \u001b[0;36m_make_engine\u001b[0;34m(self, engine)\u001b[0m\n\u001b[1;32m   1038\u001b[0m             )\n\u001b[1;32m   1039\u001b[0m         \u001b[0;31m# error: Too many arguments for \"ParserBase\"\u001b[0m\u001b[0;34m\u001b[0m\u001b[0;34m\u001b[0m\u001b[0;34m\u001b[0m\u001b[0m\n\u001b[0;32m-> 1040\u001b[0;31m         \u001b[0;32mreturn\u001b[0m \u001b[0mmapping\u001b[0m\u001b[0;34m[\u001b[0m\u001b[0mengine\u001b[0m\u001b[0;34m]\u001b[0m\u001b[0;34m(\u001b[0m\u001b[0mself\u001b[0m\u001b[0;34m.\u001b[0m\u001b[0mf\u001b[0m\u001b[0;34m,\u001b[0m \u001b[0;34m**\u001b[0m\u001b[0mself\u001b[0m\u001b[0;34m.\u001b[0m\u001b[0moptions\u001b[0m\u001b[0;34m)\u001b[0m  \u001b[0;31m# type: ignore[call-arg]\u001b[0m\u001b[0;34m\u001b[0m\u001b[0;34m\u001b[0m\u001b[0m\n\u001b[0m\u001b[1;32m   1041\u001b[0m \u001b[0;34m\u001b[0m\u001b[0m\n\u001b[1;32m   1042\u001b[0m     \u001b[0;32mdef\u001b[0m \u001b[0m_failover_to_python\u001b[0m\u001b[0;34m(\u001b[0m\u001b[0mself\u001b[0m\u001b[0;34m)\u001b[0m\u001b[0;34m:\u001b[0m\u001b[0;34m\u001b[0m\u001b[0;34m\u001b[0m\u001b[0m\n",
            "\u001b[0;32m/usr/local/lib/python3.7/dist-packages/pandas/io/parsers/c_parser_wrapper.py\u001b[0m in \u001b[0;36m__init__\u001b[0;34m(self, src, **kwds)\u001b[0m\n\u001b[1;32m     67\u001b[0m         \u001b[0mkwds\u001b[0m\u001b[0;34m[\u001b[0m\u001b[0;34m\"dtype\"\u001b[0m\u001b[0;34m]\u001b[0m \u001b[0;34m=\u001b[0m \u001b[0mensure_dtype_objs\u001b[0m\u001b[0;34m(\u001b[0m\u001b[0mkwds\u001b[0m\u001b[0;34m.\u001b[0m\u001b[0mget\u001b[0m\u001b[0;34m(\u001b[0m\u001b[0;34m\"dtype\"\u001b[0m\u001b[0;34m,\u001b[0m \u001b[0;32mNone\u001b[0m\u001b[0;34m)\u001b[0m\u001b[0;34m)\u001b[0m\u001b[0;34m\u001b[0m\u001b[0;34m\u001b[0m\u001b[0m\n\u001b[1;32m     68\u001b[0m         \u001b[0;32mtry\u001b[0m\u001b[0;34m:\u001b[0m\u001b[0;34m\u001b[0m\u001b[0;34m\u001b[0m\u001b[0m\n\u001b[0;32m---> 69\u001b[0;31m             \u001b[0mself\u001b[0m\u001b[0;34m.\u001b[0m\u001b[0m_reader\u001b[0m \u001b[0;34m=\u001b[0m \u001b[0mparsers\u001b[0m\u001b[0;34m.\u001b[0m\u001b[0mTextReader\u001b[0m\u001b[0;34m(\u001b[0m\u001b[0mself\u001b[0m\u001b[0;34m.\u001b[0m\u001b[0mhandles\u001b[0m\u001b[0;34m.\u001b[0m\u001b[0mhandle\u001b[0m\u001b[0;34m,\u001b[0m \u001b[0;34m**\u001b[0m\u001b[0mkwds\u001b[0m\u001b[0;34m)\u001b[0m\u001b[0;34m\u001b[0m\u001b[0;34m\u001b[0m\u001b[0m\n\u001b[0m\u001b[1;32m     70\u001b[0m         \u001b[0;32mexcept\u001b[0m \u001b[0mException\u001b[0m\u001b[0;34m:\u001b[0m\u001b[0;34m\u001b[0m\u001b[0;34m\u001b[0m\u001b[0m\n\u001b[1;32m     71\u001b[0m             \u001b[0mself\u001b[0m\u001b[0;34m.\u001b[0m\u001b[0mhandles\u001b[0m\u001b[0;34m.\u001b[0m\u001b[0mclose\u001b[0m\u001b[0;34m(\u001b[0m\u001b[0;34m)\u001b[0m\u001b[0;34m\u001b[0m\u001b[0;34m\u001b[0m\u001b[0m\n",
            "\u001b[0;32m/usr/local/lib/python3.7/dist-packages/pandas/_libs/parsers.pyx\u001b[0m in \u001b[0;36mpandas._libs.parsers.TextReader.__cinit__\u001b[0;34m()\u001b[0m\n",
            "\u001b[0;32m/usr/local/lib/python3.7/dist-packages/pandas/_libs/parsers.pyx\u001b[0m in \u001b[0;36mpandas._libs.parsers.TextReader._get_header\u001b[0;34m()\u001b[0m\n",
            "\u001b[0;32m/usr/local/lib/python3.7/dist-packages/pandas/_libs/parsers.pyx\u001b[0m in \u001b[0;36mpandas._libs.parsers.TextReader._tokenize_rows\u001b[0;34m()\u001b[0m\n",
            "\u001b[0;32m/usr/local/lib/python3.7/dist-packages/pandas/_libs/parsers.pyx\u001b[0m in \u001b[0;36mpandas._libs.parsers.raise_parser_error\u001b[0;34m()\u001b[0m\n",
            "\u001b[0;31mParserError\u001b[0m: Error tokenizing data. C error: Calling read(nbytes) on source failed. Try engine='python'."
          ]
        }
      ],
      "source": [
        "#checking the shape of the csv created\n",
        "df3 = pd.read_csv('/content/drive/MyDrive/NN Dataset/ECE542_sp2022_Project_TerrainRecognition/TrainingData/subject_001_01__x_time.csv')\n",
        "df4 = pd.read_csv('/content/drive/MyDrive/NN Dataset/ECE542_sp2022_Project_TerrainRecognition/TrainingData/subject_001_01__x.csv')\n",
        "df5 = pd.read_csv('/content/drive/MyDrive/NN Dataset/ECE542_sp2022_Project_TerrainRecognition/TrainingData/subject_001_01__y_time.csv')\n",
        "df6 = pd.read_csv('/content/drive/MyDrive/NN Dataset/ECE542_sp2022_Project_TerrainRecognition/TrainingData/subject_001_01__y.csv')\n",
        "print(df3.shape, df4.shape, df5.shape, df6.shape)\n",
        "df1 = pd.read_csv('/content/drive/MyDrive/NN Dataset/ProcessData/subject_001_01x_meas_time.csv')\n",
        "df2 = pd.read_csv('/content/drive/MyDrive/NN Dataset/ProcessData/subject_001_01y_label_time.csv')\n",
        "print(df1.shape)\n",
        "print(df2.shape)\n",
        "df3=pd.read_csv('/content/drive/MyDrive/NN Dataset/Subject/subject_001_01final.csv')\n",
        "print(df3.shape)\n",
        "df3=pd.read_csv('/content/drive/MyDrive/NN Dataset/Interpolated/subject_001_01_interpolated.csv')\n",
        "print(df3.shape)"
      ]
    },
    {
      "cell_type": "markdown",
      "metadata": {
        "id": "8WHyREUONPPn"
      },
      "source": [
        "## Merge all individual subject interpolated csv files to single file\n",
        "\n",
        "The interpolated_combined.csv file will be our master file for training and validation."
      ]
    },
    {
      "cell_type": "code",
      "execution_count": null,
      "metadata": {
        "colab": {
          "base_uri": "https://localhost:8080/"
        },
        "id": "AYO6E44xNPPn",
        "outputId": "a106d758-6fca-4e3d-e859-ed087769fa51"
      },
      "outputs": [
        {
          "name": "stdout",
          "output_type": "stream",
          "text": [
            "/content/drive/MyDrive/NN Dataset/Interpolated/subject_001_01_interpolated.csv\n",
            "/content/drive/MyDrive/NN Dataset/Interpolated/subject_001_02_interpolated.csv\n"
          ]
        },
        {
          "name": "stderr",
          "output_type": "stream",
          "text": [
            "/usr/local/lib/python3.7/dist-packages/IPython/core/interactiveshell.py:2882: DtypeWarning: Columns (0,1,2,3,4,5,6,7) have mixed types.Specify dtype option on import or set low_memory=False.\n",
            "  exec(code_obj, self.user_global_ns, self.user_ns)\n"
          ]
        },
        {
          "name": "stdout",
          "output_type": "stream",
          "text": [
            "/content/drive/MyDrive/NN Dataset/Interpolated/subject_001_03_interpolated.csv\n",
            "/content/drive/MyDrive/NN Dataset/Interpolated/subject_001_04_interpolated.csv\n",
            "/content/drive/MyDrive/NN Dataset/Interpolated/subject_001_05_interpolated.csv\n",
            "/content/drive/MyDrive/NN Dataset/Interpolated/subject_001_06_interpolated.csv\n",
            "/content/drive/MyDrive/NN Dataset/Interpolated/subject_001_07_interpolated.csv\n",
            "/content/drive/MyDrive/NN Dataset/Interpolated/subject_001_08_interpolated.csv\n",
            "/content/drive/MyDrive/NN Dataset/Interpolated/subject_002_01_interpolated.csv\n",
            "/content/drive/MyDrive/NN Dataset/Interpolated/subject_002_02_interpolated.csv\n",
            "/content/drive/MyDrive/NN Dataset/Interpolated/subject_002_03_interpolated.csv\n",
            "/content/drive/MyDrive/NN Dataset/Interpolated/subject_002_04_interpolated.csv\n",
            "/content/drive/MyDrive/NN Dataset/Interpolated/subject_002_05_interpolated.csv\n",
            "/content/drive/MyDrive/NN Dataset/Interpolated/subject_003_01_interpolated.csv\n",
            "/content/drive/MyDrive/NN Dataset/Interpolated/subject_003_02_interpolated.csv\n",
            "/content/drive/MyDrive/NN Dataset/Interpolated/subject_003_03_interpolated.csv\n",
            "/content/drive/MyDrive/NN Dataset/Interpolated/subject_004_01_interpolated.csv\n",
            "/content/drive/MyDrive/NN Dataset/Interpolated/subject_004_02_interpolated.csv\n",
            "/content/drive/MyDrive/NN Dataset/Interpolated/subject_005_01_interpolated.csv\n",
            "/content/drive/MyDrive/NN Dataset/Interpolated/subject_005_02_interpolated.csv\n",
            "/content/drive/MyDrive/NN Dataset/Interpolated/subject_005_03_interpolated.csv\n",
            "/content/drive/MyDrive/NN Dataset/Interpolated/subject_006_01_interpolated.csv\n",
            "/content/drive/MyDrive/NN Dataset/Interpolated/subject_006_02_interpolated.csv\n",
            "/content/drive/MyDrive/NN Dataset/Interpolated/subject_006_03_interpolated.csv\n",
            "/content/drive/MyDrive/NN Dataset/Interpolated/subject_007_01_interpolated.csv\n",
            "/content/drive/MyDrive/NN Dataset/Interpolated/subject_007_02_interpolated.csv\n",
            "/content/drive/MyDrive/NN Dataset/Interpolated/subject_007_03_interpolated.csv\n",
            "/content/drive/MyDrive/NN Dataset/Interpolated/subject_007_04_interpolated.csv\n",
            "/content/drive/MyDrive/NN Dataset/Interpolated/subject_008_01_interpolated.csv\n",
            "            acc_x     acc_y      acc_z        gyro_x        gyro_y  \\\n",
            "0           acc_x     acc_y      acc_z        gyro_x        gyro_y   \n",
            "1         4.18692  8.344455   2.908057   0.005770759  -0.004479538   \n",
            "2        4.544637  8.408659       2.89   0.007967429    0.02241187   \n",
            "3        4.849308  8.411614   2.900692    0.02777778   -0.01067026   \n",
            "4         4.50919  8.118649   2.847298    0.02157696   -0.04549827   \n",
            "...           ...       ...        ...           ...           ...   \n",
            "1341641  2.072244  8.908878       -3.5   0.001350761   0.001190994   \n",
            "1341642  2.085123  8.915123      -3.52   0.001917847  -0.001146575   \n",
            "1341643  2.083774      8.91  -3.538981  -0.002015218  -0.004099438   \n",
            "1341644  2.111447  8.908553  -3.535724  0.0001831479  -0.001672778   \n",
            "1341645   2.08773       8.9  -3.518865  5.186139e-05  -0.001266695   \n",
            "\n",
            "               gyro_z     time  label  \n",
            "0              gyro_z     time  label  \n",
            "1        -0.003345031     0.02    0.0  \n",
            "2         0.001158524     0.05    0.0  \n",
            "3         -0.01422302     0.07    0.0  \n",
            "4         -0.02111111      0.1    0.0  \n",
            "...               ...      ...    ...  \n",
            "1341641   0.001031228  1203.32    0.0  \n",
            "1341642           0.0  1203.34    0.0  \n",
            "1341643    0.00104211  1203.37    0.0  \n",
            "1341644   0.001855926   1203.4    0.0  \n",
            "1341645           0.0  1203.42    0.0  \n",
            "\n",
            "[1341646 rows x 8 columns]\n"
          ]
        }
      ],
      "source": [
        "li=[]\n",
        "path = r'/content/drive/MyDrive/NN Dataset/Interpolated' # use your path\n",
        "all_files = glob.glob(path + \"/*.csv\")\n",
        "for files in sorted(all_files):\n",
        "    print(files)\n",
        "    df = pd.read_csv(files, names =['acc_x','acc_y','acc_z','gyro_x','gyro_y','gyro_z','time','label'])\n",
        "    li.append(df)\n",
        "    \n",
        "df1 = pd.concat(li, axis=0, ignore_index=True)\n",
        "df2 = df1.loc[df1['acc_x']!='acc_x']\n",
        "print(df1)\n",
        "df2.to_csv('/content/drive/MyDrive/NN Dataset/Interpolated_Combined/Interpolated_combined.csv',index=False)"
      ]
    },
    {
      "cell_type": "code",
      "execution_count": null,
      "metadata": {
        "colab": {
          "base_uri": "https://localhost:8080/"
        },
        "id": "sYyUaIi4NPPo",
        "outputId": "a0023434-5358-49f6-e847-ab34c9e2f47a"
      },
      "outputs": [
        {
          "output_type": "stream",
          "name": "stdout",
          "text": [
            "25773 2844 3152 6120\n"
          ]
        }
      ],
      "source": [
        "# Checking the data imbalance\n",
        "df=pd.read_csv('/content/drive/MyDrive/NN Dataset/Interpolated/subject_001_01_interpolated.csv')\n",
        "walking = df[df.label==0].count()[0]\n",
        "downstairs = df[df.label==1].count()[0]\n",
        "upstairs = df[df.label==2].count()[0]\n",
        "grass = df[df.label==3].count()[0]\n",
        "print(walking, downstairs,upstairs, grass)"
      ]
    },
    {
      "cell_type": "code",
      "execution_count": null,
      "metadata": {
        "colab": {
          "base_uri": "https://localhost:8080/",
          "height": 513
        },
        "id": "bw9OXUySNPPo",
        "outputId": "d0b25072-dc77-42cd-aa55-ddff94085200"
      },
      "outputs": [
        {
          "output_type": "display_data",
          "data": {
            "text/plain": [
              "<Figure size 800x600 with 1 Axes>"
            ],
            "image/png": "[encoded data removed]"
          },
          "metadata": {}
        }
      ],
      "source": [
        "# The data imbalance graph for subject 1\n",
        "import matplotlib.pyplot as plt\n",
        "\n",
        "text = [\"standing / walking\", \"going downstairs\",\"going upstairs\", \"walking on grass\"]\n",
        "label = [walking, downstairs,upstairs, grass]\n",
        "color=[ 'red', 'green', 'blue', 'cyan']\n",
        "plt.style.use('seaborn')\n",
        "plt.figure(figsize=(8,6),dpi=100)\n",
        "for bar in range(0,4):\n",
        "    plt.bar(text[bar],label[bar], color=color[bar])"
      ]
    },
    {
      "cell_type": "code",
      "execution_count": null,
      "metadata": {
        "colab": {
          "base_uri": "https://localhost:8080/",
          "height": 545
        },
        "id": "CcwY6hD5NPPo",
        "outputId": "e45e7bd6-a117-458e-b7f0-c063e46959f8"
      },
      "outputs": [
        {
          "output_type": "stream",
          "name": "stdout",
          "text": [
            "1006897 55216 73068 206436\n"
          ]
        },
        {
          "output_type": "display_data",
          "data": {
            "text/plain": [
              "<Figure size 800x600 with 1 Axes>"
            ],
            "image/png": "[encoded data removed]"
          },
          "metadata": {}
        }
      ],
      "source": [
        "# The data imbalance graph for entire dataset consisting of all subjects\n",
        "df=pd.read_csv('/content/drive/MyDrive/NN Dataset/Interpolated_Combined/Interpolated_combined.csv')\n",
        "walking_full = df[df.label==0].count()[0]\n",
        "downstairs_full = df[df.label==1].count()[0]\n",
        "upstairs_full = df[df.label==2].count()[0]\n",
        "grass_full = df[df.label==3].count()[0]\n",
        "print(walking_full, downstairs_full,upstairs_full, grass_full)\n",
        "\n",
        "text = [\"standing / walking\", \"going downstairs\",\"going upstairs\", \"walking on grass\"]\n",
        "label = [walking_full, downstairs_full,upstairs_full, grass_full]\n",
        "color=[ 'red', 'green', 'blue', 'cyan']\n",
        "plt.style.use('seaborn')\n",
        "plt.figure(figsize=(8,6),dpi=100)\n",
        "for bar in range(0,4):\n",
        "    plt.bar(text[bar],label[bar], color=color[bar])"
      ]
    },
    {
      "cell_type": "code",
      "execution_count": null,
      "metadata": {
        "colab": {
          "base_uri": "https://localhost:8080/"
        },
        "id": "_3qeOVsiNPPp",
        "outputId": "a42f7f9c-1063-4955-8db2-205aa456c194"
      },
      "outputs": [
        {
          "output_type": "stream",
          "name": "stdout",
          "text": [
            "0          0.0\n",
            "1          0.0\n",
            "2          0.0\n",
            "3          0.0\n",
            "4          0.0\n",
            "          ... \n",
            "1341612    0.0\n",
            "1341613    0.0\n",
            "1341614    0.0\n",
            "1341615    0.0\n",
            "1341616    0.0\n",
            "Name: label, Length: 1341617, dtype: float64\n",
            "\n",
            "~~~~~~~\n",
            "            acc_x     acc_y     acc_z    gyro_x    gyro_y    gyro_z     time\n",
            "0        4.186920  8.344455  2.908057  0.005771 -0.004480 -0.003345     0.02\n",
            "1        4.544637  8.408659  2.890000  0.007967  0.022412  0.001159     0.05\n",
            "2        4.849308  8.411614  2.900692  0.027778 -0.010670 -0.014223     0.07\n",
            "3        4.509190  8.118649  2.847298  0.021577 -0.045498 -0.021111     0.10\n",
            "4        4.226515  8.273807  2.851742  0.012534  0.000445 -0.016830     0.12\n",
            "...           ...       ...       ...       ...       ...       ...      ...\n",
            "1341612  2.072244  8.908878 -3.500000  0.001351  0.001191  0.001031  1203.32\n",
            "1341613  2.085123  8.915123 -3.520000  0.001918 -0.001147  0.000000  1203.34\n",
            "1341614  2.083774  8.910000 -3.538981 -0.002015 -0.004099  0.001042  1203.37\n",
            "1341615  2.111447  8.908553 -3.535724  0.000183 -0.001673  0.001856  1203.40\n",
            "1341616  2.087730  8.900000 -3.518865  0.000052 -0.001267  0.000000  1203.42\n",
            "\n",
            "[1341617 rows x 7 columns]\n"
          ]
        }
      ],
      "source": [
        "y_train = df.label\n",
        "x_train= df.drop('label', axis=1)\n",
        "print(y_train)\n",
        "print(\"\\n~~~~~~~\")\n",
        "print(x_train)"
      ]
    },
    {
      "cell_type": "markdown",
      "metadata": {
        "id": "ZShjzbf4NPPp"
      },
      "source": [
        "## Using SMOTE to balance the minority classes (1.0, 2.0, 3.0)"
      ]
    },
    {
      "cell_type": "code",
      "execution_count": null,
      "metadata": {
        "id": "z-0ajmELNPPp"
      },
      "outputs": [],
      "source": [
        "from imblearn.over_sampling import SMOTE \n",
        "from collections import Counter\n"
      ]
    },
    {
      "cell_type": "code",
      "execution_count": null,
      "metadata": {
        "colab": {
          "base_uri": "https://localhost:8080/"
        },
        "id": "bCdAd5ZfNPPq",
        "outputId": "e90b4b39-53a3-4b53-ab61-a40e6e2d7d7c"
      },
      "outputs": [
        {
          "output_type": "stream",
          "name": "stdout",
          "text": [
            "Counter({0.0: 1006897, 3.0: 206436, 2.0: 73068, 1.0: 55216})\n"
          ]
        }
      ],
      "source": [
        "county = Counter(y_train)\n",
        "print(county)"
      ]
    },
    {
      "cell_type": "code",
      "execution_count": null,
      "metadata": {
        "colab": {
          "base_uri": "https://localhost:8080/"
        },
        "id": "Ww9kpLZNNPPq",
        "outputId": "79c9a471-fca3-41fa-cab5-48891292f616"
      },
      "outputs": [
        {
          "output_type": "stream",
          "name": "stdout",
          "text": [
            "4027588 4027588\n",
            "Counter({0.0: 1006897, 1.0: 1006897, 2.0: 1006897, 3.0: 1006897})\n"
          ]
        }
      ],
      "source": [
        "sm = SMOTE(random_state=23)\n",
        "x_train_sm, y_train_sm = sm.fit_resample(x_train, y_train)\n",
        "print(len(x_train_sm), len(y_train_sm))\n",
        "\n",
        "county_sm = Counter(y_train_sm)\n",
        "print(county_sm)"
      ]
    },
    {
      "cell_type": "markdown",
      "metadata": {
        "id": "O-4TJu9oNPPq"
      },
      "source": [
        "## Split into training and validation dataset"
      ]
    },
    {
      "cell_type": "code",
      "execution_count": null,
      "metadata": {
        "id": "EUXaBQptNPPq"
      },
      "outputs": [],
      "source": [
        "from sklearn.model_selection import train_test_split\n",
        "from sklearn import metrics\n",
        "import numpy as np"
      ]
    },
    {
      "cell_type": "code",
      "execution_count": null,
      "metadata": {
        "id": "sw61Y84BNPPr"
      },
      "outputs": [],
      "source": [
        "x_train,x_val,y_train,y_val=train_test_split(x_train_sm, y_train_sm, test_size=0.2,random_state=123)"
      ]
    },
    {
      "cell_type": "code",
      "execution_count": null,
      "metadata": {
        "colab": {
          "base_uri": "https://localhost:8080/"
        },
        "id": "Yfowpy2HNPPr",
        "outputId": "838dc7e6-510b-4090-cdb6-ff1e2b3da5a8"
      },
      "outputs": [
        {
          "output_type": "stream",
          "name": "stdout",
          "text": [
            "3222070 3222070\n",
            "805518 805518\n"
          ]
        }
      ],
      "source": [
        "print(len(x_train), len(y_train))\n",
        "print(len(x_val), len(y_val))"
      ]
    },
    {
      "cell_type": "markdown",
      "metadata": {
        "id": "DRoMzft5NPPr"
      },
      "source": [
        "## Random Forest"
      ]
    },
    {
      "cell_type": "code",
      "execution_count": null,
      "metadata": {
        "colab": {
          "base_uri": "https://localhost:8080/",
          "height": 345
        },
        "id": "7-T_PemMNPPr",
        "outputId": "ac81f833-334b-413d-d007-3b2796e64c43"
      },
      "outputs": [
        {
          "output_type": "error",
          "ename": "KeyboardInterrupt",
          "evalue": "ignored",
          "traceback": [
            "\u001b[0;31m---------------------------------------------------------------------------\u001b[0m",
            "\u001b[0;31mKeyboardInterrupt\u001b[0m                         Traceback (most recent call last)",
            "\u001b[0;32m<ipython-input-23-c63d5f426ae4>\u001b[0m in \u001b[0;36m<module>\u001b[0;34m()\u001b[0m\n\u001b[1;32m      3\u001b[0m \u001b[0;34m\u001b[0m\u001b[0m\n\u001b[1;32m      4\u001b[0m \u001b[0mRandom_F_model\u001b[0m \u001b[0;34m=\u001b[0m \u001b[0mRandomForestClassifier\u001b[0m\u001b[0;34m(\u001b[0m\u001b[0mn_estimators\u001b[0m\u001b[0;34m=\u001b[0m\u001b[0;36m20\u001b[0m\u001b[0;34m,\u001b[0m \u001b[0mrandom_state\u001b[0m\u001b[0;34m=\u001b[0m\u001b[0;36m0\u001b[0m\u001b[0;34m)\u001b[0m\u001b[0;34m\u001b[0m\u001b[0;34m\u001b[0m\u001b[0m\n\u001b[0;32m----> 5\u001b[0;31m \u001b[0mRandom_F_model\u001b[0m\u001b[0;34m.\u001b[0m\u001b[0mfit\u001b[0m\u001b[0;34m(\u001b[0m\u001b[0mx_train\u001b[0m\u001b[0;34m,\u001b[0m \u001b[0my_train\u001b[0m\u001b[0;34m)\u001b[0m\u001b[0;34m\u001b[0m\u001b[0;34m\u001b[0m\u001b[0m\n\u001b[0m",
            "\u001b[0;32m/usr/local/lib/python3.7/dist-packages/sklearn/ensemble/_forest.py\u001b[0m in \u001b[0;36mfit\u001b[0;34m(self, X, y, sample_weight)\u001b[0m\n\u001b[1;32m    465\u001b[0m                     \u001b[0mn_samples_bootstrap\u001b[0m\u001b[0;34m=\u001b[0m\u001b[0mn_samples_bootstrap\u001b[0m\u001b[0;34m,\u001b[0m\u001b[0;34m\u001b[0m\u001b[0;34m\u001b[0m\u001b[0m\n\u001b[1;32m    466\u001b[0m                 )\n\u001b[0;32m--> 467\u001b[0;31m                 \u001b[0;32mfor\u001b[0m \u001b[0mi\u001b[0m\u001b[0;34m,\u001b[0m \u001b[0mt\u001b[0m \u001b[0;32min\u001b[0m \u001b[0menumerate\u001b[0m\u001b[0;34m(\u001b[0m\u001b[0mtrees\u001b[0m\u001b[0;34m)\u001b[0m\u001b[0;34m\u001b[0m\u001b[0;34m\u001b[0m\u001b[0m\n\u001b[0m\u001b[1;32m    468\u001b[0m             )\n\u001b[1;32m    469\u001b[0m \u001b[0;34m\u001b[0m\u001b[0m\n",
            "\u001b[0;32m/usr/local/lib/python3.7/dist-packages/joblib/parallel.py\u001b[0m in \u001b[0;36m__call__\u001b[0;34m(self, iterable)\u001b[0m\n\u001b[1;32m   1044\u001b[0m                 \u001b[0mself\u001b[0m\u001b[0;34m.\u001b[0m\u001b[0m_iterating\u001b[0m \u001b[0;34m=\u001b[0m \u001b[0mself\u001b[0m\u001b[0;34m.\u001b[0m\u001b[0m_original_iterator\u001b[0m \u001b[0;32mis\u001b[0m \u001b[0;32mnot\u001b[0m \u001b[0;32mNone\u001b[0m\u001b[0;34m\u001b[0m\u001b[0;34m\u001b[0m\u001b[0m\n\u001b[1;32m   1045\u001b[0m \u001b[0;34m\u001b[0m\u001b[0m\n\u001b[0;32m-> 1046\u001b[0;31m             \u001b[0;32mwhile\u001b[0m \u001b[0mself\u001b[0m\u001b[0;34m.\u001b[0m\u001b[0mdispatch_one_batch\u001b[0m\u001b[0;34m(\u001b[0m\u001b[0miterator\u001b[0m\u001b[0;34m)\u001b[0m\u001b[0;34m:\u001b[0m\u001b[0;34m\u001b[0m\u001b[0;34m\u001b[0m\u001b[0m\n\u001b[0m\u001b[1;32m   1047\u001b[0m                 \u001b[0;32mpass\u001b[0m\u001b[0;34m\u001b[0m\u001b[0;34m\u001b[0m\u001b[0m\n\u001b[1;32m   1048\u001b[0m \u001b[0;34m\u001b[0m\u001b[0m\n",
            "\u001b[0;32m/usr/local/lib/python3.7/dist-packages/joblib/parallel.py\u001b[0m in \u001b[0;36mdispatch_one_batch\u001b[0;34m(self, iterator)\u001b[0m\n\u001b[1;32m    859\u001b[0m                 \u001b[0;32mreturn\u001b[0m \u001b[0;32mFalse\u001b[0m\u001b[0;34m\u001b[0m\u001b[0;34m\u001b[0m\u001b[0m\n\u001b[1;32m    860\u001b[0m             \u001b[0;32melse\u001b[0m\u001b[0;34m:\u001b[0m\u001b[0;34m\u001b[0m\u001b[0;34m\u001b[0m\u001b[0m\n\u001b[0;32m--> 861\u001b[0;31m                 \u001b[0mself\u001b[0m\u001b[0;34m.\u001b[0m\u001b[0m_dispatch\u001b[0m\u001b[0;34m(\u001b[0m\u001b[0mtasks\u001b[0m\u001b[0;34m)\u001b[0m\u001b[0;34m\u001b[0m\u001b[0;34m\u001b[0m\u001b[0m\n\u001b[0m\u001b[1;32m    862\u001b[0m                 \u001b[0;32mreturn\u001b[0m \u001b[0;32mTrue\u001b[0m\u001b[0;34m\u001b[0m\u001b[0;34m\u001b[0m\u001b[0m\n\u001b[1;32m    863\u001b[0m \u001b[0;34m\u001b[0m\u001b[0m\n",
            "\u001b[0;32m/usr/local/lib/python3.7/dist-packages/joblib/parallel.py\u001b[0m in \u001b[0;36m_dispatch\u001b[0;34m(self, batch)\u001b[0m\n\u001b[1;32m    777\u001b[0m         \u001b[0;32mwith\u001b[0m \u001b[0mself\u001b[0m\u001b[0;34m.\u001b[0m\u001b[0m_lock\u001b[0m\u001b[0;34m:\u001b[0m\u001b[0;34m\u001b[0m\u001b[0;34m\u001b[0m\u001b[0m\n\u001b[1;32m    778\u001b[0m             \u001b[0mjob_idx\u001b[0m \u001b[0;34m=\u001b[0m \u001b[0mlen\u001b[0m\u001b[0;34m(\u001b[0m\u001b[0mself\u001b[0m\u001b[0;34m.\u001b[0m\u001b[0m_jobs\u001b[0m\u001b[0;34m)\u001b[0m\u001b[0;34m\u001b[0m\u001b[0;34m\u001b[0m\u001b[0m\n\u001b[0;32m--> 779\u001b[0;31m             \u001b[0mjob\u001b[0m \u001b[0;34m=\u001b[0m \u001b[0mself\u001b[0m\u001b[0;34m.\u001b[0m\u001b[0m_backend\u001b[0m\u001b[0;34m.\u001b[0m\u001b[0mapply_async\u001b[0m\u001b[0;34m(\u001b[0m\u001b[0mbatch\u001b[0m\u001b[0;34m,\u001b[0m \u001b[0mcallback\u001b[0m\u001b[0;34m=\u001b[0m\u001b[0mcb\u001b[0m\u001b[0;34m)\u001b[0m\u001b[0;34m\u001b[0m\u001b[0;34m\u001b[0m\u001b[0m\n\u001b[0m\u001b[1;32m    780\u001b[0m             \u001b[0;31m# A job can complete so quickly than its callback is\u001b[0m\u001b[0;34m\u001b[0m\u001b[0;34m\u001b[0m\u001b[0;34m\u001b[0m\u001b[0m\n\u001b[1;32m    781\u001b[0m             \u001b[0;31m# called before we get here, causing self._jobs to\u001b[0m\u001b[0;34m\u001b[0m\u001b[0;34m\u001b[0m\u001b[0;34m\u001b[0m\u001b[0m\n",
            "\u001b[0;32m/usr/local/lib/python3.7/dist-packages/joblib/_parallel_backends.py\u001b[0m in \u001b[0;36mapply_async\u001b[0;34m(self, func, callback)\u001b[0m\n\u001b[1;32m    206\u001b[0m     \u001b[0;32mdef\u001b[0m \u001b[0mapply_async\u001b[0m\u001b[0;34m(\u001b[0m\u001b[0mself\u001b[0m\u001b[0;34m,\u001b[0m \u001b[0mfunc\u001b[0m\u001b[0;34m,\u001b[0m \u001b[0mcallback\u001b[0m\u001b[0;34m=\u001b[0m\u001b[0;32mNone\u001b[0m\u001b[0;34m)\u001b[0m\u001b[0;34m:\u001b[0m\u001b[0;34m\u001b[0m\u001b[0;34m\u001b[0m\u001b[0m\n\u001b[1;32m    207\u001b[0m         \u001b[0;34m\"\"\"Schedule a func to be run\"\"\"\u001b[0m\u001b[0;34m\u001b[0m\u001b[0;34m\u001b[0m\u001b[0m\n\u001b[0;32m--> 208\u001b[0;31m         \u001b[0mresult\u001b[0m \u001b[0;34m=\u001b[0m \u001b[0mImmediateResult\u001b[0m\u001b[0;34m(\u001b[0m\u001b[0mfunc\u001b[0m\u001b[0;34m)\u001b[0m\u001b[0;34m\u001b[0m\u001b[0;34m\u001b[0m\u001b[0m\n\u001b[0m\u001b[1;32m    209\u001b[0m         \u001b[0;32mif\u001b[0m \u001b[0mcallback\u001b[0m\u001b[0;34m:\u001b[0m\u001b[0;34m\u001b[0m\u001b[0;34m\u001b[0m\u001b[0m\n\u001b[1;32m    210\u001b[0m             \u001b[0mcallback\u001b[0m\u001b[0;34m(\u001b[0m\u001b[0mresult\u001b[0m\u001b[0;34m)\u001b[0m\u001b[0;34m\u001b[0m\u001b[0;34m\u001b[0m\u001b[0m\n",
            "\u001b[0;32m/usr/local/lib/python3.7/dist-packages/joblib/_parallel_backends.py\u001b[0m in \u001b[0;36m__init__\u001b[0;34m(self, batch)\u001b[0m\n\u001b[1;32m    570\u001b[0m         \u001b[0;31m# Don't delay the application, to avoid keeping the input\u001b[0m\u001b[0;34m\u001b[0m\u001b[0;34m\u001b[0m\u001b[0;34m\u001b[0m\u001b[0m\n\u001b[1;32m    571\u001b[0m         \u001b[0;31m# arguments in memory\u001b[0m\u001b[0;34m\u001b[0m\u001b[0;34m\u001b[0m\u001b[0;34m\u001b[0m\u001b[0m\n\u001b[0;32m--> 572\u001b[0;31m         \u001b[0mself\u001b[0m\u001b[0;34m.\u001b[0m\u001b[0mresults\u001b[0m \u001b[0;34m=\u001b[0m \u001b[0mbatch\u001b[0m\u001b[0;34m(\u001b[0m\u001b[0;34m)\u001b[0m\u001b[0;34m\u001b[0m\u001b[0;34m\u001b[0m\u001b[0m\n\u001b[0m\u001b[1;32m    573\u001b[0m \u001b[0;34m\u001b[0m\u001b[0m\n\u001b[1;32m    574\u001b[0m     \u001b[0;32mdef\u001b[0m \u001b[0mget\u001b[0m\u001b[0;34m(\u001b[0m\u001b[0mself\u001b[0m\u001b[0;34m)\u001b[0m\u001b[0;34m:\u001b[0m\u001b[0;34m\u001b[0m\u001b[0;34m\u001b[0m\u001b[0m\n",
            "\u001b[0;32m/usr/local/lib/python3.7/dist-packages/joblib/parallel.py\u001b[0m in \u001b[0;36m__call__\u001b[0;34m(self)\u001b[0m\n\u001b[1;32m    261\u001b[0m         \u001b[0;32mwith\u001b[0m \u001b[0mparallel_backend\u001b[0m\u001b[0;34m(\u001b[0m\u001b[0mself\u001b[0m\u001b[0;34m.\u001b[0m\u001b[0m_backend\u001b[0m\u001b[0;34m,\u001b[0m \u001b[0mn_jobs\u001b[0m\u001b[0;34m=\u001b[0m\u001b[0mself\u001b[0m\u001b[0;34m.\u001b[0m\u001b[0m_n_jobs\u001b[0m\u001b[0;34m)\u001b[0m\u001b[0;34m:\u001b[0m\u001b[0;34m\u001b[0m\u001b[0;34m\u001b[0m\u001b[0m\n\u001b[1;32m    262\u001b[0m             return [func(*args, **kwargs)\n\u001b[0;32m--> 263\u001b[0;31m                     for func, args, kwargs in self.items]\n\u001b[0m\u001b[1;32m    264\u001b[0m \u001b[0;34m\u001b[0m\u001b[0m\n\u001b[1;32m    265\u001b[0m     \u001b[0;32mdef\u001b[0m \u001b[0m__reduce__\u001b[0m\u001b[0;34m(\u001b[0m\u001b[0mself\u001b[0m\u001b[0;34m)\u001b[0m\u001b[0;34m:\u001b[0m\u001b[0;34m\u001b[0m\u001b[0;34m\u001b[0m\u001b[0m\n",
            "\u001b[0;32m/usr/local/lib/python3.7/dist-packages/joblib/parallel.py\u001b[0m in \u001b[0;36m<listcomp>\u001b[0;34m(.0)\u001b[0m\n\u001b[1;32m    261\u001b[0m         \u001b[0;32mwith\u001b[0m \u001b[0mparallel_backend\u001b[0m\u001b[0;34m(\u001b[0m\u001b[0mself\u001b[0m\u001b[0;34m.\u001b[0m\u001b[0m_backend\u001b[0m\u001b[0;34m,\u001b[0m \u001b[0mn_jobs\u001b[0m\u001b[0;34m=\u001b[0m\u001b[0mself\u001b[0m\u001b[0;34m.\u001b[0m\u001b[0m_n_jobs\u001b[0m\u001b[0;34m)\u001b[0m\u001b[0;34m:\u001b[0m\u001b[0;34m\u001b[0m\u001b[0;34m\u001b[0m\u001b[0m\n\u001b[1;32m    262\u001b[0m             return [func(*args, **kwargs)\n\u001b[0;32m--> 263\u001b[0;31m                     for func, args, kwargs in self.items]\n\u001b[0m\u001b[1;32m    264\u001b[0m \u001b[0;34m\u001b[0m\u001b[0m\n\u001b[1;32m    265\u001b[0m     \u001b[0;32mdef\u001b[0m \u001b[0m__reduce__\u001b[0m\u001b[0;34m(\u001b[0m\u001b[0mself\u001b[0m\u001b[0;34m)\u001b[0m\u001b[0;34m:\u001b[0m\u001b[0;34m\u001b[0m\u001b[0;34m\u001b[0m\u001b[0m\n",
            "\u001b[0;32m/usr/local/lib/python3.7/dist-packages/sklearn/utils/fixes.py\u001b[0m in \u001b[0;36m__call__\u001b[0;34m(self, *args, **kwargs)\u001b[0m\n\u001b[1;32m    214\u001b[0m     \u001b[0;32mdef\u001b[0m \u001b[0m__call__\u001b[0m\u001b[0;34m(\u001b[0m\u001b[0mself\u001b[0m\u001b[0;34m,\u001b[0m \u001b[0;34m*\u001b[0m\u001b[0margs\u001b[0m\u001b[0;34m,\u001b[0m \u001b[0;34m**\u001b[0m\u001b[0mkwargs\u001b[0m\u001b[0;34m)\u001b[0m\u001b[0;34m:\u001b[0m\u001b[0;34m\u001b[0m\u001b[0;34m\u001b[0m\u001b[0m\n\u001b[1;32m    215\u001b[0m         \u001b[0;32mwith\u001b[0m \u001b[0mconfig_context\u001b[0m\u001b[0;34m(\u001b[0m\u001b[0;34m**\u001b[0m\u001b[0mself\u001b[0m\u001b[0;34m.\u001b[0m\u001b[0mconfig\u001b[0m\u001b[0;34m)\u001b[0m\u001b[0;34m:\u001b[0m\u001b[0;34m\u001b[0m\u001b[0;34m\u001b[0m\u001b[0m\n\u001b[0;32m--> 216\u001b[0;31m             \u001b[0;32mreturn\u001b[0m \u001b[0mself\u001b[0m\u001b[0;34m.\u001b[0m\u001b[0mfunction\u001b[0m\u001b[0;34m(\u001b[0m\u001b[0;34m*\u001b[0m\u001b[0margs\u001b[0m\u001b[0;34m,\u001b[0m \u001b[0;34m**\u001b[0m\u001b[0mkwargs\u001b[0m\u001b[0;34m)\u001b[0m\u001b[0;34m\u001b[0m\u001b[0;34m\u001b[0m\u001b[0m\n\u001b[0m\u001b[1;32m    217\u001b[0m \u001b[0;34m\u001b[0m\u001b[0m\n\u001b[1;32m    218\u001b[0m \u001b[0;34m\u001b[0m\u001b[0m\n",
            "\u001b[0;32m/usr/local/lib/python3.7/dist-packages/sklearn/ensemble/_forest.py\u001b[0m in \u001b[0;36m_parallel_build_trees\u001b[0;34m(tree, forest, X, y, sample_weight, tree_idx, n_trees, verbose, class_weight, n_samples_bootstrap)\u001b[0m\n\u001b[1;32m    183\u001b[0m             \u001b[0mcurr_sample_weight\u001b[0m \u001b[0;34m*=\u001b[0m \u001b[0mcompute_sample_weight\u001b[0m\u001b[0;34m(\u001b[0m\u001b[0;34m\"balanced\"\u001b[0m\u001b[0;34m,\u001b[0m \u001b[0my\u001b[0m\u001b[0;34m,\u001b[0m \u001b[0mindices\u001b[0m\u001b[0;34m=\u001b[0m\u001b[0mindices\u001b[0m\u001b[0;34m)\u001b[0m\u001b[0;34m\u001b[0m\u001b[0;34m\u001b[0m\u001b[0m\n\u001b[1;32m    184\u001b[0m \u001b[0;34m\u001b[0m\u001b[0m\n\u001b[0;32m--> 185\u001b[0;31m         \u001b[0mtree\u001b[0m\u001b[0;34m.\u001b[0m\u001b[0mfit\u001b[0m\u001b[0;34m(\u001b[0m\u001b[0mX\u001b[0m\u001b[0;34m,\u001b[0m \u001b[0my\u001b[0m\u001b[0;34m,\u001b[0m \u001b[0msample_weight\u001b[0m\u001b[0;34m=\u001b[0m\u001b[0mcurr_sample_weight\u001b[0m\u001b[0;34m,\u001b[0m \u001b[0mcheck_input\u001b[0m\u001b[0;34m=\u001b[0m\u001b[0;32mFalse\u001b[0m\u001b[0;34m)\u001b[0m\u001b[0;34m\u001b[0m\u001b[0;34m\u001b[0m\u001b[0m\n\u001b[0m\u001b[1;32m    186\u001b[0m     \u001b[0;32melse\u001b[0m\u001b[0;34m:\u001b[0m\u001b[0;34m\u001b[0m\u001b[0;34m\u001b[0m\u001b[0m\n\u001b[1;32m    187\u001b[0m         \u001b[0mtree\u001b[0m\u001b[0;34m.\u001b[0m\u001b[0mfit\u001b[0m\u001b[0;34m(\u001b[0m\u001b[0mX\u001b[0m\u001b[0;34m,\u001b[0m \u001b[0my\u001b[0m\u001b[0;34m,\u001b[0m \u001b[0msample_weight\u001b[0m\u001b[0;34m=\u001b[0m\u001b[0msample_weight\u001b[0m\u001b[0;34m,\u001b[0m \u001b[0mcheck_input\u001b[0m\u001b[0;34m=\u001b[0m\u001b[0;32mFalse\u001b[0m\u001b[0;34m)\u001b[0m\u001b[0;34m\u001b[0m\u001b[0;34m\u001b[0m\u001b[0m\n",
            "\u001b[0;32m/usr/local/lib/python3.7/dist-packages/sklearn/tree/_classes.py\u001b[0m in \u001b[0;36mfit\u001b[0;34m(self, X, y, sample_weight, check_input, X_idx_sorted)\u001b[0m\n\u001b[1;32m    940\u001b[0m             \u001b[0msample_weight\u001b[0m\u001b[0;34m=\u001b[0m\u001b[0msample_weight\u001b[0m\u001b[0;34m,\u001b[0m\u001b[0;34m\u001b[0m\u001b[0;34m\u001b[0m\u001b[0m\n\u001b[1;32m    941\u001b[0m             \u001b[0mcheck_input\u001b[0m\u001b[0;34m=\u001b[0m\u001b[0mcheck_input\u001b[0m\u001b[0;34m,\u001b[0m\u001b[0;34m\u001b[0m\u001b[0;34m\u001b[0m\u001b[0m\n\u001b[0;32m--> 942\u001b[0;31m             \u001b[0mX_idx_sorted\u001b[0m\u001b[0;34m=\u001b[0m\u001b[0mX_idx_sorted\u001b[0m\u001b[0;34m,\u001b[0m\u001b[0;34m\u001b[0m\u001b[0;34m\u001b[0m\u001b[0m\n\u001b[0m\u001b[1;32m    943\u001b[0m         )\n\u001b[1;32m    944\u001b[0m         \u001b[0;32mreturn\u001b[0m \u001b[0mself\u001b[0m\u001b[0;34m\u001b[0m\u001b[0;34m\u001b[0m\u001b[0m\n",
            "\u001b[0;32m/usr/local/lib/python3.7/dist-packages/sklearn/tree/_classes.py\u001b[0m in \u001b[0;36mfit\u001b[0;34m(self, X, y, sample_weight, check_input, X_idx_sorted)\u001b[0m\n\u001b[1;32m    418\u001b[0m             )\n\u001b[1;32m    419\u001b[0m \u001b[0;34m\u001b[0m\u001b[0m\n\u001b[0;32m--> 420\u001b[0;31m         \u001b[0mbuilder\u001b[0m\u001b[0;34m.\u001b[0m\u001b[0mbuild\u001b[0m\u001b[0;34m(\u001b[0m\u001b[0mself\u001b[0m\u001b[0;34m.\u001b[0m\u001b[0mtree_\u001b[0m\u001b[0;34m,\u001b[0m \u001b[0mX\u001b[0m\u001b[0;34m,\u001b[0m \u001b[0my\u001b[0m\u001b[0;34m,\u001b[0m \u001b[0msample_weight\u001b[0m\u001b[0;34m)\u001b[0m\u001b[0;34m\u001b[0m\u001b[0;34m\u001b[0m\u001b[0m\n\u001b[0m\u001b[1;32m    421\u001b[0m \u001b[0;34m\u001b[0m\u001b[0m\n\u001b[1;32m    422\u001b[0m         \u001b[0;32mif\u001b[0m \u001b[0mself\u001b[0m\u001b[0;34m.\u001b[0m\u001b[0mn_outputs_\u001b[0m \u001b[0;34m==\u001b[0m \u001b[0;36m1\u001b[0m \u001b[0;32mand\u001b[0m \u001b[0mis_classifier\u001b[0m\u001b[0;34m(\u001b[0m\u001b[0mself\u001b[0m\u001b[0;34m)\u001b[0m\u001b[0;34m:\u001b[0m\u001b[0;34m\u001b[0m\u001b[0;34m\u001b[0m\u001b[0m\n",
            "\u001b[0;31mKeyboardInterrupt\u001b[0m: "
          ]
        }
      ],
      "source": [
        "#Training the Random Forest model on training data\n",
        "from sklearn.ensemble import RandomForestClassifier\n",
        "from yellowbrick.model_selection import learning_curve\n",
        "\n",
        "Random_F_model = RandomForestClassifier(n_estimators=20, random_state=0)\n",
        "Random_F_model.fit(x_train, y_train)"
      ]
    },
    {
      "cell_type": "code",
      "source": [
        "#Training the Random Forest model on training data\n",
        "from sklearn.ensemble import RandomForestClassifier\n",
        "from yellowbrick.model_selection import learning_curve\n",
        "\n",
        "Random_F_model = RandomForestClassifier(n_estimators=20, random_state=0)\n",
        "print(learning_curve(Random_F_model,x_train, y_train, cv=10, scoring='accuracy'))"
      ],
      "metadata": {
        "id": "NPiDol-P6ejx",
        "colab": {
          "base_uri": "https://localhost:8080/",
          "height": 704
        },
        "outputId": "94f63bec-5246-47a3-8d51-54da55830ee6"
      },
      "execution_count": null,
      "outputs": [
        {
          "output_type": "display_data",
          "data": {
            "text/plain": [
              "<Figure size 576x396 with 1 Axes>"
            ],
            "image/png": "[encoded data removed]"
          },
          "metadata": {}
        },
        {
          "output_type": "error",
          "ename": "ValueError",
          "evalue": "ignored",
          "traceback": [
            "\u001b[0;31m---------------------------------------------------------------------------\u001b[0m",
            "\u001b[0;31mValueError\u001b[0m                                Traceback (most recent call last)",
            "\u001b[0;32m<ipython-input-24-fce89af6cafb>\u001b[0m in \u001b[0;36m<module>\u001b[0;34m()\u001b[0m\n\u001b[1;32m      4\u001b[0m \u001b[0;34m\u001b[0m\u001b[0m\n\u001b[1;32m      5\u001b[0m \u001b[0mRandom_F_model\u001b[0m \u001b[0;34m=\u001b[0m \u001b[0mRandomForestClassifier\u001b[0m\u001b[0;34m(\u001b[0m\u001b[0mn_estimators\u001b[0m\u001b[0;34m=\u001b[0m\u001b[0;36m20\u001b[0m\u001b[0;34m,\u001b[0m \u001b[0mrandom_state\u001b[0m\u001b[0;34m=\u001b[0m\u001b[0;36m0\u001b[0m\u001b[0;34m)\u001b[0m\u001b[0;34m\u001b[0m\u001b[0;34m\u001b[0m\u001b[0m\n\u001b[0;32m----> 6\u001b[0;31m \u001b[0mprint\u001b[0m\u001b[0;34m(\u001b[0m\u001b[0mlearning_curve\u001b[0m\u001b[0;34m(\u001b[0m\u001b[0mRandom_F_model\u001b[0m\u001b[0;34m,\u001b[0m\u001b[0mx_train\u001b[0m\u001b[0;34m,\u001b[0m \u001b[0my_train\u001b[0m\u001b[0;34m,\u001b[0m \u001b[0mcv\u001b[0m\u001b[0;34m=\u001b[0m\u001b[0;36m10\u001b[0m\u001b[0;34m,\u001b[0m \u001b[0mscoring\u001b[0m\u001b[0;34m=\u001b[0m\u001b[0;34m'accuracy'\u001b[0m\u001b[0;34m)\u001b[0m\u001b[0;34m)\u001b[0m\u001b[0;34m\u001b[0m\u001b[0;34m\u001b[0m\u001b[0m\n\u001b[0m",
            "\u001b[0;32m/usr/local/lib/python3.7/dist-packages/sklearn/base.py\u001b[0m in \u001b[0;36m__repr__\u001b[0;34m(self, N_CHAR_MAX)\u001b[0m\n\u001b[1;32m    277\u001b[0m         )\n\u001b[1;32m    278\u001b[0m \u001b[0;34m\u001b[0m\u001b[0m\n\u001b[0;32m--> 279\u001b[0;31m         \u001b[0mrepr_\u001b[0m \u001b[0;34m=\u001b[0m \u001b[0mpp\u001b[0m\u001b[0;34m.\u001b[0m\u001b[0mpformat\u001b[0m\u001b[0;34m(\u001b[0m\u001b[0mself\u001b[0m\u001b[0;34m)\u001b[0m\u001b[0;34m\u001b[0m\u001b[0;34m\u001b[0m\u001b[0m\n\u001b[0m\u001b[1;32m    280\u001b[0m \u001b[0;34m\u001b[0m\u001b[0m\n\u001b[1;32m    281\u001b[0m         \u001b[0;31m# Use bruteforce ellipsis when there are a lot of non-blank characters\u001b[0m\u001b[0;34m\u001b[0m\u001b[0;34m\u001b[0m\u001b[0;34m\u001b[0m\u001b[0m\n",
            "\u001b[0;32m/usr/lib/python3.7/pprint.py\u001b[0m in \u001b[0;36mpformat\u001b[0;34m(self, object)\u001b[0m\n\u001b[1;32m    142\u001b[0m     \u001b[0;32mdef\u001b[0m \u001b[0mpformat\u001b[0m\u001b[0;34m(\u001b[0m\u001b[0mself\u001b[0m\u001b[0;34m,\u001b[0m \u001b[0mobject\u001b[0m\u001b[0;34m)\u001b[0m\u001b[0;34m:\u001b[0m\u001b[0;34m\u001b[0m\u001b[0;34m\u001b[0m\u001b[0m\n\u001b[1;32m    143\u001b[0m         \u001b[0msio\u001b[0m \u001b[0;34m=\u001b[0m \u001b[0m_StringIO\u001b[0m\u001b[0;34m(\u001b[0m\u001b[0;34m)\u001b[0m\u001b[0;34m\u001b[0m\u001b[0;34m\u001b[0m\u001b[0m\n\u001b[0;32m--> 144\u001b[0;31m         \u001b[0mself\u001b[0m\u001b[0;34m.\u001b[0m\u001b[0m_format\u001b[0m\u001b[0;34m(\u001b[0m\u001b[0mobject\u001b[0m\u001b[0;34m,\u001b[0m \u001b[0msio\u001b[0m\u001b[0;34m,\u001b[0m \u001b[0;36m0\u001b[0m\u001b[0;34m,\u001b[0m \u001b[0;36m0\u001b[0m\u001b[0;34m,\u001b[0m \u001b[0;34m{\u001b[0m\u001b[0;34m}\u001b[0m\u001b[0;34m,\u001b[0m \u001b[0;36m0\u001b[0m\u001b[0;34m)\u001b[0m\u001b[0;34m\u001b[0m\u001b[0;34m\u001b[0m\u001b[0m\n\u001b[0m\u001b[1;32m    145\u001b[0m         \u001b[0;32mreturn\u001b[0m \u001b[0msio\u001b[0m\u001b[0;34m.\u001b[0m\u001b[0mgetvalue\u001b[0m\u001b[0;34m(\u001b[0m\u001b[0;34m)\u001b[0m\u001b[0;34m\u001b[0m\u001b[0;34m\u001b[0m\u001b[0m\n\u001b[1;32m    146\u001b[0m \u001b[0;34m\u001b[0m\u001b[0m\n",
            "\u001b[0;32m/usr/lib/python3.7/pprint.py\u001b[0m in \u001b[0;36m_format\u001b[0;34m(self, object, stream, indent, allowance, context, level)\u001b[0m\n\u001b[1;32m    159\u001b[0m             \u001b[0mself\u001b[0m\u001b[0;34m.\u001b[0m\u001b[0m_readable\u001b[0m \u001b[0;34m=\u001b[0m \u001b[0;32mFalse\u001b[0m\u001b[0;34m\u001b[0m\u001b[0;34m\u001b[0m\u001b[0m\n\u001b[1;32m    160\u001b[0m             \u001b[0;32mreturn\u001b[0m\u001b[0;34m\u001b[0m\u001b[0;34m\u001b[0m\u001b[0m\n\u001b[0;32m--> 161\u001b[0;31m         \u001b[0mrep\u001b[0m \u001b[0;34m=\u001b[0m \u001b[0mself\u001b[0m\u001b[0;34m.\u001b[0m\u001b[0m_repr\u001b[0m\u001b[0;34m(\u001b[0m\u001b[0mobject\u001b[0m\u001b[0;34m,\u001b[0m \u001b[0mcontext\u001b[0m\u001b[0;34m,\u001b[0m \u001b[0mlevel\u001b[0m\u001b[0;34m)\u001b[0m\u001b[0;34m\u001b[0m\u001b[0;34m\u001b[0m\u001b[0m\n\u001b[0m\u001b[1;32m    162\u001b[0m         \u001b[0mmax_width\u001b[0m \u001b[0;34m=\u001b[0m \u001b[0mself\u001b[0m\u001b[0;34m.\u001b[0m\u001b[0m_width\u001b[0m \u001b[0;34m-\u001b[0m \u001b[0mindent\u001b[0m \u001b[0;34m-\u001b[0m \u001b[0mallowance\u001b[0m\u001b[0;34m\u001b[0m\u001b[0;34m\u001b[0m\u001b[0m\n\u001b[1;32m    163\u001b[0m         \u001b[0;32mif\u001b[0m \u001b[0mlen\u001b[0m\u001b[0;34m(\u001b[0m\u001b[0mrep\u001b[0m\u001b[0;34m)\u001b[0m \u001b[0;34m>\u001b[0m \u001b[0mmax_width\u001b[0m\u001b[0;34m:\u001b[0m\u001b[0;34m\u001b[0m\u001b[0;34m\u001b[0m\u001b[0m\n",
            "\u001b[0;32m/usr/lib/python3.7/pprint.py\u001b[0m in \u001b[0;36m_repr\u001b[0;34m(self, object, context, level)\u001b[0m\n\u001b[1;32m    391\u001b[0m     \u001b[0;32mdef\u001b[0m \u001b[0m_repr\u001b[0m\u001b[0;34m(\u001b[0m\u001b[0mself\u001b[0m\u001b[0;34m,\u001b[0m \u001b[0mobject\u001b[0m\u001b[0;34m,\u001b[0m \u001b[0mcontext\u001b[0m\u001b[0;34m,\u001b[0m \u001b[0mlevel\u001b[0m\u001b[0;34m)\u001b[0m\u001b[0;34m:\u001b[0m\u001b[0;34m\u001b[0m\u001b[0;34m\u001b[0m\u001b[0m\n\u001b[1;32m    392\u001b[0m         repr, readable, recursive = self.format(object, context.copy(),\n\u001b[0;32m--> 393\u001b[0;31m                                                 self._depth, level)\n\u001b[0m\u001b[1;32m    394\u001b[0m         \u001b[0;32mif\u001b[0m \u001b[0;32mnot\u001b[0m \u001b[0mreadable\u001b[0m\u001b[0;34m:\u001b[0m\u001b[0;34m\u001b[0m\u001b[0;34m\u001b[0m\u001b[0m\n\u001b[1;32m    395\u001b[0m             \u001b[0mself\u001b[0m\u001b[0;34m.\u001b[0m\u001b[0m_readable\u001b[0m \u001b[0;34m=\u001b[0m \u001b[0;32mFalse\u001b[0m\u001b[0;34m\u001b[0m\u001b[0;34m\u001b[0m\u001b[0m\n",
            "\u001b[0;32m/usr/local/lib/python3.7/dist-packages/sklearn/utils/_pprint.py\u001b[0m in \u001b[0;36mformat\u001b[0;34m(self, object, context, maxlevels, level)\u001b[0m\n\u001b[1;32m    188\u001b[0m     \u001b[0;32mdef\u001b[0m \u001b[0mformat\u001b[0m\u001b[0;34m(\u001b[0m\u001b[0mself\u001b[0m\u001b[0;34m,\u001b[0m \u001b[0mobject\u001b[0m\u001b[0;34m,\u001b[0m \u001b[0mcontext\u001b[0m\u001b[0;34m,\u001b[0m \u001b[0mmaxlevels\u001b[0m\u001b[0;34m,\u001b[0m \u001b[0mlevel\u001b[0m\u001b[0;34m)\u001b[0m\u001b[0;34m:\u001b[0m\u001b[0;34m\u001b[0m\u001b[0;34m\u001b[0m\u001b[0m\n\u001b[1;32m    189\u001b[0m         return _safe_repr(\n\u001b[0;32m--> 190\u001b[0;31m             \u001b[0mobject\u001b[0m\u001b[0;34m,\u001b[0m \u001b[0mcontext\u001b[0m\u001b[0;34m,\u001b[0m \u001b[0mmaxlevels\u001b[0m\u001b[0;34m,\u001b[0m \u001b[0mlevel\u001b[0m\u001b[0;34m,\u001b[0m \u001b[0mchanged_only\u001b[0m\u001b[0;34m=\u001b[0m\u001b[0mself\u001b[0m\u001b[0;34m.\u001b[0m\u001b[0m_changed_only\u001b[0m\u001b[0;34m\u001b[0m\u001b[0;34m\u001b[0m\u001b[0m\n\u001b[0m\u001b[1;32m    191\u001b[0m         )\n\u001b[1;32m    192\u001b[0m \u001b[0;34m\u001b[0m\u001b[0m\n",
            "\u001b[0;32m/usr/local/lib/python3.7/dist-packages/sklearn/utils/_pprint.py\u001b[0m in \u001b[0;36m_safe_repr\u001b[0;34m(object, context, maxlevels, level, changed_only)\u001b[0m\n\u001b[1;32m    438\u001b[0m         \u001b[0mrecursive\u001b[0m \u001b[0;34m=\u001b[0m \u001b[0;32mFalse\u001b[0m\u001b[0;34m\u001b[0m\u001b[0;34m\u001b[0m\u001b[0m\n\u001b[1;32m    439\u001b[0m         \u001b[0;32mif\u001b[0m \u001b[0mchanged_only\u001b[0m\u001b[0;34m:\u001b[0m\u001b[0;34m\u001b[0m\u001b[0;34m\u001b[0m\u001b[0m\n\u001b[0;32m--> 440\u001b[0;31m             \u001b[0mparams\u001b[0m \u001b[0;34m=\u001b[0m \u001b[0m_changed_params\u001b[0m\u001b[0;34m(\u001b[0m\u001b[0mobject\u001b[0m\u001b[0;34m)\u001b[0m\u001b[0;34m\u001b[0m\u001b[0;34m\u001b[0m\u001b[0m\n\u001b[0m\u001b[1;32m    441\u001b[0m         \u001b[0;32melse\u001b[0m\u001b[0;34m:\u001b[0m\u001b[0;34m\u001b[0m\u001b[0;34m\u001b[0m\u001b[0m\n\u001b[1;32m    442\u001b[0m             \u001b[0mparams\u001b[0m \u001b[0;34m=\u001b[0m \u001b[0mobject\u001b[0m\u001b[0;34m.\u001b[0m\u001b[0mget_params\u001b[0m\u001b[0;34m(\u001b[0m\u001b[0mdeep\u001b[0m\u001b[0;34m=\u001b[0m\u001b[0;32mFalse\u001b[0m\u001b[0;34m)\u001b[0m\u001b[0;34m\u001b[0m\u001b[0;34m\u001b[0m\u001b[0m\n",
            "\u001b[0;32m/usr/local/lib/python3.7/dist-packages/sklearn/utils/_pprint.py\u001b[0m in \u001b[0;36m_changed_params\u001b[0;34m(estimator)\u001b[0m\n\u001b[1;32m    111\u001b[0m         \u001b[0;32mreturn\u001b[0m \u001b[0;32mFalse\u001b[0m\u001b[0;34m\u001b[0m\u001b[0;34m\u001b[0m\u001b[0m\n\u001b[1;32m    112\u001b[0m \u001b[0;34m\u001b[0m\u001b[0m\n\u001b[0;32m--> 113\u001b[0;31m     \u001b[0;32mreturn\u001b[0m \u001b[0;34m{\u001b[0m\u001b[0mk\u001b[0m\u001b[0;34m:\u001b[0m \u001b[0mv\u001b[0m \u001b[0;32mfor\u001b[0m \u001b[0mk\u001b[0m\u001b[0;34m,\u001b[0m \u001b[0mv\u001b[0m \u001b[0;32min\u001b[0m \u001b[0mparams\u001b[0m\u001b[0;34m.\u001b[0m\u001b[0mitems\u001b[0m\u001b[0;34m(\u001b[0m\u001b[0;34m)\u001b[0m \u001b[0;32mif\u001b[0m \u001b[0mhas_changed\u001b[0m\u001b[0;34m(\u001b[0m\u001b[0mk\u001b[0m\u001b[0;34m,\u001b[0m \u001b[0mv\u001b[0m\u001b[0;34m)\u001b[0m\u001b[0;34m}\u001b[0m\u001b[0;34m\u001b[0m\u001b[0;34m\u001b[0m\u001b[0m\n\u001b[0m\u001b[1;32m    114\u001b[0m \u001b[0;34m\u001b[0m\u001b[0m\n\u001b[1;32m    115\u001b[0m \u001b[0;34m\u001b[0m\u001b[0m\n",
            "\u001b[0;32m/usr/local/lib/python3.7/dist-packages/sklearn/utils/_pprint.py\u001b[0m in \u001b[0;36m<dictcomp>\u001b[0;34m(.0)\u001b[0m\n\u001b[1;32m    111\u001b[0m         \u001b[0;32mreturn\u001b[0m \u001b[0;32mFalse\u001b[0m\u001b[0;34m\u001b[0m\u001b[0;34m\u001b[0m\u001b[0m\n\u001b[1;32m    112\u001b[0m \u001b[0;34m\u001b[0m\u001b[0m\n\u001b[0;32m--> 113\u001b[0;31m     \u001b[0;32mreturn\u001b[0m \u001b[0;34m{\u001b[0m\u001b[0mk\u001b[0m\u001b[0;34m:\u001b[0m \u001b[0mv\u001b[0m \u001b[0;32mfor\u001b[0m \u001b[0mk\u001b[0m\u001b[0;34m,\u001b[0m \u001b[0mv\u001b[0m \u001b[0;32min\u001b[0m \u001b[0mparams\u001b[0m\u001b[0;34m.\u001b[0m\u001b[0mitems\u001b[0m\u001b[0;34m(\u001b[0m\u001b[0;34m)\u001b[0m \u001b[0;32mif\u001b[0m \u001b[0mhas_changed\u001b[0m\u001b[0;34m(\u001b[0m\u001b[0mk\u001b[0m\u001b[0;34m,\u001b[0m \u001b[0mv\u001b[0m\u001b[0;34m)\u001b[0m\u001b[0;34m}\u001b[0m\u001b[0;34m\u001b[0m\u001b[0;34m\u001b[0m\u001b[0m\n\u001b[0m\u001b[1;32m    114\u001b[0m \u001b[0;34m\u001b[0m\u001b[0m\n\u001b[1;32m    115\u001b[0m \u001b[0;34m\u001b[0m\u001b[0m\n",
            "\u001b[0;32m/usr/local/lib/python3.7/dist-packages/sklearn/utils/_pprint.py\u001b[0m in \u001b[0;36mhas_changed\u001b[0;34m(k, v)\u001b[0m\n\u001b[1;32m     99\u001b[0m         \u001b[0;32mif\u001b[0m \u001b[0mk\u001b[0m \u001b[0;32mnot\u001b[0m \u001b[0;32min\u001b[0m \u001b[0minit_params\u001b[0m\u001b[0;34m:\u001b[0m  \u001b[0;31m# happens if k is part of a **kwargs\u001b[0m\u001b[0;34m\u001b[0m\u001b[0;34m\u001b[0m\u001b[0m\n\u001b[1;32m    100\u001b[0m             \u001b[0;32mreturn\u001b[0m \u001b[0;32mTrue\u001b[0m\u001b[0;34m\u001b[0m\u001b[0;34m\u001b[0m\u001b[0m\n\u001b[0;32m--> 101\u001b[0;31m         \u001b[0;32mif\u001b[0m \u001b[0minit_params\u001b[0m\u001b[0;34m[\u001b[0m\u001b[0mk\u001b[0m\u001b[0;34m]\u001b[0m \u001b[0;34m==\u001b[0m \u001b[0minspect\u001b[0m\u001b[0;34m.\u001b[0m\u001b[0m_empty\u001b[0m\u001b[0;34m:\u001b[0m  \u001b[0;31m# k has no default value\u001b[0m\u001b[0;34m\u001b[0m\u001b[0;34m\u001b[0m\u001b[0m\n\u001b[0m\u001b[1;32m    102\u001b[0m             \u001b[0;32mreturn\u001b[0m \u001b[0;32mTrue\u001b[0m\u001b[0;34m\u001b[0m\u001b[0;34m\u001b[0m\u001b[0m\n\u001b[1;32m    103\u001b[0m         \u001b[0;31m# try to avoid calling repr on nested estimators\u001b[0m\u001b[0;34m\u001b[0m\u001b[0;34m\u001b[0m\u001b[0;34m\u001b[0m\u001b[0m\n",
            "\u001b[0;31mValueError\u001b[0m: The truth value of an array with more than one element is ambiguous. Use a.any() or a.all()"
          ]
        }
      ]
    },
    {
      "cell_type": "code",
      "execution_count": null,
      "metadata": {
        "id": "I8EKeIoyNPPs"
      },
      "outputs": [],
      "source": [
        "import pickle\n",
        "\n",
        "saved_model_RF = '/content/drive/MyDrive/NN Dataset/Models/RF_model_smote.sav'\n",
        "pickle.dump(Random_F_model, open(saved_model_RF, 'wb'))"
      ]
    },
    {
      "cell_type": "code",
      "execution_count": null,
      "metadata": {
        "colab": {
          "background_save": true
        },
        "id": "HZY05x1hNPPs"
      },
      "outputs": [],
      "source": [
        "y_pred = Random_F_model.predict(x_val)\n"
      ]
    },
    {
      "cell_type": "code",
      "execution_count": null,
      "metadata": {
        "colab": {
          "background_save": true
        },
        "id": "kj3jENutNPPs",
        "outputId": "063d4a3b-2e5c-4e00-f798-62f55277f30b"
      },
      "outputs": [
        {
          "name": "stdout",
          "output_type": "stream",
          "text": [
            "F1 Score: 0.9097797768751095\n",
            "Accuracy Score: 0.9108052209882337\n",
            "Precision score:  0.9099234360466042\n",
            "Recall score:  0.9107539838492922\n",
            "Accuracy Score: 0.9108052209882337\n",
            "Confusion Matrix: [[161095   7381   6098  26607]\n",
            " [  3229 195674   1023   1360]\n",
            " [  2317    783 197676    951]\n",
            " [ 17306   2417   2376 179225]]\n",
            "Mean Absolute Error: 0.2133608435813973\n",
            "Mean Squared Error: 0.5707234351063539\n",
            "Root Mean Squared Error: 0.7554623982081133\n"
          ]
        }
      ],
      "source": [
        "#print(type(y_pred))\n",
        "#print (type(y_val))\n",
        "print('F1 Score:', metrics.f1_score(y_val, y_pred, average='macro'))\n",
        "print('Accuracy Score:', metrics.accuracy_score(y_val, y_pred))\n",
        "print('Precision score: ', metrics.precision_score(y_val, y_pred, average='macro'))\n",
        "print('Recall score: ', metrics.recall_score(y_val, y_pred, average='macro'))\n",
        "print('Accuracy Score(macro):', metrics.accuracy_score(y_val, y_pred))\n",
        "print('Confusion Matrix:', metrics.confusion_matrix(y_val, y_pred))\n",
        "print('Mean Absolute Error:', metrics.mean_absolute_error(y_val, y_pred))\n",
        "print('Mean Squared Error:', metrics.mean_squared_error(y_val, y_pred))\n",
        "print('Root Mean Squared Error:', np.sqrt(metrics.mean_squared_error(y_val, y_pred)))"
      ]
    },
    {
      "cell_type": "markdown",
      "metadata": {
        "id": "EGBi13RQNPPs"
      },
      "source": [
        "## KNN"
      ]
    },
    {
      "cell_type": "code",
      "execution_count": null,
      "metadata": {
        "id": "ZawA0P6mNPPt"
      },
      "outputs": [],
      "source": [
        "from sklearn.neighbors import KNeighborsClassifier\n",
        "KNN_Classifier = KNeighborsClassifier(n_neighbors=10)\n",
        "KNN_Classifier.fit(x_train, y_train)"
      ]
    },
    {
      "cell_type": "code",
      "execution_count": null,
      "metadata": {
        "id": "RhQwpB0CNPPt"
      },
      "outputs": [],
      "source": [
        "import pickle\n",
        "\n",
        "saved_model_KNN = '/content/drive/MyDrive/NN Dataset/Models/KNN_smote.sav'\n",
        "pickle.dump(KNN_Classifier, open(saved_model_KNN, 'wb'))"
      ]
    },
    {
      "cell_type": "code",
      "execution_count": null,
      "metadata": {
        "id": "txgXyqdGNPPt"
      },
      "outputs": [],
      "source": [
        "y_pred_KNN = KNN_Classifier.predict(x_val)\n",
        "print('F1 score: ', metrics.f1_score(y_val, y_pred_KNN, average='macro'))"
      ]
    },
    {
      "cell_type": "code",
      "execution_count": null,
      "metadata": {
        "id": "z6R77jKKNPPu"
      },
      "outputs": [],
      "source": [
        "print('F1 Score:', metrics.f1_score(y_val, y_pred_KNN, average='macro'))\n",
        "print('Accuracy Score:', metrics.accuracy_score(y_val, y_pred_KNN))\n",
        "print('Precision score: ', metrics.precision_score(y_val, y_pred_KNN, average='macro'))\n",
        "print('Recall score: ', metrics.recall_score(y_val, y_pred_KNN, average='macro'))\n",
        "print('Accuracy Score:', metrics.accuracy_score(y_val, y_pred_KNN))\n",
        "print('Confusion Matrix:', metrics.confusion_matrix(y_val, y_pred_KNN))\n",
        "print('Mean Absolute Error:', metrics.mean_absolute_error(y_val, y_pred_KNN))\n",
        "print('Mean Squared Error:', metrics.mean_squared_error(y_val, y_pred_KNN))\n",
        "print('Root Mean Squared Error:', np.sqrt(metrics.mean_squared_error(y_val, y_pred_KNN)))"
      ]
    },
    {
      "cell_type": "code",
      "source": [
        "from sklearn.neighbors import KNeighborsClassifier\n",
        "KNN_Classifier = KNeighborsClassifier(n_neighbors=10)\n",
        "from yellowbrick.model_selection import learning_curve\n",
        "\n",
        "print(learning_curve(KNN_Classifier,x_train, y_train, cv=10, scoring='accuracy'))"
      ],
      "metadata": {
        "id": "UHUHS4lDxtUw",
        "colab": {
          "base_uri": "https://localhost:8080/",
          "height": 704
        },
        "outputId": "45129cb0-5ac8-4c89-bc84-015c3d761cf9"
      },
      "execution_count": null,
      "outputs": [
        {
          "output_type": "display_data",
          "data": {
            "text/plain": [
              "<Figure size 576x396 with 1 Axes>"
            ],
            "image/png": "[encoded data removed]"
          },
          "metadata": {}
        },
        {
          "output_type": "error",
          "ename": "ValueError",
          "evalue": "ignored",
          "traceback": [
            "\u001b[0;31m---------------------------------------------------------------------------\u001b[0m",
            "\u001b[0;31mValueError\u001b[0m                                Traceback (most recent call last)",
            "\u001b[0;32m<ipython-input-16-2e0d845b7022>\u001b[0m in \u001b[0;36m<module>\u001b[0;34m()\u001b[0m\n\u001b[1;32m      3\u001b[0m \u001b[0;32mfrom\u001b[0m \u001b[0myellowbrick\u001b[0m\u001b[0;34m.\u001b[0m\u001b[0mmodel_selection\u001b[0m \u001b[0;32mimport\u001b[0m \u001b[0mlearning_curve\u001b[0m\u001b[0;34m\u001b[0m\u001b[0;34m\u001b[0m\u001b[0m\n\u001b[1;32m      4\u001b[0m \u001b[0;34m\u001b[0m\u001b[0m\n\u001b[0;32m----> 5\u001b[0;31m \u001b[0mprint\u001b[0m\u001b[0;34m(\u001b[0m\u001b[0mlearning_curve\u001b[0m\u001b[0;34m(\u001b[0m\u001b[0mKNN_Classifier\u001b[0m\u001b[0;34m,\u001b[0m\u001b[0mx_train\u001b[0m\u001b[0;34m,\u001b[0m \u001b[0my_train\u001b[0m\u001b[0;34m,\u001b[0m \u001b[0mcv\u001b[0m\u001b[0;34m=\u001b[0m\u001b[0;36m10\u001b[0m\u001b[0;34m,\u001b[0m \u001b[0mscoring\u001b[0m\u001b[0;34m=\u001b[0m\u001b[0;34m'accuracy'\u001b[0m\u001b[0;34m)\u001b[0m\u001b[0;34m)\u001b[0m\u001b[0;34m\u001b[0m\u001b[0;34m\u001b[0m\u001b[0m\n\u001b[0m",
            "\u001b[0;32m/usr/local/lib/python3.7/dist-packages/sklearn/base.py\u001b[0m in \u001b[0;36m__repr__\u001b[0;34m(self, N_CHAR_MAX)\u001b[0m\n\u001b[1;32m    277\u001b[0m         )\n\u001b[1;32m    278\u001b[0m \u001b[0;34m\u001b[0m\u001b[0m\n\u001b[0;32m--> 279\u001b[0;31m         \u001b[0mrepr_\u001b[0m \u001b[0;34m=\u001b[0m \u001b[0mpp\u001b[0m\u001b[0;34m.\u001b[0m\u001b[0mpformat\u001b[0m\u001b[0;34m(\u001b[0m\u001b[0mself\u001b[0m\u001b[0;34m)\u001b[0m\u001b[0;34m\u001b[0m\u001b[0;34m\u001b[0m\u001b[0m\n\u001b[0m\u001b[1;32m    280\u001b[0m \u001b[0;34m\u001b[0m\u001b[0m\n\u001b[1;32m    281\u001b[0m         \u001b[0;31m# Use bruteforce ellipsis when there are a lot of non-blank characters\u001b[0m\u001b[0;34m\u001b[0m\u001b[0;34m\u001b[0m\u001b[0;34m\u001b[0m\u001b[0m\n",
            "\u001b[0;32m/usr/lib/python3.7/pprint.py\u001b[0m in \u001b[0;36mpformat\u001b[0;34m(self, object)\u001b[0m\n\u001b[1;32m    142\u001b[0m     \u001b[0;32mdef\u001b[0m \u001b[0mpformat\u001b[0m\u001b[0;34m(\u001b[0m\u001b[0mself\u001b[0m\u001b[0;34m,\u001b[0m \u001b[0mobject\u001b[0m\u001b[0;34m)\u001b[0m\u001b[0;34m:\u001b[0m\u001b[0;34m\u001b[0m\u001b[0;34m\u001b[0m\u001b[0m\n\u001b[1;32m    143\u001b[0m         \u001b[0msio\u001b[0m \u001b[0;34m=\u001b[0m \u001b[0m_StringIO\u001b[0m\u001b[0;34m(\u001b[0m\u001b[0;34m)\u001b[0m\u001b[0;34m\u001b[0m\u001b[0;34m\u001b[0m\u001b[0m\n\u001b[0;32m--> 144\u001b[0;31m         \u001b[0mself\u001b[0m\u001b[0;34m.\u001b[0m\u001b[0m_format\u001b[0m\u001b[0;34m(\u001b[0m\u001b[0mobject\u001b[0m\u001b[0;34m,\u001b[0m \u001b[0msio\u001b[0m\u001b[0;34m,\u001b[0m \u001b[0;36m0\u001b[0m\u001b[0;34m,\u001b[0m \u001b[0;36m0\u001b[0m\u001b[0;34m,\u001b[0m \u001b[0;34m{\u001b[0m\u001b[0;34m}\u001b[0m\u001b[0;34m,\u001b[0m \u001b[0;36m0\u001b[0m\u001b[0;34m)\u001b[0m\u001b[0;34m\u001b[0m\u001b[0;34m\u001b[0m\u001b[0m\n\u001b[0m\u001b[1;32m    145\u001b[0m         \u001b[0;32mreturn\u001b[0m \u001b[0msio\u001b[0m\u001b[0;34m.\u001b[0m\u001b[0mgetvalue\u001b[0m\u001b[0;34m(\u001b[0m\u001b[0;34m)\u001b[0m\u001b[0;34m\u001b[0m\u001b[0;34m\u001b[0m\u001b[0m\n\u001b[1;32m    146\u001b[0m \u001b[0;34m\u001b[0m\u001b[0m\n",
            "\u001b[0;32m/usr/lib/python3.7/pprint.py\u001b[0m in \u001b[0;36m_format\u001b[0;34m(self, object, stream, indent, allowance, context, level)\u001b[0m\n\u001b[1;32m    159\u001b[0m             \u001b[0mself\u001b[0m\u001b[0;34m.\u001b[0m\u001b[0m_readable\u001b[0m \u001b[0;34m=\u001b[0m \u001b[0;32mFalse\u001b[0m\u001b[0;34m\u001b[0m\u001b[0;34m\u001b[0m\u001b[0m\n\u001b[1;32m    160\u001b[0m             \u001b[0;32mreturn\u001b[0m\u001b[0;34m\u001b[0m\u001b[0;34m\u001b[0m\u001b[0m\n\u001b[0;32m--> 161\u001b[0;31m         \u001b[0mrep\u001b[0m \u001b[0;34m=\u001b[0m \u001b[0mself\u001b[0m\u001b[0;34m.\u001b[0m\u001b[0m_repr\u001b[0m\u001b[0;34m(\u001b[0m\u001b[0mobject\u001b[0m\u001b[0;34m,\u001b[0m \u001b[0mcontext\u001b[0m\u001b[0;34m,\u001b[0m \u001b[0mlevel\u001b[0m\u001b[0;34m)\u001b[0m\u001b[0;34m\u001b[0m\u001b[0;34m\u001b[0m\u001b[0m\n\u001b[0m\u001b[1;32m    162\u001b[0m         \u001b[0mmax_width\u001b[0m \u001b[0;34m=\u001b[0m \u001b[0mself\u001b[0m\u001b[0;34m.\u001b[0m\u001b[0m_width\u001b[0m \u001b[0;34m-\u001b[0m \u001b[0mindent\u001b[0m \u001b[0;34m-\u001b[0m \u001b[0mallowance\u001b[0m\u001b[0;34m\u001b[0m\u001b[0;34m\u001b[0m\u001b[0m\n\u001b[1;32m    163\u001b[0m         \u001b[0;32mif\u001b[0m \u001b[0mlen\u001b[0m\u001b[0;34m(\u001b[0m\u001b[0mrep\u001b[0m\u001b[0;34m)\u001b[0m \u001b[0;34m>\u001b[0m \u001b[0mmax_width\u001b[0m\u001b[0;34m:\u001b[0m\u001b[0;34m\u001b[0m\u001b[0;34m\u001b[0m\u001b[0m\n",
            "\u001b[0;32m/usr/lib/python3.7/pprint.py\u001b[0m in \u001b[0;36m_repr\u001b[0;34m(self, object, context, level)\u001b[0m\n\u001b[1;32m    391\u001b[0m     \u001b[0;32mdef\u001b[0m \u001b[0m_repr\u001b[0m\u001b[0;34m(\u001b[0m\u001b[0mself\u001b[0m\u001b[0;34m,\u001b[0m \u001b[0mobject\u001b[0m\u001b[0;34m,\u001b[0m \u001b[0mcontext\u001b[0m\u001b[0;34m,\u001b[0m \u001b[0mlevel\u001b[0m\u001b[0;34m)\u001b[0m\u001b[0;34m:\u001b[0m\u001b[0;34m\u001b[0m\u001b[0;34m\u001b[0m\u001b[0m\n\u001b[1;32m    392\u001b[0m         repr, readable, recursive = self.format(object, context.copy(),\n\u001b[0;32m--> 393\u001b[0;31m                                                 self._depth, level)\n\u001b[0m\u001b[1;32m    394\u001b[0m         \u001b[0;32mif\u001b[0m \u001b[0;32mnot\u001b[0m \u001b[0mreadable\u001b[0m\u001b[0;34m:\u001b[0m\u001b[0;34m\u001b[0m\u001b[0;34m\u001b[0m\u001b[0m\n\u001b[1;32m    395\u001b[0m             \u001b[0mself\u001b[0m\u001b[0;34m.\u001b[0m\u001b[0m_readable\u001b[0m \u001b[0;34m=\u001b[0m \u001b[0;32mFalse\u001b[0m\u001b[0;34m\u001b[0m\u001b[0;34m\u001b[0m\u001b[0m\n",
            "\u001b[0;32m/usr/local/lib/python3.7/dist-packages/sklearn/utils/_pprint.py\u001b[0m in \u001b[0;36mformat\u001b[0;34m(self, object, context, maxlevels, level)\u001b[0m\n\u001b[1;32m    188\u001b[0m     \u001b[0;32mdef\u001b[0m \u001b[0mformat\u001b[0m\u001b[0;34m(\u001b[0m\u001b[0mself\u001b[0m\u001b[0;34m,\u001b[0m \u001b[0mobject\u001b[0m\u001b[0;34m,\u001b[0m \u001b[0mcontext\u001b[0m\u001b[0;34m,\u001b[0m \u001b[0mmaxlevels\u001b[0m\u001b[0;34m,\u001b[0m \u001b[0mlevel\u001b[0m\u001b[0;34m)\u001b[0m\u001b[0;34m:\u001b[0m\u001b[0;34m\u001b[0m\u001b[0;34m\u001b[0m\u001b[0m\n\u001b[1;32m    189\u001b[0m         return _safe_repr(\n\u001b[0;32m--> 190\u001b[0;31m             \u001b[0mobject\u001b[0m\u001b[0;34m,\u001b[0m \u001b[0mcontext\u001b[0m\u001b[0;34m,\u001b[0m \u001b[0mmaxlevels\u001b[0m\u001b[0;34m,\u001b[0m \u001b[0mlevel\u001b[0m\u001b[0;34m,\u001b[0m \u001b[0mchanged_only\u001b[0m\u001b[0;34m=\u001b[0m\u001b[0mself\u001b[0m\u001b[0;34m.\u001b[0m\u001b[0m_changed_only\u001b[0m\u001b[0;34m\u001b[0m\u001b[0;34m\u001b[0m\u001b[0m\n\u001b[0m\u001b[1;32m    191\u001b[0m         )\n\u001b[1;32m    192\u001b[0m \u001b[0;34m\u001b[0m\u001b[0m\n",
            "\u001b[0;32m/usr/local/lib/python3.7/dist-packages/sklearn/utils/_pprint.py\u001b[0m in \u001b[0;36m_safe_repr\u001b[0;34m(object, context, maxlevels, level, changed_only)\u001b[0m\n\u001b[1;32m    438\u001b[0m         \u001b[0mrecursive\u001b[0m \u001b[0;34m=\u001b[0m \u001b[0;32mFalse\u001b[0m\u001b[0;34m\u001b[0m\u001b[0;34m\u001b[0m\u001b[0m\n\u001b[1;32m    439\u001b[0m         \u001b[0;32mif\u001b[0m \u001b[0mchanged_only\u001b[0m\u001b[0;34m:\u001b[0m\u001b[0;34m\u001b[0m\u001b[0;34m\u001b[0m\u001b[0m\n\u001b[0;32m--> 440\u001b[0;31m             \u001b[0mparams\u001b[0m \u001b[0;34m=\u001b[0m \u001b[0m_changed_params\u001b[0m\u001b[0;34m(\u001b[0m\u001b[0mobject\u001b[0m\u001b[0;34m)\u001b[0m\u001b[0;34m\u001b[0m\u001b[0;34m\u001b[0m\u001b[0m\n\u001b[0m\u001b[1;32m    441\u001b[0m         \u001b[0;32melse\u001b[0m\u001b[0;34m:\u001b[0m\u001b[0;34m\u001b[0m\u001b[0;34m\u001b[0m\u001b[0m\n\u001b[1;32m    442\u001b[0m             \u001b[0mparams\u001b[0m \u001b[0;34m=\u001b[0m \u001b[0mobject\u001b[0m\u001b[0;34m.\u001b[0m\u001b[0mget_params\u001b[0m\u001b[0;34m(\u001b[0m\u001b[0mdeep\u001b[0m\u001b[0;34m=\u001b[0m\u001b[0;32mFalse\u001b[0m\u001b[0;34m)\u001b[0m\u001b[0;34m\u001b[0m\u001b[0;34m\u001b[0m\u001b[0m\n",
            "\u001b[0;32m/usr/local/lib/python3.7/dist-packages/sklearn/utils/_pprint.py\u001b[0m in \u001b[0;36m_changed_params\u001b[0;34m(estimator)\u001b[0m\n\u001b[1;32m    111\u001b[0m         \u001b[0;32mreturn\u001b[0m \u001b[0;32mFalse\u001b[0m\u001b[0;34m\u001b[0m\u001b[0;34m\u001b[0m\u001b[0m\n\u001b[1;32m    112\u001b[0m \u001b[0;34m\u001b[0m\u001b[0m\n\u001b[0;32m--> 113\u001b[0;31m     \u001b[0;32mreturn\u001b[0m \u001b[0;34m{\u001b[0m\u001b[0mk\u001b[0m\u001b[0;34m:\u001b[0m \u001b[0mv\u001b[0m \u001b[0;32mfor\u001b[0m \u001b[0mk\u001b[0m\u001b[0;34m,\u001b[0m \u001b[0mv\u001b[0m \u001b[0;32min\u001b[0m \u001b[0mparams\u001b[0m\u001b[0;34m.\u001b[0m\u001b[0mitems\u001b[0m\u001b[0;34m(\u001b[0m\u001b[0;34m)\u001b[0m \u001b[0;32mif\u001b[0m \u001b[0mhas_changed\u001b[0m\u001b[0;34m(\u001b[0m\u001b[0mk\u001b[0m\u001b[0;34m,\u001b[0m \u001b[0mv\u001b[0m\u001b[0;34m)\u001b[0m\u001b[0;34m}\u001b[0m\u001b[0;34m\u001b[0m\u001b[0;34m\u001b[0m\u001b[0m\n\u001b[0m\u001b[1;32m    114\u001b[0m \u001b[0;34m\u001b[0m\u001b[0m\n\u001b[1;32m    115\u001b[0m \u001b[0;34m\u001b[0m\u001b[0m\n",
            "\u001b[0;32m/usr/local/lib/python3.7/dist-packages/sklearn/utils/_pprint.py\u001b[0m in \u001b[0;36m<dictcomp>\u001b[0;34m(.0)\u001b[0m\n\u001b[1;32m    111\u001b[0m         \u001b[0;32mreturn\u001b[0m \u001b[0;32mFalse\u001b[0m\u001b[0;34m\u001b[0m\u001b[0;34m\u001b[0m\u001b[0m\n\u001b[1;32m    112\u001b[0m \u001b[0;34m\u001b[0m\u001b[0m\n\u001b[0;32m--> 113\u001b[0;31m     \u001b[0;32mreturn\u001b[0m \u001b[0;34m{\u001b[0m\u001b[0mk\u001b[0m\u001b[0;34m:\u001b[0m \u001b[0mv\u001b[0m \u001b[0;32mfor\u001b[0m \u001b[0mk\u001b[0m\u001b[0;34m,\u001b[0m \u001b[0mv\u001b[0m \u001b[0;32min\u001b[0m \u001b[0mparams\u001b[0m\u001b[0;34m.\u001b[0m\u001b[0mitems\u001b[0m\u001b[0;34m(\u001b[0m\u001b[0;34m)\u001b[0m \u001b[0;32mif\u001b[0m \u001b[0mhas_changed\u001b[0m\u001b[0;34m(\u001b[0m\u001b[0mk\u001b[0m\u001b[0;34m,\u001b[0m \u001b[0mv\u001b[0m\u001b[0;34m)\u001b[0m\u001b[0;34m}\u001b[0m\u001b[0;34m\u001b[0m\u001b[0;34m\u001b[0m\u001b[0m\n\u001b[0m\u001b[1;32m    114\u001b[0m \u001b[0;34m\u001b[0m\u001b[0m\n\u001b[1;32m    115\u001b[0m \u001b[0;34m\u001b[0m\u001b[0m\n",
            "\u001b[0;32m/usr/local/lib/python3.7/dist-packages/sklearn/utils/_pprint.py\u001b[0m in \u001b[0;36mhas_changed\u001b[0;34m(k, v)\u001b[0m\n\u001b[1;32m     99\u001b[0m         \u001b[0;32mif\u001b[0m \u001b[0mk\u001b[0m \u001b[0;32mnot\u001b[0m \u001b[0;32min\u001b[0m \u001b[0minit_params\u001b[0m\u001b[0;34m:\u001b[0m  \u001b[0;31m# happens if k is part of a **kwargs\u001b[0m\u001b[0;34m\u001b[0m\u001b[0;34m\u001b[0m\u001b[0m\n\u001b[1;32m    100\u001b[0m             \u001b[0;32mreturn\u001b[0m \u001b[0;32mTrue\u001b[0m\u001b[0;34m\u001b[0m\u001b[0;34m\u001b[0m\u001b[0m\n\u001b[0;32m--> 101\u001b[0;31m         \u001b[0;32mif\u001b[0m \u001b[0minit_params\u001b[0m\u001b[0;34m[\u001b[0m\u001b[0mk\u001b[0m\u001b[0;34m]\u001b[0m \u001b[0;34m==\u001b[0m \u001b[0minspect\u001b[0m\u001b[0;34m.\u001b[0m\u001b[0m_empty\u001b[0m\u001b[0;34m:\u001b[0m  \u001b[0;31m# k has no default value\u001b[0m\u001b[0;34m\u001b[0m\u001b[0;34m\u001b[0m\u001b[0m\n\u001b[0m\u001b[1;32m    102\u001b[0m             \u001b[0;32mreturn\u001b[0m \u001b[0;32mTrue\u001b[0m\u001b[0;34m\u001b[0m\u001b[0;34m\u001b[0m\u001b[0m\n\u001b[1;32m    103\u001b[0m         \u001b[0;31m# try to avoid calling repr on nested estimators\u001b[0m\u001b[0;34m\u001b[0m\u001b[0;34m\u001b[0m\u001b[0;34m\u001b[0m\u001b[0m\n",
            "\u001b[0;31mValueError\u001b[0m: The truth value of an array with more than one element is ambiguous. Use a.any() or a.all()"
          ]
        }
      ]
    },
    {
      "cell_type": "markdown",
      "metadata": {
        "id": "nTwH9EtTNPPu"
      },
      "source": [
        "## Random Forest with estimator 40"
      ]
    },
    {
      "cell_type": "code",
      "execution_count": null,
      "metadata": {
        "id": "tlrFVtqcNPPu",
        "colab": {
          "base_uri": "https://localhost:8080/"
        },
        "outputId": "86082a82-174a-479a-c1c8-aa4e82c68d61"
      },
      "outputs": [
        {
          "output_type": "execute_result",
          "data": {
            "text/plain": [
              "RandomForestClassifier(n_estimators=40, random_state=0)"
            ]
          },
          "metadata": {},
          "execution_count": 23
        }
      ],
      "source": [
        "#Training the Random Forest model on training data\n",
        "from sklearn.ensemble import RandomForestClassifier\n",
        "\n",
        "Random_F_model_40 = RandomForestClassifier(n_estimators=40, random_state=0)\n",
        "Random_F_model_40.fit(x_train, y_train)"
      ]
    },
    {
      "cell_type": "code",
      "execution_count": null,
      "metadata": {
        "id": "Q8oFapZANPPu"
      },
      "outputs": [],
      "source": [
        "x_test_009 = pd.read_csv('/content/drive/MyDrive/NN Dataset/TestProcessData/subject_009_01final_inner.csv')\n",
        "x_test_010 = pd.read_csv('/content/drive/MyDrive/NN Dataset/TestProcessData/subject_010_01final_inner.csv')\n",
        "x_test_011 = pd.read_csv('/content/drive/MyDrive/NN Dataset/TestProcessData/subject_011_01final_inner.csv')\n",
        "x_test_012 = pd.read_csv('/content/drive/MyDrive/NN Dataset/TestProcessData/subject_012_01final_inner.csv')\n",
        "\n",
        "y_pred_RF_009 = Random_F_model_40.predict(x_test_009)\n",
        "y_pred_RF_010 = Random_F_model_40.predict(x_test_010)\n",
        "y_pred_RF_011 = Random_F_model_40.predict(x_test_011)\n",
        "y_pred_RF_012 = Random_F_model_40.predict(x_test_012)"
      ]
    },
    {
      "cell_type": "code",
      "execution_count": null,
      "metadata": {
        "id": "4b-FIf1nNPPv"
      },
      "outputs": [],
      "source": [
        "np.savetxt(\"TestResults/RF40/subject_009_01__y_prediction.csv\", y_pred_RF_009, delimiter=\",\")\n",
        "np.savetxt(\"TestResults/RF40/subject_010_01__y_prediction.csv\", y_pred_RF_010, delimiter=\",\")\n",
        "np.savetxt(\"TestResults/RF40/subject_011_01__y_prediction.csv\", y_pred_RF_011, delimiter=\",\")\n",
        "np.savetxt(\"TestResults/RF40/subject_012_01__y_prediction.csv\", y_pred_RF_012, delimiter=\",\")"
      ]
    },
    {
      "cell_type": "code",
      "execution_count": null,
      "metadata": {
        "id": "rbMB3lCoNPPv"
      },
      "outputs": [],
      "source": [
        "y_pred_RF40 = Random_F_model_40.predict(x_val)"
      ]
    },
    {
      "cell_type": "code",
      "execution_count": null,
      "metadata": {
        "id": "rk98AnDVNPPv",
        "colab": {
          "base_uri": "https://localhost:8080/"
        },
        "outputId": "3a221560-ea7d-4741-df77-bff772c056fe"
      },
      "outputs": [
        {
          "output_type": "stream",
          "name": "stdout",
          "text": [
            "F1 Score: 0.915856516937698\n",
            "Accuracy Score: 0.9169279891945308\n",
            "Precision score:  0.9164699744704151\n",
            "Recall score:  0.9168777622074374\n",
            "Accuracy Score: 0.9169279891945308\n",
            "Confusion Matrix: [[161565   7205   6074  26337]\n",
            " [  2723 196315    986   1262]\n",
            " [  1943    658 198177    949]\n",
            " [ 14475   2154   2150 182545]]\n",
            "Mean Absolute Error: 0.19859643111637482\n",
            "Mean Squared Error: 0.5309763406900901\n",
            "Root Mean Squared Error: 0.7286812339357246\n"
          ]
        }
      ],
      "source": [
        "print('F1 Score:', metrics.f1_score(y_val, y_pred_RF40, average='macro'))\n",
        "print('Accuracy Score:', metrics.accuracy_score(y_val, y_pred_RF40))\n",
        "print('Precision score: ', metrics.precision_score(y_val, y_pred_RF40, average='macro'))\n",
        "print('Recall score: ', metrics.recall_score(y_val, y_pred_RF40, average='macro'))\n",
        "print('Accuracy Score:', metrics.accuracy_score(y_val, y_pred_RF40))\n",
        "print('Confusion Matrix:', metrics.confusion_matrix(y_val, y_pred_RF40))\n",
        "print('Mean Absolute Error:', metrics.mean_absolute_error(y_val, y_pred_RF40))\n",
        "print('Mean Squared Error:', metrics.mean_squared_error(y_val, y_pred_RF40))\n",
        "print('Root Mean Squared Error:', np.sqrt(metrics.mean_squared_error(y_val, y_pred_RF40)))"
      ]
    },
    {
      "cell_type": "markdown",
      "metadata": {
        "id": "IOunMXd5NPPv"
      },
      "source": [
        "## Random Forest with estimator 60"
      ]
    },
    {
      "cell_type": "code",
      "execution_count": null,
      "metadata": {
        "id": "0N6ueSgbNPPw",
        "colab": {
          "base_uri": "https://localhost:8080/"
        },
        "outputId": "62c79a41-30ac-41b7-b9d0-03a0aac2b53d"
      },
      "outputs": [
        {
          "output_type": "execute_result",
          "data": {
            "text/plain": [
              "RandomForestClassifier(n_estimators=60, random_state=0)"
            ]
          },
          "metadata": {},
          "execution_count": 26
        }
      ],
      "source": [
        "#Training the Random Forest model on training data\n",
        "from sklearn.ensemble import RandomForestClassifier\n",
        "\n",
        "Random_F_model_60 = RandomForestClassifier(n_estimators=60, random_state=0)\n",
        "Random_F_model_60.fit(x_train, y_train)"
      ]
    },
    {
      "cell_type": "code",
      "execution_count": null,
      "metadata": {
        "id": "VXlM9m48NPPw"
      },
      "outputs": [],
      "source": [
        "x_test_009 = pd.read_csv('/content/drive/MyDrive/NN Dataset/TestProcessData/subject_009_01final_inner.csv')\n",
        "x_test_010 = pd.read_csv('/content/drive/MyDrive/NN Dataset/TestProcessData/subject_010_01final_inner.csv')\n",
        "x_test_011 = pd.read_csv('/content/drive/MyDrive/NN Dataset/TestProcessData/subject_011_01final_inner.csv')\n",
        "x_test_012 = pd.read_csv('/content/drive/MyDrive/NN Dataset/TestProcessData/subject_012_01final_inner.csv')\n",
        "\n",
        "y_pred_RF60_009 = Random_F_model_60.predict(x_test_009)\n",
        "y_pred_RF60_010 = Random_F_model_60.predict(x_test_010)\n",
        "y_pred_RF60_011 = Random_F_model_60.predict(x_test_011)\n",
        "y_pred_RF60_012 = Random_F_model_60.predict(x_test_012)"
      ]
    },
    {
      "cell_type": "code",
      "execution_count": null,
      "metadata": {
        "id": "ecfK8aujNPPw"
      },
      "outputs": [],
      "source": [
        "np.savetxt(\"TestResults/RF60/subject_009_01__y_prediction.csv\", y_pred_RF60_009, delimiter=\",\")\n",
        "np.savetxt(\"TestResults/RF60/subject_010_01__y_prediction.csv\", y_pred_RF60_010, delimiter=\",\")\n",
        "np.savetxt(\"TestResults/RF60/subject_011_01__y_prediction.csv\", y_pred_RF60_011, delimiter=\",\")\n",
        "np.savetxt(\"TestResults/RF60/subject_012_01__y_prediction.csv\", y_pred_RF60_012, delimiter=\",\")"
      ]
    },
    {
      "cell_type": "code",
      "execution_count": null,
      "metadata": {
        "id": "6cZvTwOlNPPw"
      },
      "outputs": [],
      "source": [
        "y_pred_RF60 = Random_F_model_60.predict(x_val)"
      ]
    },
    {
      "cell_type": "code",
      "execution_count": null,
      "metadata": {
        "id": "fLFezo-aNPPx",
        "colab": {
          "base_uri": "https://localhost:8080/"
        },
        "outputId": "43c15c2d-b3f3-4e6f-d133-34abb3cdc58a"
      },
      "outputs": [
        {
          "output_type": "stream",
          "name": "stdout",
          "text": [
            "F1 Score: 0.9181688554609746\n",
            "Accuracy Score: 0.9192494767342256\n",
            "Precision score:  0.9189303249886663\n",
            "Recall score:  0.9191997639831198\n",
            "Accuracy Score: 0.9192494767342256\n",
            "Confusion Matrix: [[161905   7143   6082  26051]\n",
            " [  2551 196562    948   1225]\n",
            " [  1860    610 198372    885]\n",
            " [ 13539   2047   2105 183633]]\n",
            "Mean Absolute Error: 0.1929689963476918\n",
            "Mean Squared Error: 0.5157029389783965\n",
            "Root Mean Squared Error: 0.7181245985052988\n"
          ]
        }
      ],
      "source": [
        "print('F1 Score:', metrics.f1_score(y_val, y_pred_RF60, average='macro'))\n",
        "print('Accuracy Score:', metrics.accuracy_score(y_val, y_pred_RF60))\n",
        "print('Precision score: ', metrics.precision_score(y_val, y_pred_RF60, average='macro'))\n",
        "print('Recall score: ', metrics.recall_score(y_val, y_pred_RF60, average='macro'))\n",
        "print('Accuracy Score:', metrics.accuracy_score(y_val, y_pred_RF60))\n",
        "print('Confusion Matrix:', metrics.confusion_matrix(y_val, y_pred_RF60))\n",
        "print('Mean Absolute Error:', metrics.mean_absolute_error(y_val, y_pred_RF60))\n",
        "print('Mean Squared Error:', metrics.mean_squared_error(y_val, y_pred_RF60))\n",
        "print('Root Mean Squared Error:', np.sqrt(metrics.mean_squared_error(y_val, y_pred_RF60)))"
      ]
    },
    {
      "cell_type": "markdown",
      "metadata": {
        "id": "qLr634KwNPPx"
      },
      "source": [
        "## Random forest with estimator 100"
      ]
    },
    {
      "cell_type": "code",
      "execution_count": null,
      "metadata": {
        "colab": {
          "background_save": true
        },
        "id": "FCbsYXi7NPPx",
        "outputId": "52d0652b-ea92-4ef4-c65f-4d61dfb4fdf0"
      },
      "outputs": [
        {
          "data": {
            "text/plain": [
              "RandomForestClassifier(random_state=0)"
            ]
          },
          "execution_count": null,
          "metadata": {},
          "output_type": "execute_result"
        }
      ],
      "source": [
        "## Random Forest with estimator 100 \n",
        "from sklearn.ensemble import RandomForestClassifier\n",
        "\n",
        "Random_F_model_100 = RandomForestClassifier(n_estimators=100, random_state=0)\n",
        "Random_F_model_100.fit(x_train, y_train)"
      ]
    },
    {
      "cell_type": "code",
      "execution_count": null,
      "metadata": {
        "colab": {
          "background_save": true
        },
        "id": "HfqARXnZNPPx"
      },
      "outputs": [],
      "source": [
        "y_pred_RF100 = Random_F_model_100.predict(x_val)"
      ]
    },
    {
      "cell_type": "code",
      "execution_count": null,
      "metadata": {
        "colab": {
          "background_save": true
        },
        "id": "dHavy1MPNPPy",
        "outputId": "501c8d11-7e4d-4b4f-801b-925075bf4c40"
      },
      "outputs": [
        {
          "name": "stdout",
          "output_type": "stream",
          "text": [
            "F1 Score: 0.9189096865720365\n",
            "Accuracy Score: 0.9200104777298583\n",
            "Precision score:  0.919829672079975\n",
            "Recall score:  0.9199607377639372\n",
            "Accuracy Score: 0.9200104777298583\n",
            "Confusion Matrix: [[161759   7136   6092  26194]\n",
            " [  2435 196651    970   1230]\n",
            " [  1767    607 198424    929]\n",
            " [ 12959   2009   2105 184251]]\n",
            "Mean Absolute Error: 0.19097897253692656\n",
            "Mean Squared Error: 0.5101698534359257\n",
            "Root Mean Squared Error: 0.7142617541461433\n"
          ]
        }
      ],
      "source": [
        "print('F1 Score:', metrics.f1_score(y_val, y_pred_RF100, average='macro'))\n",
        "print('Accuracy Score:', metrics.accuracy_score(y_val, y_pred_RF100))\n",
        "print('Precision score: ', metrics.precision_score(y_val, y_pred_RF100, average='macro'))\n",
        "print('Recall score: ', metrics.recall_score(y_val, y_pred_RF100, average='macro'))\n",
        "print('Accuracy Score:', metrics.accuracy_score(y_val, y_pred_RF100))\n",
        "print('Confusion Matrix:', metrics.confusion_matrix(y_val, y_pred_RF100))\n",
        "print('Mean Absolute Error:', metrics.mean_absolute_error(y_val, y_pred_RF100))\n",
        "print('Mean Squared Error:', metrics.mean_squared_error(y_val, y_pred_RF100))\n",
        "print('Root Mean Squared Error:', np.sqrt(metrics.mean_squared_error(y_val, y_pred_RF100)))"
      ]
    },
    {
      "cell_type": "code",
      "execution_count": null,
      "metadata": {
        "id": "WubbDhNuNPPy"
      },
      "outputs": [],
      "source": [
        "x_test_009 = pd.read_csv('/content/drive/MyDrive/NN Dataset/TestProcessData/subject_009_01final_inner.csv')\n",
        "x_test_010 = pd.read_csv('/content/drive/MyDrive/NN Dataset/TestProcessData/subject_010_01final_inner.csv')\n",
        "x_test_011 = pd.read_csv('/content/drive/MyDrive/NN Dataset/TestProcessData/subject_011_01final_inner.csv')\n",
        "x_test_012 = pd.read_csv('/content/drive/MyDrive/NN Dataset/TestProcessData/subject_012_01final_inner.csv')\n",
        "\n",
        "y_pred_RF100_009 = Random_F_model_100.predict(x_test_009)\n",
        "y_pred_RF100_010 = Random_F_model_100.predict(x_test_010)\n",
        "y_pred_RF100_011 = Random_F_model_100.predict(x_test_011)\n",
        "y_pred_RF100_012 = Random_F_model_100.predict(x_test_012)"
      ]
    },
    {
      "cell_type": "code",
      "execution_count": null,
      "metadata": {
        "id": "TyLMwkSsNPPy"
      },
      "outputs": [],
      "source": [
        "np.savetxt(\"TestResults/RF100/subject_009_01__y_prediction.csv\", y_pred_RF100_009, delimiter=\",\")\n",
        "np.savetxt(\"TestResults/RF100/subject_010_01__y_prediction.csv\", y_pred_RF100_010, delimiter=\",\")\n",
        "np.savetxt(\"TestResults/RF100/subject_011_01__y_prediction.csv\", y_pred_RF100_011, delimiter=\",\")\n",
        "np.savetxt(\"TestResults/RF100/subject_012_01__y_prediction.csv\", y_pred_RF100_012, delimiter=\",\")"
      ]
    },
    {
      "cell_type": "markdown",
      "metadata": {
        "id": "0c9BPkVRSE1y"
      },
      "source": [
        "## XGBoost "
      ]
    },
    {
      "cell_type": "code",
      "execution_count": null,
      "metadata": {
        "colab": {
          "base_uri": "https://localhost:8080/"
        },
        "id": "zHVuFIvhR_qS",
        "outputId": "6c8e0286-c859-4b7c-db64-d4f5535dc57b"
      },
      "outputs": [
        {
          "data": {
            "text/plain": [
              "XGBClassifier(n_estimators=20, objective='multi:softprob')"
            ]
          },
          "execution_count": 13,
          "metadata": {},
          "output_type": "execute_result"
        }
      ],
      "source": [
        "from xgboost import XGBClassifier\n",
        "\n",
        "# fit model on training data\n",
        "XGB_model = XGBClassifier(learning_rate=0.1, n_estimators=20)\n",
        "XGB_model.fit(x_train, y_train)"
      ]
    },
    {
      "cell_type": "code",
      "execution_count": null,
      "metadata": {
        "id": "V1dcgNxZR_qT"
      },
      "outputs": [],
      "source": [
        "import pickle\n",
        "\n",
        "saved_model_XGB = '/content/drive/MyDrive/NN Dataset/Models/XGB_smote.sav'\n",
        "pickle.dump(XGB_model, open(saved_model_XGB, 'wb'))"
      ]
    },
    {
      "cell_type": "code",
      "execution_count": null,
      "metadata": {
        "id": "cu0i5vzRR_qT"
      },
      "outputs": [],
      "source": [
        "x_test_009 = pd.read_csv('/content/drive/MyDrive/NN Dataset/TestProcessData/subject_009_01final_inner.csv')\n",
        "x_test_010 = pd.read_csv('/content/drive/MyDrive/NN Dataset/TestProcessData/subject_010_01final_inner.csv')\n",
        "x_test_011 = pd.read_csv('/content/drive/MyDrive/NN Dataset/TestProcessData/subject_011_01final_inner.csv')\n",
        "x_test_012 = pd.read_csv('/content/drive/MyDrive/NN Dataset/TestProcessData/subject_012_01final_inner.csv')\n",
        "\n",
        "y_pred_XG_009 = XGB_model.predict(x_test_009)\n",
        "y_pred_XG_010 = XGB_model.predict(x_test_010)\n",
        "y_pred_XG_011 = XGB_model.predict(x_test_011)\n",
        "y_pred_XG_012 = XGB_model.predict(x_test_012)"
      ]
    },
    {
      "cell_type": "code",
      "execution_count": null,
      "metadata": {
        "id": "rT6Szxn4R_qT"
      },
      "outputs": [],
      "source": [
        "np.savetxt(\"TestResults/XGB/subject_009_01__y_prediction.csv\", y_pred_XG_009, delimiter=\",\")\n",
        "np.savetxt(\"TestResults/XGB/subject_010_01__y_prediction.csv\", y_pred_XG_010, delimiter=\",\")\n",
        "np.savetxt(\"TestResults/XGB/subject_011_01__y_prediction.csv\", y_pred_XG_011, delimiter=\",\")\n",
        "np.savetxt(\"TestResults/XGB/subject_012_01__y_prediction.csv\", y_pred_XG_012, delimiter=\",\")"
      ]
    },
    {
      "cell_type": "code",
      "execution_count": null,
      "metadata": {
        "id": "yPswi3IkR_qU"
      },
      "outputs": [],
      "source": [
        "y_pred_XGB = XGB_model.predict(x_val)"
      ]
    },
    {
      "cell_type": "code",
      "execution_count": null,
      "metadata": {
        "colab": {
          "base_uri": "https://localhost:8080/"
        },
        "id": "jsT8VZeFR_qU",
        "outputId": "13450468-fdcc-4d4a-a218-ecfbaae6331f"
      },
      "outputs": [
        {
          "name": "stdout",
          "output_type": "stream",
          "text": [
            "F1 Score: 0.5313019877889197\n",
            "Accuracy Score: 0.5371686293788593\n",
            "Precision score:  0.5330388137776685\n",
            "Recall score:  0.5370461672198782\n",
            "Accuracy Score: 0.5371686293788593\n",
            "Confusion Matrix: [[ 67702  32778  39037  61664]\n",
            " [ 20517 113873  26241  40655]\n",
            " [ 19063  15422 143907  23335]\n",
            " [ 45472  22445  26190 107217]]\n",
            "Mean Absolute Error: 0.8792987866192934\n",
            "Mean Squared Error: 1.9782388475490305\n",
            "Root Mean Squared Error: 1.4064987904541655\n"
          ]
        }
      ],
      "source": [
        "print('F1 Score:', metrics.f1_score(y_val, y_pred_XGB, average='macro'))\n",
        "print('Accuracy Score:', metrics.accuracy_score(y_val, y_pred_XGB))\n",
        "print('Precision score: ', metrics.precision_score(y_val, y_pred_XGB, average='macro'))\n",
        "print('Recall score: ', metrics.recall_score(y_val, y_pred_XGB, average='macro'))\n",
        "print('Accuracy Score:', metrics.accuracy_score(y_val, y_pred_XGB))\n",
        "print('Confusion Matrix:', metrics.confusion_matrix(y_val, y_pred_XGB))\n",
        "print('Mean Absolute Error:', metrics.mean_absolute_error(y_val, y_pred_XGB))\n",
        "print('Mean Squared Error:', metrics.mean_squared_error(y_val, y_pred_XGB))\n",
        "print('Root Mean Squared Error:', np.sqrt(metrics.mean_squared_error(y_val, y_pred_XGB)))"
      ]
    },
    {
      "cell_type": "code",
      "source": [
        "path = r'/content/drive/MyDrive/NN Dataset/ECE542_sp2022_Project_TerrainRecognition/TestData'\n",
        "all_x_files = glob.glob(path + \"/subject_0*_*__x.csv\")\n",
        "all_x_time_files = glob.glob(path + \"/subject_0*_*__x_time.csv\")\n",
        "#all_y_files = glob.glob(path + \"/subject_00*_*__y.csv\")\n",
        "all_y_time_files = glob.glob(path + \"/subject_0*_*__y_time.csv\")\n",
        "li = []\n",
        "\n",
        "print(sorted(all_x_files))\n",
        "print(\"\\n\")\n",
        "print(sorted(all_x_time_files))\n",
        "print(\"\\n\")\n",
        "#print(sorted(all_y_files))\n",
        "#print(\"\\n\")\n",
        "print(sorted(all_y_time_files))\n",
        "\n",
        "gen_files=[]\n",
        "for filename in sorted(all_x_files):\n",
        "    gen= filename[:-7]\n",
        "    #print(filename,gen)\n",
        "    gen_files.append(gen)\n",
        "\n",
        "print(gen_files)\n",
        "subject_list=[]\n",
        "for filename in gen_files:\n",
        "    file=filename.split('/')[7]\n",
        "    print(file) \n",
        "    subject_list.append(file)\n",
        "\n",
        "#Creating x meas and time csv and y label and time csv\n",
        "for filename in gen_files:\n",
        "    subject=filename.split('/')[7]\n",
        "    df1=pd.read_csv(filename+'__x.csv',  names =['acc_x', 'acc_y', 'acc_z', 'gyro_x', 'gyro_y', 'gyro_z'])\n",
        "    df2=pd.read_csv(filename+'__x_time.csv', names =['time'])\n",
        "    df1['time']=df2['time']\n",
        "    df1['time']=df1['time'].apply(lambda x:int(x*100)/100)\n",
        "    #df1['time']=df1['time'].apply(lambda x:format{x,\".2f\"})\n",
        "    df1['time']=df1['time'].astype(str)\n",
        "    df1.to_csv('/content/drive/MyDrive/NN Dataset/TestProcessData/'+subject+'x_time.csv',index=False)"
      ],
      "metadata": {
        "colab": {
          "base_uri": "https://localhost:8080/"
        },
        "id": "Q4UPp71IinUP",
        "outputId": "35788e73-6f25-4084-86ad-2cb340f09bba"
      },
      "execution_count": null,
      "outputs": [
        {
          "output_type": "stream",
          "name": "stdout",
          "text": [
            "['/content/drive/MyDrive/NN Dataset/ECE542_sp2022_Project_TerrainRecognition/TestData/subject_009_01__x.csv', '/content/drive/MyDrive/NN Dataset/ECE542_sp2022_Project_TerrainRecognition/TestData/subject_010_01__x.csv', '/content/drive/MyDrive/NN Dataset/ECE542_sp2022_Project_TerrainRecognition/TestData/subject_011_01__x.csv', '/content/drive/MyDrive/NN Dataset/ECE542_sp2022_Project_TerrainRecognition/TestData/subject_012_01__x.csv']\n",
            "\n",
            "\n",
            "['/content/drive/MyDrive/NN Dataset/ECE542_sp2022_Project_TerrainRecognition/TestData/subject_009_01__x_time.csv', '/content/drive/MyDrive/NN Dataset/ECE542_sp2022_Project_TerrainRecognition/TestData/subject_010_01__x_time.csv', '/content/drive/MyDrive/NN Dataset/ECE542_sp2022_Project_TerrainRecognition/TestData/subject_011_01__x_time.csv', '/content/drive/MyDrive/NN Dataset/ECE542_sp2022_Project_TerrainRecognition/TestData/subject_012_01__x_time.csv']\n",
            "\n",
            "\n",
            "['/content/drive/MyDrive/NN Dataset/ECE542_sp2022_Project_TerrainRecognition/TestData/subject_009_01__y_time.csv', '/content/drive/MyDrive/NN Dataset/ECE542_sp2022_Project_TerrainRecognition/TestData/subject_010_01__y_time.csv', '/content/drive/MyDrive/NN Dataset/ECE542_sp2022_Project_TerrainRecognition/TestData/subject_011_01__y_time.csv', '/content/drive/MyDrive/NN Dataset/ECE542_sp2022_Project_TerrainRecognition/TestData/subject_012_01__y_time.csv']\n",
            "['/content/drive/MyDrive/NN Dataset/ECE542_sp2022_Project_TerrainRecognition/TestData/subject_009_01', '/content/drive/MyDrive/NN Dataset/ECE542_sp2022_Project_TerrainRecognition/TestData/subject_010_01', '/content/drive/MyDrive/NN Dataset/ECE542_sp2022_Project_TerrainRecognition/TestData/subject_011_01', '/content/drive/MyDrive/NN Dataset/ECE542_sp2022_Project_TerrainRecognition/TestData/subject_012_01']\n",
            "subject_009_01\n",
            "subject_010_01\n",
            "subject_011_01\n",
            "subject_012_01\n"
          ]
        }
      ]
    },
    {
      "cell_type": "code",
      "source": [
        "import pickle\n",
        "rf_model = pickle.load(open('/content/drive/MyDrive/nnmodels/lstm_model_with_decay_fc.pt', 'rb'))\n",
        "x_test_009 = pd.read_csv('/content/drive/MyDrive/NN Dataset/TestProcessData/subject_009_01x_time.csv')\n",
        "x_test_010 = pd.read_csv('/content/drive/MyDrive/NN Dataset/TestProcessData/subject_010_01x_time.csv')\n",
        "x_test_011 = pd.read_csv('/content/drive/MyDrive/NN Dataset/TestProcessData/subject_011_01x_time.csv')\n",
        "x_test_012 = pd.read_csv('/content/drive/MyDrive/NN Dataset/TestProcessData/subject_012_01x_time.csv')\n",
        "\n",
        "y_pred_RF_009 = rf_model.predict(x_test_009)\n",
        "y_pred_RF_010 = rf_model.predict(x_test_010)\n",
        "y_pred_RF_011 = rf_model.predict(x_test_011)\n",
        "y_pred_RF_012 = rf_model.predict(x_test_012)\n",
        "\n",
        "y_pred_RF_009"
      ],
      "metadata": {
        "colab": {
          "base_uri": "https://localhost:8080/"
        },
        "id": "TNCsnFuOi3Yn",
        "outputId": "4145ea52-5936-4e40-87da-473bd7ffd0aa"
      },
      "execution_count": null,
      "outputs": [
        {
          "output_type": "execute_result",
          "data": {
            "text/plain": [
              "array([0., 0., 0., ..., 0., 0., 0.])"
            ]
          },
          "metadata": {},
          "execution_count": 15
        }
      ]
    },
    {
      "cell_type": "code",
      "source": [
        "import numpy as np\n",
        "np.savetxt(\"/content/drive/MyDrive/NN Dataset/TestResults/RF/subject_009_01__y_prediction.csv\", y_pred_RF_009, delimiter=\",\")\n",
        "np.savetxt(\"/content/drive/MyDrive/NN Dataset/TestResults/RF/subject_010_01__y_prediction.csv\", y_pred_RF_010, delimiter=\",\")\n",
        "np.savetxt(\"/content/drive/MyDrive/NN Dataset/TestResults/RF/subject_011_01__y_prediction.csv\", y_pred_RF_011, delimiter=\",\")\n",
        "np.savetxt(\"/content/drive/MyDrive/NN Dataset/TestResults/RF/subject_012_01__y_prediction.csv\", y_pred_RF_012, delimiter=\",\")\n"
      ],
      "metadata": {
        "id": "aRWilEGyk0-Q"
      },
      "execution_count": null,
      "outputs": []
    },
    {
      "cell_type": "code",
      "source": [
        "#Creating x meas and time csv and y label and time csv\n",
        "for filename in gen_files:\n",
        "    subject=filename.split('/')[7]\n",
        "    df1=pd.read_csv(filename+'__y_time.csv', names =['time'])\n",
        "    df1['time']=df1['time'].apply(lambda x:int(x*100)/100)\n",
        "    #df1['time']=df1['time'].apply(lambda x:format{x,\".2f\"})\n",
        "    df1['time']=df1['time'].astype(str)\n",
        "    df1.to_csv('/content/drive/MyDrive/NN Dataset/TestProcessData/'+subject+'y_time.csv',index=False)"
      ],
      "metadata": {
        "id": "w1svqzFclVGT"
      },
      "execution_count": null,
      "outputs": []
    },
    {
      "cell_type": "code",
      "source": [
        "x_test_009 = pd.read_csv('/content/drive/MyDrive/NN Dataset/TestProcessData/subject_009_01x_time.csv')\n",
        "y_test_009 = pd.read_csv('/content/drive/MyDrive/NN Dataset/TestResults/RF/subject_009_01__y_prediction.csv')\n",
        "y_time_009 = pd.read_csv('/content/drive/MyDrive/NN Dataset/TestProcessData/subject_009_01y_time.csv')\n",
        "\n",
        "x_test_009 = x_test_009.loc[x_test_009['time']!=0]\n",
        "x_test_009['time']=x_test_009['time'].astype(float)\n",
        "y_time_009['time']=y_time_009['time'].astype(float)\n",
        "x_test_009['pred'] =  y_test_009\n",
        "x_test_009.drop(columns = ['acc_x'\t,'acc_y'\t,'acc_z',\t'gyro_x',\t'gyro_y'\t,'gyro_z'], inplace = True)\n",
        "x_test_009"
      ],
      "metadata": {
        "colab": {
          "base_uri": "https://localhost:8080/",
          "height": 424
        },
        "id": "QUtiisSLoNZ3",
        "outputId": "dfc1accc-e3ed-4040-8a81-8bdd69cd0d58"
      },
      "execution_count": null,
      "outputs": [
        {
          "output_type": "execute_result",
          "data": {
            "text/plain": [
              "         time  pred\n",
              "1        0.02   0.0\n",
              "2        0.05   0.0\n",
              "3        0.07   0.0\n",
              "4        0.10   0.0\n",
              "5        0.12   0.0\n",
              "...       ...   ...\n",
              "37986  949.65   0.0\n",
              "37987  949.67   0.0\n",
              "37988  949.70   0.0\n",
              "37989  949.72   0.0\n",
              "37990  949.75   NaN\n",
              "\n",
              "[37990 rows x 2 columns]"
            ],
            "text/html": [
              "\n",
              "  <div id=\"df-bc0a880f-62b4-4d53-a3b1-a0359dfb6b32\">\n",
              "    <div class=\"colab-df-container\">\n",
              "      <div>\n",
              "<style scoped>\n",
              "    .dataframe tbody tr th:only-of-type {\n",
              "        vertical-align: middle;\n",
              "    }\n",
              "\n",
              "    .dataframe tbody tr th {\n",
              "        vertical-align: top;\n",
              "    }\n",
              "\n",
              "    .dataframe thead th {\n",
              "        text-align: right;\n",
              "    }\n",
              "</style>\n",
              "<table border=\"1\" class=\"dataframe\">\n",
              "  <thead>\n",
              "    <tr style=\"text-align: right;\">\n",
              "      <th></th>\n",
              "      <th>time</th>\n",
              "      <th>pred</th>\n",
              "    </tr>\n",
              "  </thead>\n",
              "  <tbody>\n",
              "    <tr>\n",
              "      <th>1</th>\n",
              "      <td>0.02</td>\n",
              "      <td>0.0</td>\n",
              "    </tr>\n",
              "    <tr>\n",
              "      <th>2</th>\n",
              "      <td>0.05</td>\n",
              "      <td>0.0</td>\n",
              "    </tr>\n",
              "    <tr>\n",
              "      <th>3</th>\n",
              "      <td>0.07</td>\n",
              "      <td>0.0</td>\n",
              "    </tr>\n",
              "    <tr>\n",
              "      <th>4</th>\n",
              "      <td>0.10</td>\n",
              "      <td>0.0</td>\n",
              "    </tr>\n",
              "    <tr>\n",
              "      <th>5</th>\n",
              "      <td>0.12</td>\n",
              "      <td>0.0</td>\n",
              "    </tr>\n",
              "    <tr>\n",
              "      <th>...</th>\n",
              "      <td>...</td>\n",
              "      <td>...</td>\n",
              "    </tr>\n",
              "    <tr>\n",
              "      <th>37986</th>\n",
              "      <td>949.65</td>\n",
              "      <td>0.0</td>\n",
              "    </tr>\n",
              "    <tr>\n",
              "      <th>37987</th>\n",
              "      <td>949.67</td>\n",
              "      <td>0.0</td>\n",
              "    </tr>\n",
              "    <tr>\n",
              "      <th>37988</th>\n",
              "      <td>949.70</td>\n",
              "      <td>0.0</td>\n",
              "    </tr>\n",
              "    <tr>\n",
              "      <th>37989</th>\n",
              "      <td>949.72</td>\n",
              "      <td>0.0</td>\n",
              "    </tr>\n",
              "    <tr>\n",
              "      <th>37990</th>\n",
              "      <td>949.75</td>\n",
              "      <td>NaN</td>\n",
              "    </tr>\n",
              "  </tbody>\n",
              "</table>\n",
              "<p>37990 rows × 2 columns</p>\n",
              "</div>\n",
              "      <button class=\"colab-df-convert\" onclick=\"convertToInteractive('df-bc0a880f-62b4-4d53-a3b1-a0359dfb6b32')\"\n",
              "              title=\"Convert this dataframe to an interactive table.\"\n",
              "              style=\"display:none;\">\n",
              "        \n",
              "  <svg xmlns=\"http://www.w3.org/2000/svg\" height=\"24px\"viewBox=\"0 0 24 24\"\n",
              "       width=\"24px\">\n",
              "    <path d=\"M0 0h24v24H0V0z\" fill=\"none\"/>\n",
              "    <path d=\"M18.56 5.44l.94 2.06.94-2.06 2.06-.94-2.06-.94-.94-2.06-.94 2.06-2.06.94zm-11 1L8.5 8.5l.94-2.06 2.06-.94-2.06-.94L8.5 2.5l-.94 2.06-2.06.94zm10 10l.94 2.06.94-2.06 2.06-.94-2.06-.94-.94-2.06-.94 2.06-2.06.94z\"/><path d=\"M17.41 7.96l-1.37-1.37c-.4-.4-.92-.59-1.43-.59-.52 0-1.04.2-1.43.59L10.3 9.45l-7.72 7.72c-.78.78-.78 2.05 0 2.83L4 21.41c.39.39.9.59 1.41.59.51 0 1.02-.2 1.41-.59l7.78-7.78 2.81-2.81c.8-.78.8-2.07 0-2.86zM5.41 20L4 18.59l7.72-7.72 1.47 1.35L5.41 20z\"/>\n",
              "  </svg>\n",
              "      </button>\n",
              "      \n",
              "  <style>\n",
              "    .colab-df-container {\n",
              "      display:flex;\n",
              "      flex-wrap:wrap;\n",
              "      gap: 12px;\n",
              "    }\n",
              "\n",
              "    .colab-df-convert {\n",
              "      background-color: #E8F0FE;\n",
              "      border: none;\n",
              "      border-radius: 50%;\n",
              "      cursor: pointer;\n",
              "      display: none;\n",
              "      fill: #1967D2;\n",
              "      height: 32px;\n",
              "      padding: 0 0 0 0;\n",
              "      width: 32px;\n",
              "    }\n",
              "\n",
              "    .colab-df-convert:hover {\n",
              "      background-color: #E2EBFA;\n",
              "      box-shadow: 0px 1px 2px rgba(60, 64, 67, 0.3), 0px 1px 3px 1px rgba(60, 64, 67, 0.15);\n",
              "      fill: #174EA6;\n",
              "    }\n",
              "\n",
              "    [theme=dark] .colab-df-convert {\n",
              "      background-color: #3B4455;\n",
              "      fill: #D2E3FC;\n",
              "    }\n",
              "\n",
              "    [theme=dark] .colab-df-convert:hover {\n",
              "      background-color: #434B5C;\n",
              "      box-shadow: 0px 1px 3px 1px rgba(0, 0, 0, 0.15);\n",
              "      filter: drop-shadow(0px 1px 2px rgba(0, 0, 0, 0.3));\n",
              "      fill: #FFFFFF;\n",
              "    }\n",
              "  </style>\n",
              "\n",
              "      <script>\n",
              "        const buttonEl =\n",
              "          document.querySelector('#df-bc0a880f-62b4-4d53-a3b1-a0359dfb6b32 button.colab-df-convert');\n",
              "        buttonEl.style.display =\n",
              "          google.colab.kernel.accessAllowed ? 'block' : 'none';\n",
              "\n",
              "        async function convertToInteractive(key) {\n",
              "          const element = document.querySelector('#df-bc0a880f-62b4-4d53-a3b1-a0359dfb6b32');\n",
              "          const dataTable =\n",
              "            await google.colab.kernel.invokeFunction('convertToInteractive',\n",
              "                                                     [key], {});\n",
              "          if (!dataTable) return;\n",
              "\n",
              "          const docLinkHtml = 'Like what you see? Visit the ' +\n",
              "            '<a target=\"_blank\" href=https://colab.research.google.com/notebooks/data_table.ipynb>data table notebook</a>'\n",
              "            + ' to learn more about interactive tables.';\n",
              "          element.innerHTML = '';\n",
              "          dataTable['output_type'] = 'display_data';\n",
              "          await google.colab.output.renderOutput(dataTable, element);\n",
              "          const docLink = document.createElement('div');\n",
              "          docLink.innerHTML = docLinkHtml;\n",
              "          element.appendChild(docLink);\n",
              "        }\n",
              "      </script>\n",
              "    </div>\n",
              "  </div>\n",
              "  "
            ]
          },
          "metadata": {},
          "execution_count": 97
        }
      ]
    },
    {
      "cell_type": "code",
      "source": [
        "\n",
        "def get_test_prediction(subject_num):\n",
        "  x_test = pd.read_csv('/content/drive/MyDrive/NN Dataset/TestProcessData/subject_'+subject_num+'_01x_time.csv')\n",
        "  y_test = pd.read_csv('/content/drive/MyDrive/NN Dataset/TestResults/RF/subject_'+subject_num+'_01__y_prediction.csv')\n",
        "  y_time = pd.read_csv('/content/drive/MyDrive/NN Dataset/TestProcessData/subject_'+subject_num+'_01y_time.csv')\n",
        "\n",
        "  x_test = x_test.loc[x_test['time']!=0]\n",
        "  x_test['time']=x_test['time'].astype(float)\n",
        "  y_time['time']=y_time['time'].astype(float)\n",
        "  x_test['pred'] =  y_test\n",
        "  x_test.drop(columns = ['acc_x'\t,'acc_y'\t,'acc_z',\t'gyro_x',\t'gyro_y'\t,'gyro_z'], inplace = True)\n",
        "\n",
        "  y_time_index = 0\n",
        "  index = 0\n",
        "  while index<len(x_test):\n",
        "  #for index in range(len(x_test)-1):\n",
        "    row = x_test.iloc[index]\n",
        "    if y_time_index >= len(y_time):\n",
        "      break\n",
        "    if row['time'] < y_time.iloc[y_time_index]['time']:\n",
        "      x_test.iloc[index]['time'] = y_time.iloc[y_time_index]['time']\n",
        "      index = index+1\n",
        "    elif x_test.iloc[index]['time'] == y_time.iloc[y_time_index]['time']:\n",
        "      index = index+1\n",
        "      y_time_index +=1\n",
        "    else:\n",
        "      y_time_index +=1\n",
        "\n",
        "  y_time_pred_without_group = x_test.iloc[:index]\n",
        "  y_time_pred_group = y_time_pred_without_group.groupby(['time'])\n",
        "  df = y_time_pred_group['pred'].apply(lambda x: x.value_counts().index[0]).reset_index()\n",
        "  df.drop(columns=['time'], inplace = True)\n",
        "  df.to_csv('/content/drive/MyDrive/NN Dataset/subject_'+subject_num+'_01__y.csv',index=False, header=False)\n"
      ],
      "metadata": {
        "id": "WZ8Dzk4JqZ3E"
      },
      "execution_count": null,
      "outputs": []
    },
    {
      "cell_type": "code",
      "source": [
        "get_test_prediction('009')\n",
        "get_test_prediction('010')\n",
        "get_test_prediction('011')\n",
        "get_test_prediction('012')"
      ],
      "metadata": {
        "id": "MxX2yyIr8OPy"
      },
      "execution_count": null,
      "outputs": []
    },
    {
      "cell_type": "code",
      "source": [
        "def get_test_prediction(x_test, y_time, subject_num):\n"
      ],
      "metadata": {
        "id": "IY7VnKQJ7WTG"
      },
      "execution_count": null,
      "outputs": []
    },
    {
      "cell_type": "code",
      "source": [
        "y_time_pred_without_group = x_test_009.iloc[:index+1]\n",
        "y_time_pred_without_group"
      ],
      "metadata": {
        "id": "XiP-iXNGsOWk"
      },
      "execution_count": null,
      "outputs": []
    },
    {
      "cell_type": "code",
      "source": [
        "y_time_pred_group = y_time_pred_without_group.groupby(['time'])\n",
        "df = y_time_pred_group['pred'].apply(lambda x: x.value_counts().index[0]).reset_index()\n",
        "print (df)"
      ],
      "metadata": {
        "colab": {
          "base_uri": "https://localhost:8080/"
        },
        "id": "qCxtNVwV0GPs",
        "outputId": "575e741f-0e4e-4dc2-f87e-e1edb0faa2c6"
      },
      "execution_count": null,
      "outputs": [
        {
          "output_type": "stream",
          "name": "stdout",
          "text": [
            "        time  pred\n",
            "0       0.02   0.0\n",
            "1       0.12   0.0\n",
            "2       0.22   0.0\n",
            "3       0.32   0.0\n",
            "4       0.42   0.0\n",
            "...      ...   ...\n",
            "9913  949.32   0.0\n",
            "9914  949.42   0.0\n",
            "9915  949.52   0.0\n",
            "9916  949.62   0.0\n",
            "9917  949.72   0.0\n",
            "\n",
            "[9918 rows x 2 columns]\n"
          ]
        }
      ]
    },
    {
      "cell_type": "code",
      "source": [
        "df.to_csv('/content/drive/MyDrive/NN Dataset/merged.csv',index=False)\n",
        "y_time_pred_without_group.to_csv('/content/drive/MyDrive/NN Dataset/interpolated.csv',index=False)"
      ],
      "metadata": {
        "id": "U2beL5YM1hf7"
      },
      "execution_count": null,
      "outputs": []
    },
    {
      "cell_type": "code",
      "source": [
        "x_test_009 = pd.read_csv('/content/drive/MyDrive/NN Dataset/TestProcessData/subject_009_01x_time.csv')\n",
        "y_test_009 = pd.read_csv('/content/drive/MyDrive/NN Dataset/subject_009_01__y.csv')\n",
        "y_time_009 = pd.read_csv('/content/drive/MyDrive/NN Dataset/TestProcessData/subject_009_01y_time.csv')\n",
        "\n",
        "y_test_009.shape\n",
        "\n",
        "# x = pd.concat([y_test_009['time'],y_time_009['time']]).drop_duplicates(keep=False)\n",
        "# x\n"
      ],
      "metadata": {
        "colab": {
          "base_uri": "https://localhost:8080/"
        },
        "id": "zS0uN8gwCBOj",
        "outputId": "01e38afc-f7ea-4326-bb7f-b6eb26d9fc73"
      },
      "execution_count": null,
      "outputs": [
        {
          "output_type": "execute_result",
          "data": {
            "text/plain": [
              "(9497, 2)"
            ]
          },
          "metadata": {},
          "execution_count": 117
        }
      ]
    },
    {
      "cell_type": "code",
      "source": [
        "y_pred = rf_model.predict(x_val)\n",
        "\n",
        "print('F1 Score:', metrics.f1_score(y_val, y_pred, average='macro'))\n",
        "print('Accuracy Score:', metrics.accuracy_score(y_val, y_pred))\n",
        "print('Precision score: ', metrics.precision_score(y_val, y_pred, average='macro'))\n",
        "print('Recall score: ', metrics.recall_score(y_val, y_pred, average='macro'))\n",
        "print('Accuracy Score:', metrics.accuracy_score(y_val, y_pred))\n",
        "print('Confusion Matrix:', metrics.confusion_matrix(y_val, y_pred))\n",
        "print('Mean Absolute Error:', metrics.mean_absolute_error(y_val, y_pred))\n",
        "print('Mean Squared Error:', metrics.mean_squared_error(y_val, y_pred))\n",
        "print('Root Mean Squared Error:', np.sqrt(metrics.mean_squared_error(y_val, y_pred)))"
      ],
      "metadata": {
        "colab": {
          "base_uri": "https://localhost:8080/"
        },
        "id": "UYpPyifcqU7j",
        "outputId": "f3dc4902-fdf6-461c-be23-27a22de35644"
      },
      "execution_count": null,
      "outputs": [
        {
          "output_type": "stream",
          "name": "stdout",
          "text": [
            "F1 Score: 0.9097797768751095\n",
            "Accuracy Score: 0.9108052209882337\n",
            "Precision score:  0.9099234360466042\n",
            "Recall score:  0.9107539838492922\n",
            "Accuracy Score: 0.9108052209882337\n",
            "Confusion Matrix: [[161095   7381   6098  26607]\n",
            " [  3229 195674   1023   1360]\n",
            " [  2317    783 197676    951]\n",
            " [ 17306   2417   2376 179225]]\n",
            "Mean Absolute Error: 0.2133608435813973\n",
            "Mean Squared Error: 0.5707234351063539\n",
            "Root Mean Squared Error: 0.7554623982081133\n"
          ]
        }
      ]
    },
    {
      "cell_type": "code",
      "source": [
        "print(metrics.classification_report(y_val, y_pred))"
      ],
      "metadata": {
        "colab": {
          "base_uri": "https://localhost:8080/"
        },
        "id": "fgX-zLHkteP9",
        "outputId": "8c2bc123-cc0d-49d4-e8e9-2e8781b0edeb"
      },
      "execution_count": null,
      "outputs": [
        {
          "output_type": "stream",
          "name": "stdout",
          "text": [
            "              precision    recall  f1-score   support\n",
            "\n",
            "         0.0       0.88      0.80      0.84    201181\n",
            "         1.0       0.95      0.97      0.96    201286\n",
            "         2.0       0.95      0.98      0.97    201727\n",
            "         3.0       0.86      0.89      0.88    201324\n",
            "\n",
            "    accuracy                           0.91    805518\n",
            "   macro avg       0.91      0.91      0.91    805518\n",
            "weighted avg       0.91      0.91      0.91    805518\n",
            "\n"
          ]
        }
      ]
    }
  ],
  "metadata": {
    "colab": {
      "name": "Preprocess Terrain detector.ipynb",
      "provenance": [],
      "collapsed_sections": [
        "ZShjzbf4NPPp",
        "O-4TJu9oNPPq",
        "DRoMzft5NPPr",
        "EGBi13RQNPPs",
        "nTwH9EtTNPPu",
        "IOunMXd5NPPv",
        "qLr634KwNPPx"
      ]
    },
    "kernelspec": {
      "display_name": "Python 3",
      "language": "python",
      "name": "python3"
    },
    "language_info": {
      "codemirror_mode": {
        "name": "ipython",
        "version": 3
      },
      "file_extension": ".py",
      "mimetype": "text/x-python",
      "name": "python",
      "nbconvert_exporter": "python",
      "pygments_lexer": "ipython3",
      "version": "3.8.3"
    },
    "accelerator": "GPU"
  },
  "nbformat": 4,
  "nbformat_minor": 0
}