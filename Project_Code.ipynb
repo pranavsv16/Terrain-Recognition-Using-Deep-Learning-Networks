{
  "cells": [
    {
      "cell_type": "code",
      "execution_count": null,
      "metadata": {
        "id": "4P67h_2pLcbw"
      },
      "outputs": [],
      "source": [
        "\n",
        "from io import open\n",
        "import glob\n",
        "import os\n",
        "import string\n",
        "#import torch\n",
        "import pandas as pd \n",
        "import matplotlib.pyplot as plt\n",
        "import torch.nn as nn\n",
        "import torch\n",
        "import numpy as np \n"
      ]
    },
    {
      "cell_type": "code",
      "execution_count": null,
      "metadata": {
        "colab": {
          "base_uri": "https://localhost:8080/"
        },
        "id": "fx_oNoz0OmqO",
        "outputId": "2d5696d4-bf41-4b4d-fa17-76d4210e5f38"
      },
      "outputs": [
        {
          "output_type": "stream",
          "name": "stdout",
          "text": [
            "Mounted at /content/gdrive\n"
          ]
        }
      ],
      "source": [
        "from google.colab import drive\n",
        "\n",
        "drive.mount('/content/gdrive')"
      ]
    },
    {
      "cell_type": "code",
      "execution_count": null,
      "metadata": {
        "colab": {
          "base_uri": "https://localhost:8080/",
          "height": 546
        },
        "id": "6Z6B0kFOOKYm",
        "outputId": "7ac2f3e6-4228-4c8c-f992-5273ef64e34e"
      },
      "outputs": [
        {
          "output_type": "stream",
          "name": "stdout",
          "text": [
            "1006897 55216 73068 206436\n"
          ]
        },
        {
          "output_type": "display_data",
          "data": {
            "text/plain": [
              "<Figure size 800x600 with 1 Axes>"
            ],
            "image/png": "[encoded data removed]"
          },
          "metadata": {}
        }
      ],
      "source": [
        "df=pd.read_csv('/content/gdrive/MyDrive/Interpolated_Combined/Interpolated_combined.csv')\n",
        "walking_full = df[df.label==0].count()[0]\n",
        "downstairs_full = df[df.label==1].count()[0]\n",
        "upstairs_full = df[df.label==2].count()[0]\n",
        "grass_full = df[df.label==3].count()[0]\n",
        "print(walking_full, downstairs_full,upstairs_full, grass_full)\n",
        "text = [\"standing / walking\", \"going downstairs\",\"going upstairs\", \"walking on grass\"]\n",
        "label = [walking_full, downstairs_full,upstairs_full, grass_full]\n",
        "color=[ 'red', 'green', 'blue', 'cyan']\n",
        "plt.style.use('seaborn')\n",
        "plt.figure(figsize=(8,6),dpi=100)\n",
        "for bar in range(0,4):\n",
        "    plt.bar(text[bar],label[bar], color=color[bar])\n"
      ]
    },
    {
      "cell_type": "code",
      "execution_count": null,
      "metadata": {
        "colab": {
          "base_uri": "https://localhost:8080/"
        },
        "id": "MT8cdb6AOUxw",
        "outputId": "e20b1b72-e566-4aae-a88f-fa951655c98f"
      },
      "outputs": [
        {
          "output_type": "stream",
          "name": "stdout",
          "text": [
            "tensor([[1, 0, 0, 0],\n",
            "        [1, 0, 0, 0],\n",
            "        [1, 0, 0, 0],\n",
            "        ...,\n",
            "        [1, 0, 0, 0],\n",
            "        [1, 0, 0, 0],\n",
            "        [1, 0, 0, 0]])\n"
          ]
        }
      ],
      "source": [
        "# Data partition into x_train and y_train. Remove label and time from data\n",
        "y_train = df.label\n",
        "x_train= df.drop('label', axis=1)\n",
        "x_train= x_train.drop('time', axis=1)\n",
        "y_train = torch.tensor(y_train)\n",
        "\n",
        "#One hot encoding\n",
        "\n",
        "y_train_cat=nn.functional.one_hot(y_train.long(),4).reshape(-1,4)\n",
        "print(y_train_cat)\n",
        "df_y = pd.DataFrame(y_train_cat, columns = ['l1','l2','l3','l4'])\n"
      ]
    },
    {
      "cell_type": "code",
      "execution_count": null,
      "metadata": {
        "colab": {
          "base_uri": "https://localhost:8080/"
        },
        "id": "00gr1Yf-OZci",
        "outputId": "404fdac3-7c48-444a-ce0c-cc157580efc2"
      },
      "outputs": [
        {
          "output_type": "stream",
          "name": "stdout",
          "text": [
            "               ax        ay        az        gx        gy        gz\n",
            "0        0.620543  0.045290 -0.567099  0.000351 -0.018272  0.083457\n",
            "1        0.682938  0.054657 -0.570337  0.001033 -0.001082  0.089309\n",
            "2        0.736081  0.055088 -0.568419  0.007191 -0.022229  0.069323\n",
            "3        0.676755  0.012346 -0.577995  0.005263 -0.044493  0.060374\n",
            "4        0.627449  0.034983 -0.577198  0.002453 -0.015124  0.065937\n",
            "...           ...       ...       ...       ...       ...       ...\n",
            "1341612  0.251684  0.127635 -1.716335 -0.001023 -0.014647  0.089143\n",
            "1341613  0.253931  0.128546 -1.719921 -0.000847 -0.016142  0.087803\n",
            "1341614  0.253695  0.127799 -1.723325 -0.002069 -0.018029  0.089157\n",
            "1341615  0.258522  0.127588 -1.722741 -0.001386 -0.016478  0.090215\n",
            "1341616  0.254385  0.126340 -1.719718 -0.001427 -0.016218  0.087803\n",
            "\n",
            "[1341617 rows x 6 columns]\n"
          ]
        }
      ],
      "source": [
        "# Standardize the data\n",
        "from sklearn.preprocessing import StandardScaler\n",
        "scaler = StandardScaler()\n",
        "scaler = scaler.fit(x_train)\n",
        "df_x_scale = scaler.transform(x_train)\n",
        "df_x_scale = pd.DataFrame(df_x_scale, columns = ['ax','ay','az','gx','gy','gz'])\n",
        "print(df_x_scale)\n",
        "df_x_scale=df_x_scale.astype(np.float32)"
      ]
    },
    {
      "cell_type": "code",
      "execution_count": null,
      "metadata": {
        "colab": {
          "base_uri": "https://localhost:8080/"
        },
        "id": "XkDO-AwPOdPo",
        "outputId": "e211d81e-5a43-4730-bdac-63f669322f8e"
      },
      "outputs": [
        {
          "output_type": "stream",
          "name": "stdout",
          "text": [
            "[0.24948998111979792, 0.9588436938410888, 0.9455373627495776, 0.8461289622895357]\n"
          ]
        }
      ],
      "source": [
        "#Calculate weights of each class for weighted cross entropy loss\n",
        "import math\n",
        "total_samples = walking_full + downstairs_full + upstairs_full + grass_full\n",
        "class_weights = [1-(walking_full/total_samples), 1-(downstairs_full/total_samples), 1-(upstairs_full/total_samples), 1-(grass_full/total_samples)]\n",
        "print(class_weights)\n",
        "#[0.24948998111979792, 0.9588436938410888, 0.9455373627495776, 0.8461289622895357]\n",
        "#Define the loss function\n",
        "#criterion = nn.CrossEntropyLoss(weight = class_weights)"
      ]
    },
    {
      "cell_type": "code",
      "execution_count": null,
      "metadata": {
        "colab": {
          "base_uri": "https://localhost:8080/"
        },
        "id": "a9ft32iwOHWq",
        "outputId": "922d7292-acb0-4557-c185-7fc7df18d13a"
      },
      "outputs": [
        {
          "output_type": "stream",
          "name": "stdout",
          "text": [
            "(32722, 40, 6) (32722, 40, 4)\n"
          ]
        }
      ],
      "source": [
        "# Window size\n",
        "\n",
        "def define_windows(df_x, df_y, windowsize=120):\n",
        "  window_x=[]\n",
        "  window_y=[]\n",
        "  for i in range(0, len(df_x)-windowsize, windowsize+1):\n",
        "    window_x.append([df_x.values[i:i+windowsize]])\n",
        "    window_y.append([df_y.values[i:i+windowsize]])\n",
        "    #window_y.append([df_y[['l1','l2','l3','l4']].values[i:i+windowsize]])\n",
        "  window_x=np.array(window_x).reshape(-1,windowsize,6)\n",
        "  window_y=np.array(window_y).reshape(-1,windowsize,4)\n",
        "\n",
        "  return window_x, window_y\n",
        "wsize = 40\n",
        "x_window, y_window = define_windows(df_x_scale, df_y, wsize)\n",
        "print(x_window.shape, y_window.shape)"
      ]
    },
    {
      "cell_type": "code",
      "execution_count": null,
      "metadata": {
        "id": "ewXKnog5ZQ4o"
      },
      "outputs": [],
      "source": [
        "#split the data into training and testing\n",
        "from sklearn.model_selection import train_test_split\n",
        "x_train,x_val,y_train,y_val=train_test_split(x_window, y_window, test_size=0.3,random_state=123)\n"
      ]
    },
    {
      "cell_type": "code",
      "execution_count": null,
      "metadata": {
        "id": "WDFK2OsCdI_o"
      },
      "outputs": [],
      "source": [
        "class LSTMModel(nn.Module):\n",
        "    def __init__(self, input_size, hidden_size, output_size,batch_size,seq_len):\n",
        "        super(LSTMModel, self).__init__()\n",
        "        \n",
        "        self.hidden_size = hidden_size\n",
        "        self.seq_len = seq_len\n",
        "        self.input_size = input_size\n",
        "        self.batch_size = 0\n",
        "        self.bilstm = nn.LSTM(input_size, hidden_size, batch_first=True, bidirectional=True)\n",
        "        self.lstm = nn.LSTM(2*hidden_size,hidden_size,batch_first=True)\n",
        "        self.layer_dim = 1\n",
        "        self.dropout1 = nn.Dropout(0.2)\n",
        "        self.dropout2 = nn.Dropout(0.1)\n",
        "        #self.bn1 = nn.LayerNorm()\n",
        "        #self.g = nn.Linear(input_size + hidden_size, hidden_size)\n",
        "        self.fc1 = nn.Linear(hidden_size, 64)\n",
        "        self.fc2 = nn.Linear(64,output_size)\n",
        "        self.fc = nn.Linear(hidden_size,output_size)\n",
        "        self.relu = nn.ReLU()\n",
        "        #self.softmax = nn.Softmax()\n",
        "        #self.dropout1 = nn.Dropout(0.2)\n",
        "        #self.dropout2 = nn.Dropout(0.2)\n",
        "        \n",
        "    def forward(self, input,hidden):\n",
        "        # N = input.size\n",
        "        # L = input.shape[1]\n",
        "        # h_in = input.shape[2]\n",
        "        #print(\"hi\")\n",
        "        #hidden = self.initHidden()\n",
        "        #self.batch_size = input.shape[0]\n",
        "        batch_size = input.shape[0]\n",
        "        #batch_size = self.batch_size\n",
        "        hidden_0,cellState_0 = self.bilstm(input,hidden)\n",
        "        #hidden_0 = self.dropout1(hidden_0)\n",
        "        hidden = self.initHidden1(batch_size)\n",
        "        #cell = self.initCell()\n",
        "        #hidden_0_d = self.dropout1(hidden_0)\n",
        "        #hidden_0_d_n = nn.LayerNorm(hidden_0_d.tolist())\n",
        "        hidden_1,cellState_1 = self.lstm(hidden_0.float(),hidden)\n",
        "        #hidden_1 = self.dropout2(hidden_1)\n",
        "        #hidden_1_d = self.dropout2(hidden_1)\n",
        "        #hidden_1_d_n = nn.LayerNorm(hidden_1_d.tolist())\n",
        "        data = self.relu(self.fc1(hidden_1.float()))\n",
        "        output = self.relu(self.fc2(data))\n",
        "        #data = data.contiguous()\n",
        "        #output = self.softmax(self.fc2(data))\n",
        "        return output\n",
        "\n",
        "    def initHidden(self,batch_size):\n",
        "        \n",
        "        return ((torch.zeros(2, batch_size,self.hidden_size)),(torch.zeros(2, batch_size,self.hidden_size)))\n",
        "    def initHidden1(self,batch_size):\n",
        "        return ((torch.zeros(1, batch_size,self.hidden_size)),(torch.zeros(1, batch_size,self.hidden_size)))\n",
        "    \n",
        "    \n",
        "    # def initCell(self):\n",
        "    #      return (torch.zeros(1, self.hidden_size))\n",
        "\n"
      ]
    },
    {
      "cell_type": "code",
      "execution_count": null,
      "metadata": {
        "id": "5uOi16zhWwyh"
      },
      "outputs": [],
      "source": [
        "hidden_size = 128\n",
        "batch_size = 512\n",
        "seq_len = 40\n",
        "output_size = 4\n",
        "input_size = 6\n",
        "#/content/gdrive/MyDrive/nnmodels/bi_lstm_model_fc2.pt\n",
        "model= LSTMModel(input_size,hidden_size,output_size,batch_size,seq_len)\n",
        "#bi_lstm_model = LSTMModel1(1, 128, 6, 512)\n",
        "#hidden = bi_lstm_model.initHidden()\n",
        "\n",
        "#Optimizer, criterion, parameters\n"
      ]
    },
    {
      "cell_type": "code",
      "execution_count": null,
      "metadata": {
        "id": "7tiJqdTeqGrm",
        "colab": {
          "base_uri": "https://localhost:8080/"
        },
        "outputId": "b4447fa7-c2d6-44db-87cc-df797b2b37bc"
      },
      "outputs": [
        {
          "output_type": "execute_result",
          "data": {
            "text/plain": [
              "<All keys matched successfully>"
            ]
          },
          "metadata": {},
          "execution_count": 12
        }
      ],
      "source": [
        "import csv\n",
        "model_save_name = 'bi_lstm_model_fc2.pt'\n",
        "path = F\"/content/gdrive/MyDrive/nnmodels/{model_save_name}\"\n",
        "model.load_state_dict(torch.load(path))"
      ]
    },
    {
      "cell_type": "code",
      "source": [
        "pip install pytorch-model-summary"
      ],
      "metadata": {
        "colab": {
          "base_uri": "https://localhost:8080/"
        },
        "id": "FhOOQ7OVdBDK",
        "outputId": "ad645c0f-8c85-4227-8711-b0daf29a83b6"
      },
      "execution_count": null,
      "outputs": [
        {
          "output_type": "stream",
          "name": "stdout",
          "text": [
            "Collecting pytorch-model-summary\n",
            "  Downloading pytorch_model_summary-0.1.2-py3-none-any.whl (9.3 kB)\n",
            "Requirement already satisfied: tqdm in /usr/local/lib/python3.7/dist-packages (from pytorch-model-summary) (4.64.0)\n",
            "Requirement already satisfied: numpy in /usr/local/lib/python3.7/dist-packages (from pytorch-model-summary) (1.21.6)\n",
            "Requirement already satisfied: torch in /usr/local/lib/python3.7/dist-packages (from pytorch-model-summary) (1.11.0+cu113)\n",
            "Requirement already satisfied: typing-extensions in /usr/local/lib/python3.7/dist-packages (from torch->pytorch-model-summary) (4.2.0)\n",
            "Installing collected packages: pytorch-model-summary\n",
            "Successfully installed pytorch-model-summary-0.1.2\n"
          ]
        }
      ]
    },
    {
      "cell_type": "code",
      "source": [
        "from pytorch_model_summary import summary\n",
        "\n",
        "summary(bi_lstm_model_h256_dropout_2_1_120_same_w,torch.zeros(512,40,6),((torch.zeros(2, batch_size,hidden_size)),(torch.zeros(2, batch_size,hidden_size))),show_input=True)"
      ],
      "metadata": {
        "id": "jIpXqFukbrFk"
      },
      "execution_count": null,
      "outputs": []
    },
    {
      "cell_type": "code",
      "source": [
        "from torchsummary import summary\n",
        "#summary(bi_lstm_model_h256_dropout_2_1_120_same_w,torch.zeros(512,40,6),torch.zeros(2,512,258))"
      ],
      "metadata": {
        "id": "W-nh3Vb4dkzC"
      },
      "execution_count": null,
      "outputs": []
    },
    {
      "cell_type": "code",
      "source": [
        "pip install torch-summary"
      ],
      "metadata": {
        "colab": {
          "base_uri": "https://localhost:8080/"
        },
        "id": "INJpZ_kxelql",
        "outputId": "9218a107-be5e-4f89-92b2-b09a1246789d"
      },
      "execution_count": null,
      "outputs": [
        {
          "output_type": "stream",
          "name": "stdout",
          "text": [
            "Collecting torch-summary\n",
            "  Downloading torch_summary-1.4.5-py3-none-any.whl (16 kB)\n",
            "Installing collected packages: torch-summary\n",
            "Successfully installed torch-summary-1.4.5\n"
          ]
        }
      ]
    },
    {
      "cell_type": "code",
      "execution_count": null,
      "metadata": {
        "id": "gt3A-ikWc3eH"
      },
      "outputs": [],
      "source": [
        "def trainmodel(model,x_data,y_data,optimizer,criterion):\n",
        "  model.float()\n",
        "  #forward pass\n",
        "  hidden = model.initHidden(x_data.shape[0]) \n",
        "  model.zero_grad()\n",
        "\n",
        "  #\n",
        "  \n",
        "  summary(model,x_data,hidden)\n",
        "  return\n",
        "  output = model(x_data,hidden)\n",
        "\n",
        "  #loss and backprop\n",
        "  optimizer.zero_grad()\n",
        "  #print(y_data.shape)\n",
        "  #print(output.shape)\n",
        "  y_data = y_data.contiguous()\n",
        "  y_data = y_data.view(-1, y_data.shape[2])\n",
        "  output = output.contiguous()\n",
        "  output = output.view(-1,output.shape[2])\n",
        "  #print(y_data.shape)\n",
        "  #print(output.shape)\n",
        "  loss = criterion(output,y_data)\n",
        "  #print(loss.shape)\n",
        "  loss.sum().backward()\n",
        "  #print(loss)\n",
        "  optimizer.step()\n",
        "  \n",
        "  #print(loss.item())\n",
        "  return loss.sum().item()\n",
        " # print(output.shape)\n"
      ]
    },
    {
      "cell_type": "code",
      "execution_count": null,
      "metadata": {
        "id": "HA1g3ITpjgCA"
      },
      "outputs": [],
      "source": [
        "#learning_rate = 0.005\n",
        "criterion = nn.CrossEntropyLoss(weight = torch.Tensor(class_weights),reduction='none')\n",
        "#optimizer = torch.optim.Adam(bi_lstm_model_fc2_lrdecay.parameters(), lr=learning_rate, betas=(0.9, 0.999), eps=1e-08, weight_decay=0, amsgrad=False)\n",
        "\n"
      ]
    },
    {
      "cell_type": "code",
      "execution_count": null,
      "metadata": {
        "id": "iegpY1GsbJ__"
      },
      "outputs": [],
      "source": [
        "import csv\n",
        "model_save_name = 'bi_lstm_model_h256_dropout_2_1_120_same_w.pt'\n",
        "path = F\"/content/gdrive/MyDrive/nnmodels/{model_save_name}\"\n",
        "\n",
        "fields=['epoch','epoch_loss']\n",
        "with open('/content/gdrive/MyDrive/nnmodels/bi_lstm_model_h256_dropout_2_1_120_same_w.csv', 'w') as csvfile:\n",
        "    writer = csv.DictWriter(csvfile, fieldnames = fields)\n",
        "    writer.writeheader()"
      ]
    },
    {
      "cell_type": "code",
      "execution_count": null,
      "metadata": {
        "id": "FLDA5NFg01Ou"
      },
      "outputs": [],
      "source": [
        "fields=['epoch','epoch_loss']"
      ]
    },
    {
      "cell_type": "code",
      "execution_count": null,
      "metadata": {
        "id": "E9QVocQhbjuy"
      },
      "outputs": [],
      "source": [
        "import torch.optim.lr_scheduler as scheduler\n",
        "learning_rate = 0.001\n",
        "optimizer = torch.optim.Adam(model.parameters(), lr=learning_rate, betas=(0.9, 0.999), eps=1e-08, weight_decay=0, amsgrad=False)\n",
        "lr_scheduler = scheduler.StepLR(optimizer, step_size=75, gamma=0.5)"
      ]
    },
    {
      "cell_type": "code",
      "execution_count": null,
      "metadata": {
        "colab": {
          "base_uri": "https://localhost:8080/"
        },
        "id": "utyaq5KoRsoV",
        "outputId": "71d9c2a1-ad05-4e31-c9b5-a3f0b6b05911"
      },
      "outputs": [
        {
          "output_type": "stream",
          "name": "stdout",
          "text": [
            "epoch number:  0\n",
            "batch number:  0\n"
          ]
        },
        {
          "output_type": "stream",
          "name": "stderr",
          "text": [
            "/usr/local/lib/python3.7/dist-packages/ipykernel_launcher.py:28: DeprecationWarning: `np.float` is a deprecated alias for the builtin `float`. To silence this warning, use `float` by itself. Doing this will not modify any behavior and is safe. If you specifically wanted the numpy scalar type, use `np.float64` here.\n",
            "Deprecated in NumPy 1.20; for more details and guidance: https://numpy.org/devdocs/release/1.20.0-notes.html#deprecations\n"
          ]
        },
        {
          "output_type": "stream",
          "name": "stdout",
          "text": [
            "==========================================================================================\n",
            "Layer (type:depth-idx)                   Output Shape              Param #\n",
            "==========================================================================================\n",
            "├─LSTM: 1-1                              [-1, 40, 256]             139,264\n",
            "├─LSTM: 1-2                              [-1, 40, 128]             197,632\n",
            "├─Linear: 1-3                            [-1, 40, 64]              8,256\n",
            "├─ReLU: 1-4                              [-1, 40, 64]              --\n",
            "├─Linear: 1-5                            [-1, 40, 4]               260\n",
            "├─ReLU: 1-6                              [-1, 40, 4]               --\n",
            "==========================================================================================\n",
            "Total params: 345,412\n",
            "Trainable params: 345,412\n",
            "Non-trainable params: 0\n",
            "Total mult-adds (M): 0.34\n",
            "==========================================================================================\n",
            "Input size (MB): 0.47\n",
            "Forward/backward pass size (MB): 0.14\n",
            "Params size (MB): 1.32\n",
            "Estimated Total Size (MB): 1.92\n",
            "==========================================================================================\n"
          ]
        }
      ],
      "source": [
        "\n",
        "#total_samples\n",
        "import math\n",
        "\n",
        "no_of_batches = math.ceil(x_train.shape[0]/batch_size)\n",
        "epochs = 300\n",
        "runtime_loss =[]\n",
        "#print(no_of_batches)\n",
        "loss_epochs = []\n",
        "epoch_number = []\n",
        "for epoch in range(epochs):\n",
        "  index = 0\n",
        "  batch_loss = 0\n",
        "  print(\"epoch number: \",epoch)\n",
        "  for batch in range(no_of_batches):\n",
        "    print(\"batch number: \", batch)\n",
        "    if batch!= no_of_batches-1:\n",
        "      x_input_data = x_train[index:512+index]\n",
        "      y_input_data = y_train[index:512+index]\n",
        "      index = index+512\n",
        "      #print(x_input_data.shape)\n",
        "      \n",
        "      # trainmodel(bi_lstm_model,x_input_data,y_input_data)\n",
        "    elif batch == no_of_batches-1:\n",
        "      x_input_data = x_train[index:]\n",
        "      y_input_data = y_train[index:]\n",
        "\n",
        "    y_input_data  = y_input_data.astype(np.float)\n",
        "    x_input_data=torch.from_numpy(x_input_data)\n",
        "    #x_input_data = x_input_data.float()\n",
        "    y_input_data = torch.from_numpy(y_input_data)\n",
        "    loss = trainmodel(model,x_input_data,y_input_data,optimizer,criterion)\n",
        "    break\n",
        "    print(\"batch loss: \",loss)\n",
        "    batch_loss = batch_loss+loss\n",
        "  break\n",
        "  print(\"epoch: \",epoch, \" loss: \",batch_loss)\n",
        "  epoch_number.append(epoch)\n",
        "  loss_epochs.append(batch_loss)\n",
        "  if (epoch+1)%10 == 0:\n",
        "    print(epoch+1, \" these many epochs done\")\n",
        "    torch.save(bi_lstm_model_h256_dropout_2_1_120_same_w.state_dict(), path)\n",
        "    with open('/content/gdrive/MyDrive/nnmodels/bi_lstm_model_h256_dropout_2_1_120_same_w.csv', 'a') as csvfile:\n",
        "      writer = csv.DictWriter(csvfile, fieldnames = fields)\n",
        "      for ep,ele in zip(epoch_number,loss_epochs):\n",
        "        writer.writerows([{'epoch':ep,'epoch_loss':ele}])\n",
        "    epoch_number=[]\n",
        "    loss_epochs=[]\n",
        "  #if (epoch+1)%100 == 0:\n",
        "  lr_scheduler.step()\n",
        "  runtime_loss.append(batch_loss)\n",
        "  # if (epoch+1)%10 == 0:\n",
        "  #   print(epochs+1, \" these many epochs done\")\n",
        "  #   torch.save(bi_lstm_model_fc2.state_dict(), path)\n",
        "  # loss_epochs.append(batch_loss)\n"
      ]
    },
    {
      "cell_type": "code",
      "execution_count": null,
      "metadata": {
        "id": "ctW19cw14sP5"
      },
      "outputs": [],
      "source": [
        "from google.colab import drive\n",
        "drive.mount('/content/drive')"
      ]
    },
    {
      "cell_type": "code",
      "execution_count": null,
      "metadata": {
        "colab": {
          "base_uri": "https://localhost:8080/",
          "height": 204
        },
        "id": "8yaDiNuLmc7c",
        "outputId": "8042b688-368b-4978-b8c9-15c7bd59a03b"
      },
      "outputs": [
        {
          "ename": "NameError",
          "evalue": "ignored",
          "output_type": "error",
          "traceback": [
            "\u001b[0;31m---------------------------------------------------------------------------\u001b[0m",
            "\u001b[0;31mNameError\u001b[0m                                 Traceback (most recent call last)",
            "\u001b[0;32m<ipython-input-1-abb15f0a5f0f>\u001b[0m in \u001b[0;36m<module>\u001b[0;34m()\u001b[0m\n\u001b[0;32m----> 1\u001b[0;31m \u001b[0mdf\u001b[0m \u001b[0;34m=\u001b[0m \u001b[0mpd\u001b[0m\u001b[0;34m.\u001b[0m\u001b[0mread_csv\u001b[0m\u001b[0;34m(\u001b[0m\u001b[0;34m'/content/gdrive/MyDrive/nnmodels/bi_lstm_model_h256_dropout_2_1.csv'\u001b[0m\u001b[0;34m)\u001b[0m\u001b[0;34m\u001b[0m\u001b[0;34m\u001b[0m\u001b[0m\n\u001b[0m\u001b[1;32m      2\u001b[0m \u001b[0mloss_iter\u001b[0m \u001b[0;34m=\u001b[0m \u001b[0mdf\u001b[0m\u001b[0;34m[\u001b[0m\u001b[0;34m'epoch'\u001b[0m\u001b[0;34m]\u001b[0m\u001b[0;34m\u001b[0m\u001b[0;34m\u001b[0m\u001b[0m\n\u001b[1;32m      3\u001b[0m \u001b[0mruntime_loss\u001b[0m \u001b[0;34m=\u001b[0m \u001b[0mdf\u001b[0m\u001b[0;34m[\u001b[0m\u001b[0;34m'epoch_loss'\u001b[0m\u001b[0;34m]\u001b[0m\u001b[0;34m\u001b[0m\u001b[0;34m\u001b[0m\u001b[0m\n",
            "\u001b[0;31mNameError\u001b[0m: name 'pd' is not defined"
          ]
        }
      ],
      "source": [
        "df = pd.read_csv('/content/gdrive/MyDrive/nnmodels/bi_lstm_model_h256_dropout_2_1.csv')\n",
        "loss_iter = df['epoch']\n",
        "runtime_loss = df['epoch_loss']"
      ]
    },
    {
      "cell_type": "code",
      "execution_count": null,
      "metadata": {
        "colab": {
          "base_uri": "https://localhost:8080/",
          "height": 361
        },
        "id": "cFk5BdLkytiK",
        "outputId": "5160a35c-efe0-4bd9-9d69-29e4aec7bf2c"
      },
      "outputs": [
        {
          "data": {
            "image/png": "[encoded data removed]",
            "text/plain": [
              "<Figure size 576x396 with 1 Axes>"
            ]
          },
          "metadata": {},
          "output_type": "display_data"
        }
      ],
      "source": [
        "import matplotlib.pyplot as plt\n",
        "import matplotlib.ticker as ticker\n",
        "# loss_iter = []\n",
        "# for i in range(200):\n",
        "#   loss_iter.append(i)\n",
        "\n",
        "plt.figure()\n",
        "plt.plot(loss_iter,runtime_loss)\n",
        "plt.xlabel('Iteration')\n",
        "plt.ylabel('Training Loss')\n",
        "plt.show()"
      ]
    },
    {
      "cell_type": "code",
      "execution_count": null,
      "metadata": {
        "id": "zva11WQJ8k0Q",
        "colab": {
          "base_uri": "https://localhost:8080/"
        },
        "outputId": "7ae8cbb3-c72d-4b5e-ed25-7650ed3fc033"
      },
      "outputs": [
        {
          "output_type": "execute_result",
          "data": {
            "text/plain": [
              "<All keys matched successfully>"
            ]
          },
          "metadata": {},
          "execution_count": 18
        }
      ],
      "source": [
        "model_save_name = 'bi_lstm_model_h256_dropout_2_1_cw.pt'\n",
        "path = F\"/content/gdrive/My Drive/nnmodels/{model_save_name}\"\n",
        "bi_lstm_model_h256_dropout_2_1_cw.load_state_dict(torch.load(path))"
      ]
    },
    {
      "cell_type": "code",
      "execution_count": null,
      "metadata": {
        "id": "K81u-YbGzxhh"
      },
      "outputs": [],
      "source": [
        "import csv\n",
        "#for_example = [1, 2, 3, 4, 5, 6]\n",
        "with open('/content/gdrive/MyDrive/nnmodels/bi_lstm_model_dropout_2_1.csv', 'w', newline='') as csv_1:\n",
        "  csv_out = csv.writer(csv_1)\n",
        "  csv_out.writerows([loss_epochs[index]] for index in range(0, len(loss_epochs)))\n"
      ]
    },
    {
      "cell_type": "code",
      "execution_count": null,
      "metadata": {
        "colab": {
          "base_uri": "https://localhost:8080/"
        },
        "id": "w5SWGSmrCnrI",
        "outputId": "ec785fc3-b0d4-4552-b209-f29fe3e6dd6a"
      },
      "outputs": [
        {
          "output_type": "stream",
          "name": "stdout",
          "text": [
            "(3327, 120, 6)\n",
            "6.498046875\n",
            "9728\n",
            "6\n"
          ]
        }
      ],
      "source": [
        "print(x_val.shape)\n",
        "print(x_val.shape[0]/512)\n",
        "print(512*19)\n",
        "test_b = x_val.shape[0]//512\n",
        "print(test_b)"
      ]
    },
    {
      "cell_type": "code",
      "execution_count": null,
      "metadata": {
        "id": "dIK861LdIYEq"
      },
      "outputs": [],
      "source": [
        ""
      ]
    },
    {
      "cell_type": "code",
      "execution_count": null,
      "metadata": {
        "id": "1aXVdbztBvlr"
      },
      "outputs": [],
      "source": [
        "# def evaluation(model):\n",
        "#   confusion = torch.zeros(n_categories, n_categories)\n",
        "\n",
        "# Just return an output given a line\n",
        "def evaluate(model,x_val):\n",
        "    hidden = model.initHidden(x_val.shape[0])\n",
        "    output = model(x_val, hidden)\n",
        "\n",
        "    return output"
      ]
    },
    {
      "cell_type": "code",
      "execution_count": null,
      "metadata": {
        "colab": {
          "base_uri": "https://localhost:8080/"
        },
        "id": "h5Yk7jt0CxCh",
        "outputId": "13f054c2-f632-4408-ed15-810a3ac88c23"
      },
      "outputs": [
        {
          "output_type": "stream",
          "name": "stderr",
          "text": [
            "/usr/local/lib/python3.7/dist-packages/ipykernel_launcher.py:14: DeprecationWarning: `np.float` is a deprecated alias for the builtin `float`. To silence this warning, use `float` by itself. Doing this will not modify any behavior and is safe. If you specifically wanted the numpy scalar type, use `np.float64` here.\n",
            "Deprecated in NumPy 1.20; for more details and guidance: https://numpy.org/devdocs/release/1.20.0-notes.html#deprecations\n",
            "  \n"
          ]
        },
        {
          "output_type": "stream",
          "name": "stdout",
          "text": [
            "tensor(57183)\n",
            "tensor(114544)\n",
            "tensor(171764)\n",
            "tensor(229007)\n",
            "tensor(286206)\n"
          ]
        }
      ],
      "source": [
        "index = 0\n",
        "count = 0\n",
        "prediction_list = []\n",
        "ground_list = []\n",
        "for bat in range(test_b-1):\n",
        "  \n",
        "  x_data = x_val[index:index+512]\n",
        "  #x_data = x_val\n",
        "  y_data = y_val[index:index+512]\n",
        "  # if bat == test_b-1:\n",
        "  #   x_data = x_val[index:]\n",
        "  #   y_data = y_val[index:]\n",
        "  x_test_data=torch.from_numpy(x_data)\n",
        "  y_data  = y_data.astype(np.float)\n",
        "  y_test_data = torch.from_numpy(y_data)\n",
        "  y_predicted_data = evaluate(bi_lstm_model_h256_dropout_2_1_cw,x_test_data)\n",
        "  y_predicted_data = y_predicted_data.contiguous()\n",
        "  y_predicted_data = y_predicted_data.view(-1, y_predicted_data.shape[2])\n",
        "  y_test_data = y_test_data.contiguous()\n",
        "  y_test_data = y_test_data.view(-1,y_test_data.shape[2])\n",
        "  pred = torch.argmax(y_predicted_data,dim=1)\n",
        "  #print(pred)\n",
        "  pred_list = pred.tolist()\n",
        "  orig = torch.argmax(y_test_data,dim=1)\n",
        "  orig_list = orig.tolist()\n",
        "  prediction_list.extend(pred_list)\n",
        "  ground_list.extend(orig_list)\n",
        "  #print(y_test_data.shape)\n",
        "  count = count +torch.sum(pred==orig)\n",
        "  print(count)\n",
        "\n",
        "\n",
        "  # extracted_values = a[mask]\n",
        "  # print(extracted_values)\n",
        "\n"
      ]
    },
    {
      "cell_type": "code",
      "execution_count": null,
      "metadata": {
        "colab": {
          "base_uri": "https://localhost:8080/"
        },
        "id": "h4X0uV-pIZR3",
        "outputId": "11d5e010-6e3e-4f1b-804a-5fc2df7dbdfe"
      },
      "outputs": [
        {
          "output_type": "execute_result",
          "data": {
            "text/plain": [
              "0.93166015625"
            ]
          },
          "metadata": {},
          "execution_count": 1
        }
      ],
      "source": [
        "286206/307200"
      ]
    },
    {
      "cell_type": "code",
      "execution_count": null,
      "metadata": {
        "colab": {
          "base_uri": "https://localhost:8080/",
          "height": 186
        },
        "id": "_fZzpTwWKg7C",
        "outputId": "deb23db3-436e-431c-ba42-bea183d226fb"
      },
      "outputs": [
        {
          "output_type": "error",
          "ename": "NameError",
          "evalue": "ignored",
          "traceback": [
            "\u001b[0;31m---------------------------------------------------------------------------\u001b[0m",
            "\u001b[0;31mNameError\u001b[0m                                 Traceback (most recent call last)",
            "\u001b[0;32m<ipython-input-2-771360adcc1a>\u001b[0m in \u001b[0;36m<module>\u001b[0;34m()\u001b[0m\n\u001b[1;32m      1\u001b[0m \u001b[0;32mfrom\u001b[0m \u001b[0msklearn\u001b[0m\u001b[0;34m.\u001b[0m\u001b[0mmetrics\u001b[0m \u001b[0;32mimport\u001b[0m \u001b[0mclassification_report\u001b[0m\u001b[0;34m\u001b[0m\u001b[0;34m\u001b[0m\u001b[0m\n\u001b[0;32m----> 2\u001b[0;31m \u001b[0mprint\u001b[0m\u001b[0;34m(\u001b[0m\u001b[0mclassification_report\u001b[0m\u001b[0;34m(\u001b[0m\u001b[0mprediction_list\u001b[0m\u001b[0;34m,\u001b[0m \u001b[0mground_list\u001b[0m\u001b[0;34m)\u001b[0m\u001b[0;34m)\u001b[0m\u001b[0;34m\u001b[0m\u001b[0;34m\u001b[0m\u001b[0m\n\u001b[0m",
            "\u001b[0;31mNameError\u001b[0m: name 'prediction_list' is not defined"
          ]
        }
      ],
      "source": [
        "from sklearn.metrics import classification_report\n",
        "print(classification_report(prediction_list, ground_list))"
      ]
    },
    {
      "cell_type": "code",
      "execution_count": null,
      "metadata": {
        "id": "XRuYjfxZh1PV"
      },
      "outputs": [],
      "source": [
        ""
      ]
    },
    {
      "cell_type": "code",
      "execution_count": null,
      "metadata": {
        "id": "_1nRBMZnkeWZ"
      },
      "outputs": [],
      "source": [
        ""
      ]
    }
  ],
  "metadata": {
    "colab": {
      "collapsed_sections": [],
      "name": "Projcomp-2.ipynb",
      "provenance": []
    },
    "kernelspec": {
      "display_name": "Python 3",
      "name": "python3"
    },
    "language_info": {
      "name": "python"
    }
  },
  "nbformat": 4,
  "nbformat_minor": 0
}